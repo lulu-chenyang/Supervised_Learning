{
 "cells": [
  {
   "cell_type": "code",
   "execution_count": 2,
   "metadata": {},
   "outputs": [],
   "source": [
    "import seaborn as sns\n",
    "import pandas as pd\n",
    "import numpy as np\n",
    "import sklearn\n",
    "from sklearn.metrics import classification_report,confusion_matrix,accuracy_score\n",
    "from sklearn.model_selection import train_test_split\n",
    "import matplotlib.pyplot as plt\n",
    "\n",
    "import keras\n",
    "from keras import Sequential\n",
    "from keras.models import Sequential\n",
    "from keras.optimizers import SGD,Adam,Adagrad\n",
    "from keras.layers import InputLayer, Dense \n",
    "%matplotlib inline\n",
    "\n",
    "from keras.wrappers.scikit_learn import KerasClassifier\n",
    "from sklearn.model_selection import cross_val_score,KFold\n",
    "from sklearn.preprocessing import StandardScaler\n",
    "\n",
    "from sklearn.tree import DecisionTreeClassifier # Import Decision Tree Classifier\n",
    "from sklearn.model_selection import train_test_split # Import train_test_split function\n",
    "from sklearn import metrics #Import scikit-learn metrics module for accuracy calculation\n",
    "\n",
    "# https://www.kaggle.com/aliounediop/randomforest-92-and-neuralnetwork-81\n"
   ]
  },
  {
   "cell_type": "code",
   "execution_count": 3,
   "metadata": {},
   "outputs": [],
   "source": [
    "df=pd.read_csv('mushrooms.csv')"
   ]
  },
  {
   "cell_type": "code",
   "execution_count": null,
   "metadata": {},
   "outputs": [],
   "source": []
  },
  {
   "cell_type": "code",
   "execution_count": 4,
   "metadata": {},
   "outputs": [
    {
     "data": {
      "text/html": [
       "<div>\n",
       "<style scoped>\n",
       "    .dataframe tbody tr th:only-of-type {\n",
       "        vertical-align: middle;\n",
       "    }\n",
       "\n",
       "    .dataframe tbody tr th {\n",
       "        vertical-align: top;\n",
       "    }\n",
       "\n",
       "    .dataframe thead th {\n",
       "        text-align: right;\n",
       "    }\n",
       "</style>\n",
       "<table border=\"1\" class=\"dataframe\">\n",
       "  <thead>\n",
       "    <tr style=\"text-align: right;\">\n",
       "      <th></th>\n",
       "      <th>class</th>\n",
       "      <th>cap-shape</th>\n",
       "      <th>cap-surface</th>\n",
       "      <th>cap-color</th>\n",
       "      <th>bruises</th>\n",
       "      <th>odor</th>\n",
       "      <th>gill-attachment</th>\n",
       "      <th>gill-spacing</th>\n",
       "      <th>gill-size</th>\n",
       "      <th>gill-color</th>\n",
       "      <th>...</th>\n",
       "      <th>stalk-surface-below-ring</th>\n",
       "      <th>stalk-color-above-ring</th>\n",
       "      <th>stalk-color-below-ring</th>\n",
       "      <th>veil-type</th>\n",
       "      <th>veil-color</th>\n",
       "      <th>ring-number</th>\n",
       "      <th>ring-type</th>\n",
       "      <th>spore-print-color</th>\n",
       "      <th>population</th>\n",
       "      <th>habitat</th>\n",
       "    </tr>\n",
       "  </thead>\n",
       "  <tbody>\n",
       "    <tr>\n",
       "      <th>0</th>\n",
       "      <td>p</td>\n",
       "      <td>x</td>\n",
       "      <td>s</td>\n",
       "      <td>n</td>\n",
       "      <td>t</td>\n",
       "      <td>p</td>\n",
       "      <td>f</td>\n",
       "      <td>c</td>\n",
       "      <td>n</td>\n",
       "      <td>k</td>\n",
       "      <td>...</td>\n",
       "      <td>s</td>\n",
       "      <td>w</td>\n",
       "      <td>w</td>\n",
       "      <td>p</td>\n",
       "      <td>w</td>\n",
       "      <td>o</td>\n",
       "      <td>p</td>\n",
       "      <td>k</td>\n",
       "      <td>s</td>\n",
       "      <td>u</td>\n",
       "    </tr>\n",
       "    <tr>\n",
       "      <th>1</th>\n",
       "      <td>e</td>\n",
       "      <td>x</td>\n",
       "      <td>s</td>\n",
       "      <td>y</td>\n",
       "      <td>t</td>\n",
       "      <td>a</td>\n",
       "      <td>f</td>\n",
       "      <td>c</td>\n",
       "      <td>b</td>\n",
       "      <td>k</td>\n",
       "      <td>...</td>\n",
       "      <td>s</td>\n",
       "      <td>w</td>\n",
       "      <td>w</td>\n",
       "      <td>p</td>\n",
       "      <td>w</td>\n",
       "      <td>o</td>\n",
       "      <td>p</td>\n",
       "      <td>n</td>\n",
       "      <td>n</td>\n",
       "      <td>g</td>\n",
       "    </tr>\n",
       "    <tr>\n",
       "      <th>2</th>\n",
       "      <td>e</td>\n",
       "      <td>b</td>\n",
       "      <td>s</td>\n",
       "      <td>w</td>\n",
       "      <td>t</td>\n",
       "      <td>l</td>\n",
       "      <td>f</td>\n",
       "      <td>c</td>\n",
       "      <td>b</td>\n",
       "      <td>n</td>\n",
       "      <td>...</td>\n",
       "      <td>s</td>\n",
       "      <td>w</td>\n",
       "      <td>w</td>\n",
       "      <td>p</td>\n",
       "      <td>w</td>\n",
       "      <td>o</td>\n",
       "      <td>p</td>\n",
       "      <td>n</td>\n",
       "      <td>n</td>\n",
       "      <td>m</td>\n",
       "    </tr>\n",
       "    <tr>\n",
       "      <th>3</th>\n",
       "      <td>p</td>\n",
       "      <td>x</td>\n",
       "      <td>y</td>\n",
       "      <td>w</td>\n",
       "      <td>t</td>\n",
       "      <td>p</td>\n",
       "      <td>f</td>\n",
       "      <td>c</td>\n",
       "      <td>n</td>\n",
       "      <td>n</td>\n",
       "      <td>...</td>\n",
       "      <td>s</td>\n",
       "      <td>w</td>\n",
       "      <td>w</td>\n",
       "      <td>p</td>\n",
       "      <td>w</td>\n",
       "      <td>o</td>\n",
       "      <td>p</td>\n",
       "      <td>k</td>\n",
       "      <td>s</td>\n",
       "      <td>u</td>\n",
       "    </tr>\n",
       "    <tr>\n",
       "      <th>4</th>\n",
       "      <td>e</td>\n",
       "      <td>x</td>\n",
       "      <td>s</td>\n",
       "      <td>g</td>\n",
       "      <td>f</td>\n",
       "      <td>n</td>\n",
       "      <td>f</td>\n",
       "      <td>w</td>\n",
       "      <td>b</td>\n",
       "      <td>k</td>\n",
       "      <td>...</td>\n",
       "      <td>s</td>\n",
       "      <td>w</td>\n",
       "      <td>w</td>\n",
       "      <td>p</td>\n",
       "      <td>w</td>\n",
       "      <td>o</td>\n",
       "      <td>e</td>\n",
       "      <td>n</td>\n",
       "      <td>a</td>\n",
       "      <td>g</td>\n",
       "    </tr>\n",
       "  </tbody>\n",
       "</table>\n",
       "<p>5 rows × 23 columns</p>\n",
       "</div>"
      ],
      "text/plain": [
       "  class cap-shape cap-surface cap-color bruises odor gill-attachment  \\\n",
       "0     p         x           s         n       t    p               f   \n",
       "1     e         x           s         y       t    a               f   \n",
       "2     e         b           s         w       t    l               f   \n",
       "3     p         x           y         w       t    p               f   \n",
       "4     e         x           s         g       f    n               f   \n",
       "\n",
       "  gill-spacing gill-size gill-color  ... stalk-surface-below-ring  \\\n",
       "0            c         n          k  ...                        s   \n",
       "1            c         b          k  ...                        s   \n",
       "2            c         b          n  ...                        s   \n",
       "3            c         n          n  ...                        s   \n",
       "4            w         b          k  ...                        s   \n",
       "\n",
       "  stalk-color-above-ring stalk-color-below-ring veil-type veil-color  \\\n",
       "0                      w                      w         p          w   \n",
       "1                      w                      w         p          w   \n",
       "2                      w                      w         p          w   \n",
       "3                      w                      w         p          w   \n",
       "4                      w                      w         p          w   \n",
       "\n",
       "  ring-number ring-type spore-print-color population habitat  \n",
       "0           o         p                 k          s       u  \n",
       "1           o         p                 n          n       g  \n",
       "2           o         p                 n          n       m  \n",
       "3           o         p                 k          s       u  \n",
       "4           o         e                 n          a       g  \n",
       "\n",
       "[5 rows x 23 columns]"
      ]
     },
     "execution_count": 4,
     "metadata": {},
     "output_type": "execute_result"
    }
   ],
   "source": [
    "df.head()"
   ]
  },
  {
   "cell_type": "code",
   "execution_count": 5,
   "metadata": {},
   "outputs": [
    {
     "data": {
      "text/html": [
       "<div>\n",
       "<style scoped>\n",
       "    .dataframe tbody tr th:only-of-type {\n",
       "        vertical-align: middle;\n",
       "    }\n",
       "\n",
       "    .dataframe tbody tr th {\n",
       "        vertical-align: top;\n",
       "    }\n",
       "\n",
       "    .dataframe thead th {\n",
       "        text-align: right;\n",
       "    }\n",
       "</style>\n",
       "<table border=\"1\" class=\"dataframe\">\n",
       "  <thead>\n",
       "    <tr style=\"text-align: right;\">\n",
       "      <th></th>\n",
       "      <th>class</th>\n",
       "      <th>cap-shape</th>\n",
       "      <th>cap-surface</th>\n",
       "      <th>cap-color</th>\n",
       "      <th>bruises</th>\n",
       "      <th>odor</th>\n",
       "      <th>gill-attachment</th>\n",
       "      <th>gill-spacing</th>\n",
       "      <th>gill-size</th>\n",
       "      <th>gill-color</th>\n",
       "      <th>...</th>\n",
       "      <th>stalk-surface-below-ring</th>\n",
       "      <th>stalk-color-above-ring</th>\n",
       "      <th>stalk-color-below-ring</th>\n",
       "      <th>veil-type</th>\n",
       "      <th>veil-color</th>\n",
       "      <th>ring-number</th>\n",
       "      <th>ring-type</th>\n",
       "      <th>spore-print-color</th>\n",
       "      <th>population</th>\n",
       "      <th>habitat</th>\n",
       "    </tr>\n",
       "  </thead>\n",
       "  <tbody>\n",
       "    <tr>\n",
       "      <th>count</th>\n",
       "      <td>8124</td>\n",
       "      <td>8124</td>\n",
       "      <td>8124</td>\n",
       "      <td>8124</td>\n",
       "      <td>8124</td>\n",
       "      <td>8124</td>\n",
       "      <td>8124</td>\n",
       "      <td>8124</td>\n",
       "      <td>8124</td>\n",
       "      <td>8124</td>\n",
       "      <td>...</td>\n",
       "      <td>8124</td>\n",
       "      <td>8124</td>\n",
       "      <td>8124</td>\n",
       "      <td>8124</td>\n",
       "      <td>8124</td>\n",
       "      <td>8124</td>\n",
       "      <td>8124</td>\n",
       "      <td>8124</td>\n",
       "      <td>8124</td>\n",
       "      <td>8124</td>\n",
       "    </tr>\n",
       "    <tr>\n",
       "      <th>unique</th>\n",
       "      <td>2</td>\n",
       "      <td>6</td>\n",
       "      <td>4</td>\n",
       "      <td>10</td>\n",
       "      <td>2</td>\n",
       "      <td>9</td>\n",
       "      <td>2</td>\n",
       "      <td>2</td>\n",
       "      <td>2</td>\n",
       "      <td>12</td>\n",
       "      <td>...</td>\n",
       "      <td>4</td>\n",
       "      <td>9</td>\n",
       "      <td>9</td>\n",
       "      <td>1</td>\n",
       "      <td>4</td>\n",
       "      <td>3</td>\n",
       "      <td>5</td>\n",
       "      <td>9</td>\n",
       "      <td>6</td>\n",
       "      <td>7</td>\n",
       "    </tr>\n",
       "    <tr>\n",
       "      <th>top</th>\n",
       "      <td>e</td>\n",
       "      <td>x</td>\n",
       "      <td>y</td>\n",
       "      <td>n</td>\n",
       "      <td>f</td>\n",
       "      <td>n</td>\n",
       "      <td>f</td>\n",
       "      <td>c</td>\n",
       "      <td>b</td>\n",
       "      <td>b</td>\n",
       "      <td>...</td>\n",
       "      <td>s</td>\n",
       "      <td>w</td>\n",
       "      <td>w</td>\n",
       "      <td>p</td>\n",
       "      <td>w</td>\n",
       "      <td>o</td>\n",
       "      <td>p</td>\n",
       "      <td>w</td>\n",
       "      <td>v</td>\n",
       "      <td>d</td>\n",
       "    </tr>\n",
       "    <tr>\n",
       "      <th>freq</th>\n",
       "      <td>4208</td>\n",
       "      <td>3656</td>\n",
       "      <td>3244</td>\n",
       "      <td>2284</td>\n",
       "      <td>4748</td>\n",
       "      <td>3528</td>\n",
       "      <td>7914</td>\n",
       "      <td>6812</td>\n",
       "      <td>5612</td>\n",
       "      <td>1728</td>\n",
       "      <td>...</td>\n",
       "      <td>4936</td>\n",
       "      <td>4464</td>\n",
       "      <td>4384</td>\n",
       "      <td>8124</td>\n",
       "      <td>7924</td>\n",
       "      <td>7488</td>\n",
       "      <td>3968</td>\n",
       "      <td>2388</td>\n",
       "      <td>4040</td>\n",
       "      <td>3148</td>\n",
       "    </tr>\n",
       "  </tbody>\n",
       "</table>\n",
       "<p>4 rows × 23 columns</p>\n",
       "</div>"
      ],
      "text/plain": [
       "       class cap-shape cap-surface cap-color bruises  odor gill-attachment  \\\n",
       "count   8124      8124        8124      8124    8124  8124            8124   \n",
       "unique     2         6           4        10       2     9               2   \n",
       "top        e         x           y         n       f     n               f   \n",
       "freq    4208      3656        3244      2284    4748  3528            7914   \n",
       "\n",
       "       gill-spacing gill-size gill-color  ... stalk-surface-below-ring  \\\n",
       "count          8124      8124       8124  ...                     8124   \n",
       "unique            2         2         12  ...                        4   \n",
       "top               c         b          b  ...                        s   \n",
       "freq           6812      5612       1728  ...                     4936   \n",
       "\n",
       "       stalk-color-above-ring stalk-color-below-ring veil-type veil-color  \\\n",
       "count                    8124                   8124      8124       8124   \n",
       "unique                      9                      9         1          4   \n",
       "top                         w                      w         p          w   \n",
       "freq                     4464                   4384      8124       7924   \n",
       "\n",
       "       ring-number ring-type spore-print-color population habitat  \n",
       "count         8124      8124              8124       8124    8124  \n",
       "unique           3         5                 9          6       7  \n",
       "top              o         p                 w          v       d  \n",
       "freq          7488      3968              2388       4040    3148  \n",
       "\n",
       "[4 rows x 23 columns]"
      ]
     },
     "execution_count": 5,
     "metadata": {},
     "output_type": "execute_result"
    }
   ],
   "source": [
    "df.describe()"
   ]
  },
  {
   "cell_type": "code",
   "execution_count": 6,
   "metadata": {},
   "outputs": [
    {
     "name": "stdout",
     "output_type": "stream",
     "text": [
      "Mushrooms dataset dimensions : (8124, 23)\n"
     ]
    }
   ],
   "source": [
    "print(\"Mushrooms dataset dimensions : {}\".format(df.shape))"
   ]
  },
  {
   "cell_type": "code",
   "execution_count": 7,
   "metadata": {},
   "outputs": [
    {
     "data": {
      "text/plain": [
       "class\n",
       "e    4208\n",
       "p    3916\n",
       "dtype: int64"
      ]
     },
     "execution_count": 7,
     "metadata": {},
     "output_type": "execute_result"
    }
   ],
   "source": [
    "df.groupby('class').size()"
   ]
  },
  {
   "cell_type": "code",
   "execution_count": 8,
   "metadata": {},
   "outputs": [],
   "source": [
    "# df = df.drop(columns = ['veil-type', 'bruises', 'veil-color', 'gill-attachment'])\n",
    "df = df.drop(columns = 'veil-type')"
   ]
  },
  {
   "cell_type": "code",
   "execution_count": 9,
   "metadata": {},
   "outputs": [
    {
     "data": {
      "text/html": [
       "<div>\n",
       "<style scoped>\n",
       "    .dataframe tbody tr th:only-of-type {\n",
       "        vertical-align: middle;\n",
       "    }\n",
       "\n",
       "    .dataframe tbody tr th {\n",
       "        vertical-align: top;\n",
       "    }\n",
       "\n",
       "    .dataframe thead th {\n",
       "        text-align: right;\n",
       "    }\n",
       "</style>\n",
       "<table border=\"1\" class=\"dataframe\">\n",
       "  <thead>\n",
       "    <tr style=\"text-align: right;\">\n",
       "      <th></th>\n",
       "      <th>class</th>\n",
       "      <th>cap-shape</th>\n",
       "      <th>cap-surface</th>\n",
       "      <th>cap-color</th>\n",
       "      <th>bruises</th>\n",
       "      <th>odor</th>\n",
       "      <th>gill-attachment</th>\n",
       "      <th>gill-spacing</th>\n",
       "      <th>gill-size</th>\n",
       "      <th>gill-color</th>\n",
       "      <th>...</th>\n",
       "      <th>stalk-surface-above-ring</th>\n",
       "      <th>stalk-surface-below-ring</th>\n",
       "      <th>stalk-color-above-ring</th>\n",
       "      <th>stalk-color-below-ring</th>\n",
       "      <th>veil-color</th>\n",
       "      <th>ring-number</th>\n",
       "      <th>ring-type</th>\n",
       "      <th>spore-print-color</th>\n",
       "      <th>population</th>\n",
       "      <th>habitat</th>\n",
       "    </tr>\n",
       "  </thead>\n",
       "  <tbody>\n",
       "    <tr>\n",
       "      <th>count</th>\n",
       "      <td>8124</td>\n",
       "      <td>8124</td>\n",
       "      <td>8124</td>\n",
       "      <td>8124</td>\n",
       "      <td>8124</td>\n",
       "      <td>8124</td>\n",
       "      <td>8124</td>\n",
       "      <td>8124</td>\n",
       "      <td>8124</td>\n",
       "      <td>8124</td>\n",
       "      <td>...</td>\n",
       "      <td>8124</td>\n",
       "      <td>8124</td>\n",
       "      <td>8124</td>\n",
       "      <td>8124</td>\n",
       "      <td>8124</td>\n",
       "      <td>8124</td>\n",
       "      <td>8124</td>\n",
       "      <td>8124</td>\n",
       "      <td>8124</td>\n",
       "      <td>8124</td>\n",
       "    </tr>\n",
       "    <tr>\n",
       "      <th>unique</th>\n",
       "      <td>2</td>\n",
       "      <td>6</td>\n",
       "      <td>4</td>\n",
       "      <td>10</td>\n",
       "      <td>2</td>\n",
       "      <td>9</td>\n",
       "      <td>2</td>\n",
       "      <td>2</td>\n",
       "      <td>2</td>\n",
       "      <td>12</td>\n",
       "      <td>...</td>\n",
       "      <td>4</td>\n",
       "      <td>4</td>\n",
       "      <td>9</td>\n",
       "      <td>9</td>\n",
       "      <td>4</td>\n",
       "      <td>3</td>\n",
       "      <td>5</td>\n",
       "      <td>9</td>\n",
       "      <td>6</td>\n",
       "      <td>7</td>\n",
       "    </tr>\n",
       "    <tr>\n",
       "      <th>top</th>\n",
       "      <td>e</td>\n",
       "      <td>x</td>\n",
       "      <td>y</td>\n",
       "      <td>n</td>\n",
       "      <td>f</td>\n",
       "      <td>n</td>\n",
       "      <td>f</td>\n",
       "      <td>c</td>\n",
       "      <td>b</td>\n",
       "      <td>b</td>\n",
       "      <td>...</td>\n",
       "      <td>s</td>\n",
       "      <td>s</td>\n",
       "      <td>w</td>\n",
       "      <td>w</td>\n",
       "      <td>w</td>\n",
       "      <td>o</td>\n",
       "      <td>p</td>\n",
       "      <td>w</td>\n",
       "      <td>v</td>\n",
       "      <td>d</td>\n",
       "    </tr>\n",
       "    <tr>\n",
       "      <th>freq</th>\n",
       "      <td>4208</td>\n",
       "      <td>3656</td>\n",
       "      <td>3244</td>\n",
       "      <td>2284</td>\n",
       "      <td>4748</td>\n",
       "      <td>3528</td>\n",
       "      <td>7914</td>\n",
       "      <td>6812</td>\n",
       "      <td>5612</td>\n",
       "      <td>1728</td>\n",
       "      <td>...</td>\n",
       "      <td>5176</td>\n",
       "      <td>4936</td>\n",
       "      <td>4464</td>\n",
       "      <td>4384</td>\n",
       "      <td>7924</td>\n",
       "      <td>7488</td>\n",
       "      <td>3968</td>\n",
       "      <td>2388</td>\n",
       "      <td>4040</td>\n",
       "      <td>3148</td>\n",
       "    </tr>\n",
       "  </tbody>\n",
       "</table>\n",
       "<p>4 rows × 22 columns</p>\n",
       "</div>"
      ],
      "text/plain": [
       "       class cap-shape cap-surface cap-color bruises  odor gill-attachment  \\\n",
       "count   8124      8124        8124      8124    8124  8124            8124   \n",
       "unique     2         6           4        10       2     9               2   \n",
       "top        e         x           y         n       f     n               f   \n",
       "freq    4208      3656        3244      2284    4748  3528            7914   \n",
       "\n",
       "       gill-spacing gill-size gill-color  ... stalk-surface-above-ring  \\\n",
       "count          8124      8124       8124  ...                     8124   \n",
       "unique            2         2         12  ...                        4   \n",
       "top               c         b          b  ...                        s   \n",
       "freq           6812      5612       1728  ...                     5176   \n",
       "\n",
       "       stalk-surface-below-ring stalk-color-above-ring stalk-color-below-ring  \\\n",
       "count                      8124                   8124                   8124   \n",
       "unique                        4                      9                      9   \n",
       "top                           s                      w                      w   \n",
       "freq                       4936                   4464                   4384   \n",
       "\n",
       "       veil-color ring-number ring-type spore-print-color population habitat  \n",
       "count        8124        8124      8124              8124       8124    8124  \n",
       "unique          4           3         5                 9          6       7  \n",
       "top             w           o         p                 w          v       d  \n",
       "freq         7924        7488      3968              2388       4040    3148  \n",
       "\n",
       "[4 rows x 22 columns]"
      ]
     },
     "execution_count": 9,
     "metadata": {},
     "output_type": "execute_result"
    }
   ],
   "source": [
    "df.describe()"
   ]
  },
  {
   "cell_type": "code",
   "execution_count": null,
   "metadata": {},
   "outputs": [],
   "source": []
  },
  {
   "cell_type": "code",
   "execution_count": 10,
   "metadata": {},
   "outputs": [
    {
     "data": {
      "text/html": [
       "<div>\n",
       "<style scoped>\n",
       "    .dataframe tbody tr th:only-of-type {\n",
       "        vertical-align: middle;\n",
       "    }\n",
       "\n",
       "    .dataframe tbody tr th {\n",
       "        vertical-align: top;\n",
       "    }\n",
       "\n",
       "    .dataframe thead th {\n",
       "        text-align: right;\n",
       "    }\n",
       "</style>\n",
       "<table border=\"1\" class=\"dataframe\">\n",
       "  <thead>\n",
       "    <tr style=\"text-align: right;\">\n",
       "      <th></th>\n",
       "      <th>class</th>\n",
       "      <th>cap-shape</th>\n",
       "      <th>cap-surface</th>\n",
       "      <th>cap-color</th>\n",
       "      <th>bruises</th>\n",
       "      <th>odor</th>\n",
       "      <th>gill-attachment</th>\n",
       "      <th>gill-spacing</th>\n",
       "      <th>gill-size</th>\n",
       "      <th>gill-color</th>\n",
       "      <th>...</th>\n",
       "      <th>stalk-surface-above-ring</th>\n",
       "      <th>stalk-surface-below-ring</th>\n",
       "      <th>stalk-color-above-ring</th>\n",
       "      <th>stalk-color-below-ring</th>\n",
       "      <th>veil-color</th>\n",
       "      <th>ring-number</th>\n",
       "      <th>ring-type</th>\n",
       "      <th>spore-print-color</th>\n",
       "      <th>population</th>\n",
       "      <th>habitat</th>\n",
       "    </tr>\n",
       "  </thead>\n",
       "  <tbody>\n",
       "    <tr>\n",
       "      <th>0</th>\n",
       "      <td>1</td>\n",
       "      <td>5</td>\n",
       "      <td>2</td>\n",
       "      <td>4</td>\n",
       "      <td>1</td>\n",
       "      <td>6</td>\n",
       "      <td>1</td>\n",
       "      <td>0</td>\n",
       "      <td>1</td>\n",
       "      <td>4</td>\n",
       "      <td>...</td>\n",
       "      <td>2</td>\n",
       "      <td>2</td>\n",
       "      <td>7</td>\n",
       "      <td>7</td>\n",
       "      <td>2</td>\n",
       "      <td>1</td>\n",
       "      <td>4</td>\n",
       "      <td>2</td>\n",
       "      <td>3</td>\n",
       "      <td>5</td>\n",
       "    </tr>\n",
       "    <tr>\n",
       "      <th>1</th>\n",
       "      <td>0</td>\n",
       "      <td>5</td>\n",
       "      <td>2</td>\n",
       "      <td>9</td>\n",
       "      <td>1</td>\n",
       "      <td>0</td>\n",
       "      <td>1</td>\n",
       "      <td>0</td>\n",
       "      <td>0</td>\n",
       "      <td>4</td>\n",
       "      <td>...</td>\n",
       "      <td>2</td>\n",
       "      <td>2</td>\n",
       "      <td>7</td>\n",
       "      <td>7</td>\n",
       "      <td>2</td>\n",
       "      <td>1</td>\n",
       "      <td>4</td>\n",
       "      <td>3</td>\n",
       "      <td>2</td>\n",
       "      <td>1</td>\n",
       "    </tr>\n",
       "    <tr>\n",
       "      <th>2</th>\n",
       "      <td>0</td>\n",
       "      <td>0</td>\n",
       "      <td>2</td>\n",
       "      <td>8</td>\n",
       "      <td>1</td>\n",
       "      <td>3</td>\n",
       "      <td>1</td>\n",
       "      <td>0</td>\n",
       "      <td>0</td>\n",
       "      <td>5</td>\n",
       "      <td>...</td>\n",
       "      <td>2</td>\n",
       "      <td>2</td>\n",
       "      <td>7</td>\n",
       "      <td>7</td>\n",
       "      <td>2</td>\n",
       "      <td>1</td>\n",
       "      <td>4</td>\n",
       "      <td>3</td>\n",
       "      <td>2</td>\n",
       "      <td>3</td>\n",
       "    </tr>\n",
       "    <tr>\n",
       "      <th>3</th>\n",
       "      <td>1</td>\n",
       "      <td>5</td>\n",
       "      <td>3</td>\n",
       "      <td>8</td>\n",
       "      <td>1</td>\n",
       "      <td>6</td>\n",
       "      <td>1</td>\n",
       "      <td>0</td>\n",
       "      <td>1</td>\n",
       "      <td>5</td>\n",
       "      <td>...</td>\n",
       "      <td>2</td>\n",
       "      <td>2</td>\n",
       "      <td>7</td>\n",
       "      <td>7</td>\n",
       "      <td>2</td>\n",
       "      <td>1</td>\n",
       "      <td>4</td>\n",
       "      <td>2</td>\n",
       "      <td>3</td>\n",
       "      <td>5</td>\n",
       "    </tr>\n",
       "    <tr>\n",
       "      <th>4</th>\n",
       "      <td>0</td>\n",
       "      <td>5</td>\n",
       "      <td>2</td>\n",
       "      <td>3</td>\n",
       "      <td>0</td>\n",
       "      <td>5</td>\n",
       "      <td>1</td>\n",
       "      <td>1</td>\n",
       "      <td>0</td>\n",
       "      <td>4</td>\n",
       "      <td>...</td>\n",
       "      <td>2</td>\n",
       "      <td>2</td>\n",
       "      <td>7</td>\n",
       "      <td>7</td>\n",
       "      <td>2</td>\n",
       "      <td>1</td>\n",
       "      <td>0</td>\n",
       "      <td>3</td>\n",
       "      <td>0</td>\n",
       "      <td>1</td>\n",
       "    </tr>\n",
       "  </tbody>\n",
       "</table>\n",
       "<p>5 rows × 22 columns</p>\n",
       "</div>"
      ],
      "text/plain": [
       "   class  cap-shape  cap-surface  cap-color  bruises  odor  gill-attachment  \\\n",
       "0      1          5            2          4        1     6                1   \n",
       "1      0          5            2          9        1     0                1   \n",
       "2      0          0            2          8        1     3                1   \n",
       "3      1          5            3          8        1     6                1   \n",
       "4      0          5            2          3        0     5                1   \n",
       "\n",
       "   gill-spacing  gill-size  gill-color  ...  stalk-surface-above-ring  \\\n",
       "0             0          1           4  ...                         2   \n",
       "1             0          0           4  ...                         2   \n",
       "2             0          0           5  ...                         2   \n",
       "3             0          1           5  ...                         2   \n",
       "4             1          0           4  ...                         2   \n",
       "\n",
       "   stalk-surface-below-ring  stalk-color-above-ring  stalk-color-below-ring  \\\n",
       "0                         2                       7                       7   \n",
       "1                         2                       7                       7   \n",
       "2                         2                       7                       7   \n",
       "3                         2                       7                       7   \n",
       "4                         2                       7                       7   \n",
       "\n",
       "   veil-color  ring-number  ring-type  spore-print-color  population  habitat  \n",
       "0           2            1          4                  2           3        5  \n",
       "1           2            1          4                  3           2        1  \n",
       "2           2            1          4                  3           2        3  \n",
       "3           2            1          4                  2           3        5  \n",
       "4           2            1          0                  3           0        1  \n",
       "\n",
       "[5 rows x 22 columns]"
      ]
     },
     "execution_count": 10,
     "metadata": {},
     "output_type": "execute_result"
    }
   ],
   "source": [
    "from sklearn.preprocessing import LabelEncoder\n",
    "Encoder_X = LabelEncoder() \n",
    "for col in df.columns:\n",
    "    df[col] = Encoder_X.fit_transform(df[col])\n",
    "# Encoder_y=LabelEncoder()\n",
    "#replace numerical values: if the mushroom is poisonous, y = 1; if the mushroom is not poisonous, y = 0\n",
    "# y = Encoder_y.fit_transform(y)\n",
    "df.head()"
   ]
  },
  {
   "cell_type": "code",
   "execution_count": 11,
   "metadata": {},
   "outputs": [],
   "source": [
    "#Plotting the variables using histogram\n",
    "# df.hist(figsize=(30,20))"
   ]
  },
  {
   "cell_type": "code",
   "execution_count": 12,
   "metadata": {},
   "outputs": [],
   "source": [
    "#Checking for missing values\n",
    "# df.isna().sum()"
   ]
  },
  {
   "cell_type": "code",
   "execution_count": 13,
   "metadata": {},
   "outputs": [
    {
     "data": {
      "text/html": [
       "<div>\n",
       "<style scoped>\n",
       "    .dataframe tbody tr th:only-of-type {\n",
       "        vertical-align: middle;\n",
       "    }\n",
       "\n",
       "    .dataframe tbody tr th {\n",
       "        vertical-align: top;\n",
       "    }\n",
       "\n",
       "    .dataframe thead th {\n",
       "        text-align: right;\n",
       "    }\n",
       "</style>\n",
       "<table border=\"1\" class=\"dataframe\">\n",
       "  <thead>\n",
       "    <tr style=\"text-align: right;\">\n",
       "      <th></th>\n",
       "      <th>cap-shape</th>\n",
       "      <th>cap-surface</th>\n",
       "      <th>cap-color</th>\n",
       "      <th>bruises</th>\n",
       "      <th>odor</th>\n",
       "      <th>gill-attachment</th>\n",
       "      <th>gill-spacing</th>\n",
       "      <th>gill-size</th>\n",
       "      <th>gill-color</th>\n",
       "      <th>stalk-shape</th>\n",
       "      <th>...</th>\n",
       "      <th>stalk-surface-above-ring</th>\n",
       "      <th>stalk-surface-below-ring</th>\n",
       "      <th>stalk-color-above-ring</th>\n",
       "      <th>stalk-color-below-ring</th>\n",
       "      <th>veil-color</th>\n",
       "      <th>ring-number</th>\n",
       "      <th>ring-type</th>\n",
       "      <th>spore-print-color</th>\n",
       "      <th>population</th>\n",
       "      <th>habitat</th>\n",
       "    </tr>\n",
       "  </thead>\n",
       "  <tbody>\n",
       "    <tr>\n",
       "      <th>count</th>\n",
       "      <td>8124.000000</td>\n",
       "      <td>8124.000000</td>\n",
       "      <td>8124.000000</td>\n",
       "      <td>8124.000000</td>\n",
       "      <td>8124.000000</td>\n",
       "      <td>8124.000000</td>\n",
       "      <td>8124.000000</td>\n",
       "      <td>8124.000000</td>\n",
       "      <td>8124.000000</td>\n",
       "      <td>8124.000000</td>\n",
       "      <td>...</td>\n",
       "      <td>8124.000000</td>\n",
       "      <td>8124.000000</td>\n",
       "      <td>8124.000000</td>\n",
       "      <td>8124.000000</td>\n",
       "      <td>8124.000000</td>\n",
       "      <td>8124.000000</td>\n",
       "      <td>8124.000000</td>\n",
       "      <td>8124.000000</td>\n",
       "      <td>8124.000000</td>\n",
       "      <td>8124.000000</td>\n",
       "    </tr>\n",
       "    <tr>\n",
       "      <th>mean</th>\n",
       "      <td>3.348104</td>\n",
       "      <td>1.827671</td>\n",
       "      <td>4.504677</td>\n",
       "      <td>0.415559</td>\n",
       "      <td>4.144756</td>\n",
       "      <td>0.974151</td>\n",
       "      <td>0.161497</td>\n",
       "      <td>0.309207</td>\n",
       "      <td>4.810684</td>\n",
       "      <td>0.567208</td>\n",
       "      <td>...</td>\n",
       "      <td>1.575086</td>\n",
       "      <td>1.603644</td>\n",
       "      <td>5.816347</td>\n",
       "      <td>5.794682</td>\n",
       "      <td>1.965534</td>\n",
       "      <td>1.069424</td>\n",
       "      <td>2.291974</td>\n",
       "      <td>3.596750</td>\n",
       "      <td>3.644018</td>\n",
       "      <td>1.508616</td>\n",
       "    </tr>\n",
       "    <tr>\n",
       "      <th>std</th>\n",
       "      <td>1.604329</td>\n",
       "      <td>1.229873</td>\n",
       "      <td>2.545821</td>\n",
       "      <td>0.492848</td>\n",
       "      <td>2.103729</td>\n",
       "      <td>0.158695</td>\n",
       "      <td>0.368011</td>\n",
       "      <td>0.462195</td>\n",
       "      <td>3.540359</td>\n",
       "      <td>0.495493</td>\n",
       "      <td>...</td>\n",
       "      <td>0.621459</td>\n",
       "      <td>0.675974</td>\n",
       "      <td>1.901747</td>\n",
       "      <td>1.907291</td>\n",
       "      <td>0.242669</td>\n",
       "      <td>0.271064</td>\n",
       "      <td>1.801672</td>\n",
       "      <td>2.382663</td>\n",
       "      <td>1.252082</td>\n",
       "      <td>1.719975</td>\n",
       "    </tr>\n",
       "    <tr>\n",
       "      <th>min</th>\n",
       "      <td>0.000000</td>\n",
       "      <td>0.000000</td>\n",
       "      <td>0.000000</td>\n",
       "      <td>0.000000</td>\n",
       "      <td>0.000000</td>\n",
       "      <td>0.000000</td>\n",
       "      <td>0.000000</td>\n",
       "      <td>0.000000</td>\n",
       "      <td>0.000000</td>\n",
       "      <td>0.000000</td>\n",
       "      <td>...</td>\n",
       "      <td>0.000000</td>\n",
       "      <td>0.000000</td>\n",
       "      <td>0.000000</td>\n",
       "      <td>0.000000</td>\n",
       "      <td>0.000000</td>\n",
       "      <td>0.000000</td>\n",
       "      <td>0.000000</td>\n",
       "      <td>0.000000</td>\n",
       "      <td>0.000000</td>\n",
       "      <td>0.000000</td>\n",
       "    </tr>\n",
       "    <tr>\n",
       "      <th>25%</th>\n",
       "      <td>2.000000</td>\n",
       "      <td>0.000000</td>\n",
       "      <td>3.000000</td>\n",
       "      <td>0.000000</td>\n",
       "      <td>2.000000</td>\n",
       "      <td>1.000000</td>\n",
       "      <td>0.000000</td>\n",
       "      <td>0.000000</td>\n",
       "      <td>2.000000</td>\n",
       "      <td>0.000000</td>\n",
       "      <td>...</td>\n",
       "      <td>1.000000</td>\n",
       "      <td>1.000000</td>\n",
       "      <td>6.000000</td>\n",
       "      <td>6.000000</td>\n",
       "      <td>2.000000</td>\n",
       "      <td>1.000000</td>\n",
       "      <td>0.000000</td>\n",
       "      <td>2.000000</td>\n",
       "      <td>3.000000</td>\n",
       "      <td>0.000000</td>\n",
       "    </tr>\n",
       "    <tr>\n",
       "      <th>50%</th>\n",
       "      <td>3.000000</td>\n",
       "      <td>2.000000</td>\n",
       "      <td>4.000000</td>\n",
       "      <td>0.000000</td>\n",
       "      <td>5.000000</td>\n",
       "      <td>1.000000</td>\n",
       "      <td>0.000000</td>\n",
       "      <td>0.000000</td>\n",
       "      <td>5.000000</td>\n",
       "      <td>1.000000</td>\n",
       "      <td>...</td>\n",
       "      <td>2.000000</td>\n",
       "      <td>2.000000</td>\n",
       "      <td>7.000000</td>\n",
       "      <td>7.000000</td>\n",
       "      <td>2.000000</td>\n",
       "      <td>1.000000</td>\n",
       "      <td>2.000000</td>\n",
       "      <td>3.000000</td>\n",
       "      <td>4.000000</td>\n",
       "      <td>1.000000</td>\n",
       "    </tr>\n",
       "    <tr>\n",
       "      <th>75%</th>\n",
       "      <td>5.000000</td>\n",
       "      <td>3.000000</td>\n",
       "      <td>8.000000</td>\n",
       "      <td>1.000000</td>\n",
       "      <td>5.000000</td>\n",
       "      <td>1.000000</td>\n",
       "      <td>0.000000</td>\n",
       "      <td>1.000000</td>\n",
       "      <td>7.000000</td>\n",
       "      <td>1.000000</td>\n",
       "      <td>...</td>\n",
       "      <td>2.000000</td>\n",
       "      <td>2.000000</td>\n",
       "      <td>7.000000</td>\n",
       "      <td>7.000000</td>\n",
       "      <td>2.000000</td>\n",
       "      <td>1.000000</td>\n",
       "      <td>4.000000</td>\n",
       "      <td>7.000000</td>\n",
       "      <td>4.000000</td>\n",
       "      <td>2.000000</td>\n",
       "    </tr>\n",
       "    <tr>\n",
       "      <th>max</th>\n",
       "      <td>5.000000</td>\n",
       "      <td>3.000000</td>\n",
       "      <td>9.000000</td>\n",
       "      <td>1.000000</td>\n",
       "      <td>8.000000</td>\n",
       "      <td>1.000000</td>\n",
       "      <td>1.000000</td>\n",
       "      <td>1.000000</td>\n",
       "      <td>11.000000</td>\n",
       "      <td>1.000000</td>\n",
       "      <td>...</td>\n",
       "      <td>3.000000</td>\n",
       "      <td>3.000000</td>\n",
       "      <td>8.000000</td>\n",
       "      <td>8.000000</td>\n",
       "      <td>3.000000</td>\n",
       "      <td>2.000000</td>\n",
       "      <td>4.000000</td>\n",
       "      <td>8.000000</td>\n",
       "      <td>5.000000</td>\n",
       "      <td>6.000000</td>\n",
       "    </tr>\n",
       "  </tbody>\n",
       "</table>\n",
       "<p>8 rows × 21 columns</p>\n",
       "</div>"
      ],
      "text/plain": [
       "         cap-shape  cap-surface    cap-color      bruises         odor  \\\n",
       "count  8124.000000  8124.000000  8124.000000  8124.000000  8124.000000   \n",
       "mean      3.348104     1.827671     4.504677     0.415559     4.144756   \n",
       "std       1.604329     1.229873     2.545821     0.492848     2.103729   \n",
       "min       0.000000     0.000000     0.000000     0.000000     0.000000   \n",
       "25%       2.000000     0.000000     3.000000     0.000000     2.000000   \n",
       "50%       3.000000     2.000000     4.000000     0.000000     5.000000   \n",
       "75%       5.000000     3.000000     8.000000     1.000000     5.000000   \n",
       "max       5.000000     3.000000     9.000000     1.000000     8.000000   \n",
       "\n",
       "       gill-attachment  gill-spacing    gill-size   gill-color  stalk-shape  \\\n",
       "count      8124.000000   8124.000000  8124.000000  8124.000000  8124.000000   \n",
       "mean          0.974151      0.161497     0.309207     4.810684     0.567208   \n",
       "std           0.158695      0.368011     0.462195     3.540359     0.495493   \n",
       "min           0.000000      0.000000     0.000000     0.000000     0.000000   \n",
       "25%           1.000000      0.000000     0.000000     2.000000     0.000000   \n",
       "50%           1.000000      0.000000     0.000000     5.000000     1.000000   \n",
       "75%           1.000000      0.000000     1.000000     7.000000     1.000000   \n",
       "max           1.000000      1.000000     1.000000    11.000000     1.000000   \n",
       "\n",
       "       ...  stalk-surface-above-ring  stalk-surface-below-ring  \\\n",
       "count  ...               8124.000000               8124.000000   \n",
       "mean   ...                  1.575086                  1.603644   \n",
       "std    ...                  0.621459                  0.675974   \n",
       "min    ...                  0.000000                  0.000000   \n",
       "25%    ...                  1.000000                  1.000000   \n",
       "50%    ...                  2.000000                  2.000000   \n",
       "75%    ...                  2.000000                  2.000000   \n",
       "max    ...                  3.000000                  3.000000   \n",
       "\n",
       "       stalk-color-above-ring  stalk-color-below-ring   veil-color  \\\n",
       "count             8124.000000             8124.000000  8124.000000   \n",
       "mean                 5.816347                5.794682     1.965534   \n",
       "std                  1.901747                1.907291     0.242669   \n",
       "min                  0.000000                0.000000     0.000000   \n",
       "25%                  6.000000                6.000000     2.000000   \n",
       "50%                  7.000000                7.000000     2.000000   \n",
       "75%                  7.000000                7.000000     2.000000   \n",
       "max                  8.000000                8.000000     3.000000   \n",
       "\n",
       "       ring-number    ring-type  spore-print-color   population      habitat  \n",
       "count  8124.000000  8124.000000        8124.000000  8124.000000  8124.000000  \n",
       "mean      1.069424     2.291974           3.596750     3.644018     1.508616  \n",
       "std       0.271064     1.801672           2.382663     1.252082     1.719975  \n",
       "min       0.000000     0.000000           0.000000     0.000000     0.000000  \n",
       "25%       1.000000     0.000000           2.000000     3.000000     0.000000  \n",
       "50%       1.000000     2.000000           3.000000     4.000000     1.000000  \n",
       "75%       1.000000     4.000000           7.000000     4.000000     2.000000  \n",
       "max       2.000000     4.000000           8.000000     5.000000     6.000000  \n",
       "\n",
       "[8 rows x 21 columns]"
      ]
     },
     "execution_count": 13,
     "metadata": {},
     "output_type": "execute_result"
    }
   ],
   "source": [
    "#split dataset into features and label\n",
    "X = df.drop(columns=['class'])\n",
    "# X = X.drop(columns = ['veil-type'])\n",
    "y = df['class']\n",
    "X.describe()"
   ]
  },
  {
   "cell_type": "code",
   "execution_count": 14,
   "metadata": {},
   "outputs": [],
   "source": [
    "Encoder_y=LabelEncoder()\n",
    "y = Encoder_y.fit_transform(y)"
   ]
  },
  {
   "cell_type": "code",
   "execution_count": 15,
   "metadata": {},
   "outputs": [],
   "source": [
    " # 70% training and 30% test\n",
    "X_train, X_test, y_train, y_test = train_test_split(X, y, test_size=0.3, random_state=42)\n",
    "#What is random_state?"
   ]
  },
  {
   "cell_type": "code",
   "execution_count": 16,
   "metadata": {},
   "outputs": [
    {
     "data": {
      "text/plain": [
       "array([1, 0, 0, ..., 0, 1, 0])"
      ]
     },
     "execution_count": 16,
     "metadata": {},
     "output_type": "execute_result"
    }
   ],
   "source": [
    "y"
   ]
  },
  {
   "cell_type": "code",
   "execution_count": 17,
   "metadata": {},
   "outputs": [],
   "source": [
    "#Feature scaling\n",
    "\n",
    "from sklearn.preprocessing import StandardScaler\n",
    "sc = StandardScaler()\n",
    "\n",
    "X_train = sc.fit_transform(X_train)\n",
    "X_test = sc.transform(X_test)"
   ]
  },
  {
   "cell_type": "code",
   "execution_count": 18,
   "metadata": {},
   "outputs": [
    {
     "data": {
      "text/plain": [
       "array([[ 1.03022822,  0.13973799, -1.76668189, ..., -1.09445396,\n",
       "         0.28013546,  2.03247825],\n",
       "       [ 1.03022822, -1.48677212, -0.5885256 , ..., -0.67522295,\n",
       "         1.07299272, -0.87398302],\n",
       "       [ 1.03022822, -1.48677212, -0.5885256 , ..., -1.09445396,\n",
       "         0.28013546, -0.87398302],\n",
       "       ...,\n",
       "       [-0.85091425,  0.95299304, -0.19580684, ..., -0.25599193,\n",
       "         1.07299272,  1.45118599],\n",
       "       [-0.22386676,  0.13973799, -0.98124436, ...,  1.42093215,\n",
       "         0.28013546,  1.45118599],\n",
       "       [-0.22386676, -1.48677212, -0.5885256 , ...,  1.42093215,\n",
       "        -1.30557906, -0.29269077]])"
      ]
     },
     "execution_count": 18,
     "metadata": {},
     "output_type": "execute_result"
    }
   ],
   "source": [
    "X_train"
   ]
  },
  {
   "cell_type": "code",
   "execution_count": 19,
   "metadata": {},
   "outputs": [],
   "source": [
    "from sklearn.decomposition import PCA\n",
    "pca = PCA(n_components=2)\n",
    "\n",
    "X_train = pca.fit_transform(X_train)\n",
    "X_test = pca.transform(X_test)"
   ]
  },
  {
   "cell_type": "code",
   "execution_count": 20,
   "metadata": {},
   "outputs": [
    {
     "data": {
      "text/plain": [
       "array([[-0.37360281, -0.18740388],\n",
       "       [-1.45745777, -1.52488046],\n",
       "       [-1.49522611,  2.23523737],\n",
       "       ...,\n",
       "       [-2.65977967, -1.46748596],\n",
       "       [ 2.80404499, -0.83541794],\n",
       "       [ 0.95298106,  0.68156011]])"
      ]
     },
     "execution_count": 20,
     "metadata": {},
     "output_type": "execute_result"
    }
   ],
   "source": [
    "X_train"
   ]
  },
  {
   "cell_type": "code",
   "execution_count": 21,
   "metadata": {},
   "outputs": [],
   "source": [
    "from sklearn.model_selection import cross_val_predict, cross_val_score\n",
    "from sklearn.metrics import confusion_matrix,classification_report,accuracy_score"
   ]
  },
  {
   "cell_type": "code",
   "execution_count": 22,
   "metadata": {},
   "outputs": [],
   "source": [
    "def print_score(classifier,X_train,y_train,X_test,y_test,train=True):\n",
    "    if train == True:\n",
    "        print(\"Training results:\\n\")\n",
    "        print('Accuracy Score: {0:.4f}\\n'.format(accuracy_score(y_train,classifier.predict(X_train))))\n",
    "        print('Classification Report:\\n{}\\n'.format(classification_report(y_train,classifier.predict(X_train))))\n",
    "        print('Confusion Matrix:\\n{}\\n'.format(confusion_matrix(y_train,classifier.predict(X_train))))\n",
    "        res = cross_val_score(classifier, X_train, y_train, n_jobs=-1, scoring='accuracy')\n",
    "        print('Average Accuracy:\\t{0:.4f}\\n'.format(res.mean()))\n",
    "        print('Standard Deviation:\\t{0:.4f}'.format(res.std()))\n",
    "    elif train == False:\n",
    "        print(\"Test results:\\n\")\n",
    "        print('Accuracy Score: {0:.4f}\\n'.format(accuracy_score(y_test,classifier.predict(X_test))))\n",
    "        print('Classification Report:\\n{}\\n'.format(classification_report(y_test,classifier.predict(X_test))))\n",
    "        print('Confusion Matrix:\\n{}\\n'.format(confusion_matrix(y_test,classifier.predict(X_test))))\n",
    "        res = cross_val_score(classifier, X_train, y_train, n_jobs=-1, scoring='accuracy')\n",
    "        print('Average Accuracy:\\t{0:.4f}\\n'.format(res.mean()))\n",
    "        print('Standard Deviation:\\t{0:.4f}'.format(res.std()))"
   ]
  },
  {
   "cell_type": "code",
   "execution_count": 23,
   "metadata": {},
   "outputs": [],
   "source": [
    "# Create Decision Tree classifer object\n",
    "classifier = DecisionTreeClassifier(criterion='entropy', max_depth = 8)\n",
    "# Train Decision Tree Classifer\n",
    "classifier = classifier.fit(X_train,y_train)"
   ]
  },
  {
   "cell_type": "code",
   "execution_count": 24,
   "metadata": {},
   "outputs": [
    {
     "name": "stdout",
     "output_type": "stream",
     "text": [
      "DT Test Accuracy: 0.9384741591468416\n"
     ]
    }
   ],
   "source": [
    "#Predict the response for test dataset\n",
    "y_pred = classifier.predict(X_test)\n",
    "# Model Accuracy, how often is the classifier correct?\n",
    "DTAccuracy = metrics.accuracy_score(y_test, y_pred)\n",
    "print(\"DT Test Accuracy:\", DTAccuracy)"
   ]
  },
  {
   "cell_type": "code",
   "execution_count": null,
   "metadata": {},
   "outputs": [],
   "source": []
  },
  {
   "cell_type": "code",
   "execution_count": 25,
   "metadata": {},
   "outputs": [],
   "source": [
    "def visualization_train(model):\n",
    "    sns.set_context(context='notebook',font_scale=2)\n",
    "    plt.figure(figsize=(16,9))\n",
    "    from matplotlib.colors import ListedColormap\n",
    "    X_set, y_set = X_train, y_train\n",
    "    X1, X2 = np.meshgrid(np.arange(start = X_set[:, 0].min() - 1, stop = X_set[:, 0].max() + 1, step = 0.01),\n",
    "                     np.arange(start = X_set[:, 1].min() - 1, stop = X_set[:, 1].max() + 1, step = 0.01))\n",
    "    plt.contourf(X1, X2, classifier.predict(np.array([X1.ravel(), X2.ravel()]).T).reshape(X1.shape), alpha = 0.6, cmap = ListedColormap(('#ff3f34', '#3c40c6')))\n",
    "    plt.xlim(X1.min(), X1.max())\n",
    "    plt.ylim(X2.min(), X2.max())\n",
    "    for i, j in enumerate(np.unique(y_set)):\n",
    "        plt.scatter(X_set[y_set == j, 0], X_set[y_set == j, 1],\n",
    "                    c = ListedColormap(('#ff3f34', '#3c40c6'))(i), label = j)\n",
    "    plt.title(\"%s Training Set\" %(model))\n",
    "    plt.xlabel('PC 1')\n",
    "    plt.ylabel('PC 2')\n",
    "    plt.legend()\n",
    "    \n",
    "def visualization_test(model):\n",
    "    sns.set_context(context='notebook',font_scale=2)\n",
    "    plt.figure(figsize=(16,9))\n",
    "    from matplotlib.colors import ListedColormap\n",
    "    X_set, y_set = X_test, y_test\n",
    "    X1, X2 = np.meshgrid(np.arange(start = X_set[:, 0].min() - 1, stop = X_set[:, 0].max() + 1, step = 0.01),\n",
    "                         np.arange(start = X_set[:, 1].min() - 1, stop = X_set[:, 1].max() + 1, step = 0.01))\n",
    "    plt.contourf(X1, X2, classifier.predict(np.array([X1.ravel(), X2.ravel()]).T).reshape(X1.shape),\n",
    "                 alpha = 0.6, cmap = ListedColormap(('#ff3f34', '#3c40c6')))\n",
    "    plt.xlim(X1.min(), X1.max())\n",
    "    plt.ylim(X2.min(), X2.max())\n",
    "    for i, j in enumerate(np.unique(y_set)):\n",
    "        plt.scatter(X_set[y_set == j, 0], X_set[y_set == j, 1],\n",
    "                    c = ListedColormap(('#ff3f34', '#3c40c6'))(i), label = j)\n",
    "    plt.title(\"%s Test Set\" %(model))\n",
    "    plt.xlabel('PC 1')\n",
    "    plt.ylabel('PC 2')\n",
    "    plt.legend()"
   ]
  },
  {
   "cell_type": "code",
   "execution_count": 26,
   "metadata": {},
   "outputs": [
    {
     "name": "stdout",
     "output_type": "stream",
     "text": [
      "Training results:\n",
      "\n",
      "Accuracy Score: 0.9588\n",
      "\n",
      "Classification Report:\n",
      "              precision    recall  f1-score   support\n",
      "\n",
      "           0       0.95      0.97      0.96      2951\n",
      "           1       0.96      0.95      0.96      2735\n",
      "\n",
      "    accuracy                           0.96      5686\n",
      "   macro avg       0.96      0.96      0.96      5686\n",
      "weighted avg       0.96      0.96      0.96      5686\n",
      "\n",
      "\n",
      "Confusion Matrix:\n",
      "[[2854   97]\n",
      " [ 137 2598]]\n",
      "\n",
      "Average Accuracy:\t0.9416\n",
      "\n",
      "Standard Deviation:\t0.0044\n"
     ]
    }
   ],
   "source": [
    "print_score(classifier,X_train,y_train,X_test,y_test,train=True)"
   ]
  },
  {
   "cell_type": "code",
   "execution_count": 27,
   "metadata": {},
   "outputs": [],
   "source": [
    "# visualization_train('Decision Tree')"
   ]
  },
  {
   "cell_type": "code",
   "execution_count": 28,
   "metadata": {},
   "outputs": [
    {
     "name": "stdout",
     "output_type": "stream",
     "text": [
      "Test results:\n",
      "\n",
      "Accuracy Score: 0.9385\n",
      "\n",
      "Classification Report:\n",
      "              precision    recall  f1-score   support\n",
      "\n",
      "           0       0.94      0.95      0.94      1257\n",
      "           1       0.94      0.93      0.94      1181\n",
      "\n",
      "    accuracy                           0.94      2438\n",
      "   macro avg       0.94      0.94      0.94      2438\n",
      "weighted avg       0.94      0.94      0.94      2438\n",
      "\n",
      "\n",
      "Confusion Matrix:\n",
      "[[1189   68]\n",
      " [  82 1099]]\n",
      "\n",
      "Average Accuracy:\t0.9416\n",
      "\n",
      "Standard Deviation:\t0.0043\n"
     ]
    }
   ],
   "source": [
    "print_score(classifier,X_train,y_train,X_test,y_test,train=False)"
   ]
  },
  {
   "cell_type": "code",
   "execution_count": 29,
   "metadata": {},
   "outputs": [],
   "source": [
    "# visualization_test('Decision Tree')"
   ]
  },
  {
   "cell_type": "code",
   "execution_count": 30,
   "metadata": {},
   "outputs": [],
   "source": [
    "from sklearn.model_selection import learning_curve\n",
    "# from sklearn.svm import SVC\n",
    "from sklearn.model_selection import ShuffleSplit"
   ]
  },
  {
   "cell_type": "code",
   "execution_count": 31,
   "metadata": {},
   "outputs": [],
   "source": [
    "# train_sizes, train_scores, valid_scores = learning_curve(SVC(kernel='linear'), X, y, train_sizes=[0.6, 0.7, 0.8], cv=5)"
   ]
  },
  {
   "cell_type": "code",
   "execution_count": 32,
   "metadata": {},
   "outputs": [],
   "source": [
    "# train_scores"
   ]
  },
  {
   "cell_type": "code",
   "execution_count": 33,
   "metadata": {},
   "outputs": [],
   "source": [
    "# valid_scores"
   ]
  },
  {
   "cell_type": "code",
   "execution_count": null,
   "metadata": {},
   "outputs": [],
   "source": []
  },
  {
   "cell_type": "code",
   "execution_count": 34,
   "metadata": {},
   "outputs": [
    {
     "name": "stdout",
     "output_type": "stream",
     "text": [
      "5686.799999999999\n"
     ]
    }
   ],
   "source": [
    "print(8124*0.7)"
   ]
  },
  {
   "cell_type": "code",
   "execution_count": null,
   "metadata": {},
   "outputs": [],
   "source": []
  },
  {
   "cell_type": "code",
   "execution_count": 35,
   "metadata": {},
   "outputs": [],
   "source": [
    "test_scores = []\n",
    "train_scores = []\n",
    "\n",
    "# how to determine the 15?\n",
    "for i in range(1, 20):\n",
    "\n",
    "    clf = DecisionTreeClassifier(criterion = 'entropy', max_depth = i)\n",
    "    clf.fit(X_train,y_train)\n",
    "    \n",
    "    train_scores.append(clf.score(X_train,y_train))\n",
    "    test_scores.append(clf.score(X_test,y_test))"
   ]
  },
  {
   "cell_type": "code",
   "execution_count": 36,
   "metadata": {},
   "outputs": [
    {
     "name": "stdout",
     "output_type": "stream",
     "text": [
      "[0.7255947497949139, 0.7834290401968826, 0.9073010664479081, 0.9073010664479081, 0.9327317473338802, 0.938884331419196, 0.938884331419196, 0.9397046759639048, 0.9392945036915504, 0.9351927809680065, 0.933552091878589, 0.9315012305168171, 0.9310910582444627, 0.9306808859721083, 0.9294503691550451, 0.9315012305168171, 0.9273995077932732, 0.9290401968826907, 0.9294503691550451]\n"
     ]
    }
   ],
   "source": [
    "print(test_scores)"
   ]
  },
  {
   "cell_type": "code",
   "execution_count": 37,
   "metadata": {},
   "outputs": [
    {
     "name": "stdout",
     "output_type": "stream",
     "text": [
      "Max train score 99.52514948997538 % and max_depth = [19]\n"
     ]
    }
   ],
   "source": [
    "## score that comes from testing on the same datapoints that were used for training\n",
    "max_train_score = max(train_scores)\n",
    "train_scores_ind = [i for i, v in enumerate(train_scores) if v == max_train_score]\n",
    "print('Max train score {} % and max_depth = {}'.format(max_train_score*100,list(map(lambda x: x+1, train_scores_ind))))"
   ]
  },
  {
   "cell_type": "code",
   "execution_count": 38,
   "metadata": {},
   "outputs": [
    {
     "name": "stdout",
     "output_type": "stream",
     "text": [
      "Max test score 93.97046759639048 % and max_depth = [8]\n",
      "8\n"
     ]
    }
   ],
   "source": [
    "## score that comes from testing on the datapoints that were split in the beginning to be used for testing solely\n",
    "max_test_score = max(test_scores)\n",
    "test_scores_ind = [i for i, v in enumerate(test_scores) if v == max_test_score]\n",
    "print('Max test score {} % and max_depth = {}'.format(max_test_score*100,list(map(lambda x: x+1, test_scores_ind))))\n",
    "k=list(map(lambda x: x+1, test_scores_ind))[0]\n",
    "print(k)"
   ]
  },
  {
   "cell_type": "code",
   "execution_count": 39,
   "metadata": {},
   "outputs": [
    {
     "data": {
      "image/png": "[encoded data removed]",
      "text/plain": [
       "<Figure size 864x360 with 1 Axes>"
      ]
     },
     "metadata": {
      "needs_background": "light"
     },
     "output_type": "display_data"
    }
   ],
   "source": [
    "plt.figure(figsize=(12,5))\n",
    "p = sns.lineplot(range(1,20),train_scores,marker='*',label='Train Score')\n",
    "p = sns.lineplot(range(1,20),test_scores,marker='o',label='Test Score')"
   ]
  },
  {
   "cell_type": "code",
   "execution_count": null,
   "metadata": {},
   "outputs": [],
   "source": []
  },
  {
   "cell_type": "code",
   "execution_count": null,
   "metadata": {},
   "outputs": [],
   "source": []
  },
  {
   "cell_type": "code",
   "execution_count": 40,
   "metadata": {},
   "outputs": [],
   "source": [
    "###NEURAL NETWORK MLP\n",
    "#https://scikit-learn.org/stable/modules/neural_networks_supervised.html#classification\n",
    "# https://scikit-learn.org/stable/modules/generated/sklearn.neural_network.MLPClassifier.html#sklearn.neural_network.MLPClassifier\n",
    "from sklearn.neural_network import MLPClassifier\n",
    "from sklearn.datasets import make_classification\n",
    "from sklearn.model_selection import train_test_split\n",
    "\n",
    "\n",
    "# X, y = make_classification(n_samples=100, random_state=42)\n",
    "# X_train, X_test, y_train, y_test = train_test_split(X, y, stratify=y,random_state=42)\n"
   ]
  },
  {
   "cell_type": "code",
   "execution_count": 44,
   "metadata": {},
   "outputs": [
    {
     "name": "stderr",
     "output_type": "stream",
     "text": [
      "/Library/Frameworks/Python.framework/Versions/3.8/lib/python3.8/site-packages/sklearn/neural_network/_multilayer_perceptron.py:582: ConvergenceWarning: Stochastic Optimizer: Maximum iterations (300) reached and the optimization hasn't converged yet.\n",
      "  warnings.warn(\n"
     ]
    },
    {
     "data": {
      "text/plain": [
       "MLPClassifier(activation='logistic', learning_rate_init=0.01, max_iter=300,\n",
       "              random_state=42, solver='sgd')"
      ]
     },
     "execution_count": 44,
     "metadata": {},
     "output_type": "execute_result"
    }
   ],
   "source": [
    "#Add classifier and fit the data\n",
    "classifier = MLPClassifier(solver = 'sgd', hidden_layer_sizes=(100,),random_state=42, activation = 'logistic', max_iter=300, learning_rate_init = 0.01)\n",
    "classifier.fit(X_train, y_train)\n"
   ]
  },
  {
   "cell_type": "code",
   "execution_count": 45,
   "metadata": {},
   "outputs": [],
   "source": [
    "pca = PCA(n_components=2)\n",
    "X_train = pca.fit_transform(X_train)\n",
    "X_test = pca.transform(X_test)"
   ]
  },
  {
   "cell_type": "code",
   "execution_count": 46,
   "metadata": {},
   "outputs": [
    {
     "name": "stdout",
     "output_type": "stream",
     "text": [
      "Training results:\n",
      "\n",
      "Accuracy Score: 0.9214\n",
      "\n",
      "Classification Report:\n",
      "              precision    recall  f1-score   support\n",
      "\n",
      "           0       0.90      0.96      0.93      2951\n",
      "           1       0.95      0.88      0.92      2735\n",
      "\n",
      "    accuracy                           0.92      5686\n",
      "   macro avg       0.92      0.92      0.92      5686\n",
      "weighted avg       0.92      0.92      0.92      5686\n",
      "\n",
      "\n",
      "Confusion Matrix:\n",
      "[[2828  123]\n",
      " [ 324 2411]]\n",
      "\n",
      "Average Accuracy:\t0.9136\n",
      "\n",
      "Standard Deviation:\t0.0068\n"
     ]
    }
   ],
   "source": [
    "print_score(classifier,X_train,y_train,X_test,y_test,train=True)"
   ]
  },
  {
   "cell_type": "code",
   "execution_count": 47,
   "metadata": {},
   "outputs": [],
   "source": [
    "# visualization_train('MLP')"
   ]
  },
  {
   "cell_type": "code",
   "execution_count": 48,
   "metadata": {},
   "outputs": [
    {
     "name": "stdout",
     "output_type": "stream",
     "text": [
      "Test results:\n",
      "\n",
      "Accuracy Score: 0.9143\n",
      "\n",
      "Classification Report:\n",
      "              precision    recall  f1-score   support\n",
      "\n",
      "           0       0.89      0.95      0.92      1257\n",
      "           1       0.94      0.88      0.91      1181\n",
      "\n",
      "    accuracy                           0.91      2438\n",
      "   macro avg       0.92      0.91      0.91      2438\n",
      "weighted avg       0.92      0.91      0.91      2438\n",
      "\n",
      "\n",
      "Confusion Matrix:\n",
      "[[1194   63]\n",
      " [ 146 1035]]\n",
      "\n",
      "Average Accuracy:\t0.9136\n",
      "\n",
      "Standard Deviation:\t0.0068\n"
     ]
    }
   ],
   "source": [
    "print_score(classifier,X_train,y_train,X_test,y_test,train=False)"
   ]
  },
  {
   "cell_type": "code",
   "execution_count": 49,
   "metadata": {},
   "outputs": [],
   "source": [
    "# visualization_test('MLP')"
   ]
  },
  {
   "cell_type": "code",
   "execution_count": 50,
   "metadata": {},
   "outputs": [
    {
     "name": "stdout",
     "output_type": "stream",
     "text": [
      "MPL Test Accuracy: 0.9142739950779327\n"
     ]
    }
   ],
   "source": [
    "#Predict the response for test dataset\n",
    "y_pred = classifier.predict(X_test)\n",
    "# Model Accuracy, how often is the classifier correct?\n",
    "MLPAccuracy = metrics.accuracy_score(y_test, y_pred)\n",
    "print(\"MPL Test Accuracy:\", MLPAccuracy)"
   ]
  },
  {
   "cell_type": "code",
   "execution_count": 51,
   "metadata": {},
   "outputs": [],
   "source": [
    "# scores=cross_val_score(model,X,y,cv=cv,verbose=0)\n",
    "# score.mean()"
   ]
  },
  {
   "cell_type": "code",
   "execution_count": 52,
   "metadata": {},
   "outputs": [
    {
     "data": {
      "text/plain": [
       "KNeighborsClassifier()"
      ]
     },
     "execution_count": 52,
     "metadata": {},
     "output_type": "execute_result"
    }
   ],
   "source": [
    "#KNN Model\n",
    "from sklearn.neighbors import KNeighborsClassifier as KNN\n",
    "classifier = KNN()\n",
    "classifier.fit(X_train, y_train)"
   ]
  },
  {
   "cell_type": "code",
   "execution_count": 53,
   "metadata": {},
   "outputs": [
    {
     "name": "stdout",
     "output_type": "stream",
     "text": [
      "Training results:\n",
      "\n",
      "Accuracy Score: 0.9573\n",
      "\n",
      "Classification Report:\n",
      "              precision    recall  f1-score   support\n",
      "\n",
      "           0       0.94      0.97      0.96      2951\n",
      "           1       0.97      0.94      0.95      2735\n",
      "\n",
      "    accuracy                           0.96      5686\n",
      "   macro avg       0.96      0.96      0.96      5686\n",
      "weighted avg       0.96      0.96      0.96      5686\n",
      "\n",
      "\n",
      "Confusion Matrix:\n",
      "[[2877   74]\n",
      " [ 169 2566]]\n",
      "\n",
      "Average Accuracy:\t0.9446\n",
      "\n",
      "Standard Deviation:\t0.0059\n"
     ]
    }
   ],
   "source": [
    "print_score(classifier,X_train,y_train,X_test,y_test,train=True)"
   ]
  },
  {
   "cell_type": "code",
   "execution_count": 54,
   "metadata": {},
   "outputs": [
    {
     "name": "stdout",
     "output_type": "stream",
     "text": [
      "Test results:\n",
      "\n",
      "Accuracy Score: 0.9446\n",
      "\n",
      "Classification Report:\n",
      "              precision    recall  f1-score   support\n",
      "\n",
      "           0       0.93      0.96      0.95      1257\n",
      "           1       0.96      0.93      0.94      1181\n",
      "\n",
      "    accuracy                           0.94      2438\n",
      "   macro avg       0.95      0.94      0.94      2438\n",
      "weighted avg       0.94      0.94      0.94      2438\n",
      "\n",
      "\n",
      "Confusion Matrix:\n",
      "[[1207   50]\n",
      " [  85 1096]]\n",
      "\n",
      "Average Accuracy:\t0.9446\n",
      "\n",
      "Standard Deviation:\t0.0059\n"
     ]
    }
   ],
   "source": [
    "print_score(classifier,X_train,y_train,X_test,y_test,train=False)\n"
   ]
  },
  {
   "cell_type": "code",
   "execution_count": 55,
   "metadata": {},
   "outputs": [],
   "source": [
    "test_scores = []\n",
    "train_scores = []\n",
    "\n",
    "# how to determine the 15?\n",
    "for i in range(1,20):\n",
    "\n",
    "    knn = KNN(i)\n",
    "    knn.fit(X_train,y_train)\n",
    "    \n",
    "    train_scores.append(knn.score(X_train,y_train))\n",
    "    test_scores.append(knn.score(X_test,y_test))"
   ]
  },
  {
   "cell_type": "code",
   "execution_count": 56,
   "metadata": {},
   "outputs": [
    {
     "name": "stdout",
     "output_type": "stream",
     "text": [
      "Max train score 100.0 % and k = [1]\n"
     ]
    }
   ],
   "source": [
    "## score that comes from testing on the same datapoints that were used for training\n",
    "max_train_score = max(train_scores)\n",
    "train_scores_ind = [i for i, v in enumerate(train_scores) if v == max_train_score]\n",
    "print('Max train score {} % and k = {}'.format(max_train_score*100,list(map(lambda x: x+1, train_scores_ind))))"
   ]
  },
  {
   "cell_type": "code",
   "execution_count": 57,
   "metadata": {},
   "outputs": [
    {
     "name": "stdout",
     "output_type": "stream",
     "text": [
      "Max test score 94.46267432321575 % and k = [5]\n",
      "5\n"
     ]
    }
   ],
   "source": [
    "## score that comes from testing on the datapoints that were split in the beginning to be used for testing solely\n",
    "max_test_score = max(test_scores)\n",
    "test_scores_ind = [i for i, v in enumerate(test_scores) if v == max_test_score]\n",
    "print('Max test score {} % and k = {}'.format(max_test_score*100,list(map(lambda x: x+1, test_scores_ind))))\n",
    "k=list(map(lambda x: x+1, test_scores_ind))[0]\n",
    "print(k)"
   ]
  },
  {
   "cell_type": "code",
   "execution_count": 58,
   "metadata": {},
   "outputs": [
    {
     "data": {
      "image/png": "[encoded data removed]",
      "text/plain": [
       "<Figure size 864x360 with 1 Axes>"
      ]
     },
     "metadata": {
      "needs_background": "light"
     },
     "output_type": "display_data"
    }
   ],
   "source": [
    "plt.figure(figsize=(12,5))\n",
    "p = sns.lineplot(range(1,20),train_scores,marker='*',label='Train Score')\n",
    "p = sns.lineplot(range(1,20),test_scores,marker='o',label='Test Score')"
   ]
  },
  {
   "cell_type": "code",
   "execution_count": 59,
   "metadata": {},
   "outputs": [
    {
     "name": "stdout",
     "output_type": "stream",
     "text": [
      "KNN Test Accuracy: 0.9446267432321575\n"
     ]
    }
   ],
   "source": [
    "classifier = KNN(k)\n",
    "\n",
    "classifier.fit(X_train,y_train)\n",
    "y_pred = classifier.predict(X_test)\n",
    "KNNAccuracy = metrics.accuracy_score(y_test, y_pred)\n",
    "\n",
    "print(\"KNN Test Accuracy:\", KNNAccuracy)"
   ]
  },
  {
   "cell_type": "code",
   "execution_count": 60,
   "metadata": {},
   "outputs": [
    {
     "name": "stdout",
     "output_type": "stream",
     "text": [
      "Training results:\n",
      "\n",
      "Accuracy Score: 0.9573\n",
      "\n",
      "Classification Report:\n",
      "              precision    recall  f1-score   support\n",
      "\n",
      "           0       0.94      0.97      0.96      2951\n",
      "           1       0.97      0.94      0.95      2735\n",
      "\n",
      "    accuracy                           0.96      5686\n",
      "   macro avg       0.96      0.96      0.96      5686\n",
      "weighted avg       0.96      0.96      0.96      5686\n",
      "\n",
      "\n",
      "Confusion Matrix:\n",
      "[[2877   74]\n",
      " [ 169 2566]]\n",
      "\n",
      "Average Accuracy:\t0.9446\n",
      "\n",
      "Standard Deviation:\t0.0059\n"
     ]
    }
   ],
   "source": [
    "print_score(classifier,X_train,y_train,X_test,y_test,train=True)"
   ]
  },
  {
   "cell_type": "code",
   "execution_count": 61,
   "metadata": {},
   "outputs": [
    {
     "name": "stdout",
     "output_type": "stream",
     "text": [
      "Test results:\n",
      "\n",
      "Accuracy Score: 0.9446\n",
      "\n",
      "Classification Report:\n",
      "              precision    recall  f1-score   support\n",
      "\n",
      "           0       0.93      0.96      0.95      1257\n",
      "           1       0.96      0.93      0.94      1181\n",
      "\n",
      "    accuracy                           0.94      2438\n",
      "   macro avg       0.95      0.94      0.94      2438\n",
      "weighted avg       0.94      0.94      0.94      2438\n",
      "\n",
      "\n",
      "Confusion Matrix:\n",
      "[[1207   50]\n",
      " [  85 1096]]\n",
      "\n",
      "Average Accuracy:\t0.9446\n",
      "\n",
      "Standard Deviation:\t0.0059\n"
     ]
    }
   ],
   "source": [
    "print_score(classifier,X_train,y_train,X_test,y_test,train=False)"
   ]
  },
  {
   "cell_type": "code",
   "execution_count": 62,
   "metadata": {},
   "outputs": [],
   "source": [
    "# visualization_train('K-NN')"
   ]
  },
  {
   "cell_type": "code",
   "execution_count": 68,
   "metadata": {},
   "outputs": [],
   "source": [
    "# visualization_test('K-NN')\n"
   ]
  },
  {
   "cell_type": "code",
   "execution_count": 77,
   "metadata": {},
   "outputs": [],
   "source": [
    "# # ROC-AUC \n",
    "# # ROC (Receiver Operating Characteristic) Curve tells us about how good the model can distinguish between two things (e.g If a patient has a disease or no). Better models can accurately distinguish between the two. Whereas, a poor model will have difficulties in distinguishing between the two\n",
    "\n",
    "# # Well Explained in this video: https://www.youtube.com/watch?v=OAl6eAyP-yo\n",
    "\n",
    "# from sklearn.metrics import roc_curve\n",
    "# y_pred_proba = knn.predict_proba(X_test)[:,1]\n",
    "# fpr, tpr, thresholds = roc_curve(y_test, y_pred_proba)"
   ]
  },
  {
   "cell_type": "code",
   "execution_count": null,
   "metadata": {},
   "outputs": [],
   "source": []
  },
  {
   "cell_type": "code",
   "execution_count": null,
   "metadata": {},
   "outputs": [],
   "source": [
    "\n"
   ]
  },
  {
   "cell_type": "code",
   "execution_count": 78,
   "metadata": {},
   "outputs": [],
   "source": [
    "# print(results.mean())"
   ]
  },
  {
   "cell_type": "code",
   "execution_count": 79,
   "metadata": {},
   "outputs": [],
   "source": [
    "# print_score(classifier,X_train,y_train,X_test,y_test,train=True)"
   ]
  },
  {
   "cell_type": "code",
   "execution_count": 80,
   "metadata": {},
   "outputs": [],
   "source": [
    "# print_score(classifier,X_train,y_train,X_test,y_test,train=False)"
   ]
  },
  {
   "cell_type": "code",
   "execution_count": 81,
   "metadata": {},
   "outputs": [],
   "source": [
    "# visualization_train('Ensemble')"
   ]
  },
  {
   "cell_type": "code",
   "execution_count": 82,
   "metadata": {},
   "outputs": [],
   "source": [
    "# visualization_test('Ensemble')"
   ]
  },
  {
   "cell_type": "code",
   "execution_count": 84,
   "metadata": {},
   "outputs": [
    {
     "name": "stdout",
     "output_type": "stream",
     "text": [
      "Ensemble Test Accuracy: 0.9298605414273995\n"
     ]
    }
   ],
   "source": [
    "### Ensemble - Boosting\n",
    "from sklearn.ensemble import AdaBoostClassifier\n",
    "\n",
    "classifier = AdaBoostClassifier(n_estimators = 60, learning_rate = 0.1)\n",
    "classifier.fit(X_train, y_train)\n",
    "\n",
    "y_pred = classifier.predict(X_test)\n",
    "EAccuracy = metrics.accuracy_score(y_test, y_pred)\n",
    "\n",
    "print(\"Ensemble Test Accuracy:\", EAccuracy)"
   ]
  },
  {
   "cell_type": "code",
   "execution_count": 85,
   "metadata": {},
   "outputs": [],
   "source": [
    "# print_score(classifier,X_train,y_train,X_test,y_test,train=True)\n",
    "# print_score(classifier,X_train,y_train,X_test,y_test,train=False)"
   ]
  },
  {
   "cell_type": "code",
   "execution_count": 86,
   "metadata": {},
   "outputs": [],
   "source": [
    "test_scores = []\n",
    "train_scores = []\n",
    "\n",
    "\n",
    "for i in [50, 60, 70, 80, 90, 100]:\n",
    "\n",
    "    abc = AdaBoostClassifier(n_estimators=i)\n",
    "    abc.fit(X_train, y_train)\n",
    "    \n",
    "    train_scores.append(abc.score(X_train,y_train))\n",
    "    test_scores.append(abc.score(X_test,y_test))\n"
   ]
  },
  {
   "cell_type": "code",
   "execution_count": 87,
   "metadata": {},
   "outputs": [
    {
     "name": "stdout",
     "output_type": "stream",
     "text": [
      "[0.9253486464315013, 0.9257588187038556, 0.9245283018867925, 0.9249384741591469, 0.9241181296144381, 0.9245283018867925]\n"
     ]
    }
   ],
   "source": [
    "print(test_scores)"
   ]
  },
  {
   "cell_type": "code",
   "execution_count": 88,
   "metadata": {},
   "outputs": [
    {
     "name": "stdout",
     "output_type": "stream",
     "text": [
      "Max train score 93.51037636299684 % and k = [4]\n"
     ]
    }
   ],
   "source": [
    "## score that comes from testing on the same datapoints that were used for training\n",
    "max_train_score = max(train_scores)\n",
    "train_scores_ind = [i for i, v in enumerate(train_scores) if v == max_train_score]\n",
    "print('Max train score {} % and k = {}'.format(max_train_score*100,list(map(lambda x: x+1, train_scores_ind))))"
   ]
  },
  {
   "cell_type": "code",
   "execution_count": 89,
   "metadata": {},
   "outputs": [
    {
     "name": "stdout",
     "output_type": "stream",
     "text": [
      "Max test score 92.57588187038556 % and k = [2]\n",
      "2\n"
     ]
    }
   ],
   "source": [
    "## score that comes from testing on the datapoints that were split in the beginning to be used for testing solely\n",
    "max_test_score = max(test_scores)\n",
    "test_scores_ind = [i for i, v in enumerate(test_scores) if v == max_test_score]\n",
    "print('Max test score {} % and k = {}'.format(max_test_score*100,list(map(lambda x: x+1, test_scores_ind))))\n",
    "k=list(map(lambda x: x+1, test_scores_ind))[0]\n",
    "print(k)"
   ]
  },
  {
   "cell_type": "code",
   "execution_count": 90,
   "metadata": {},
   "outputs": [],
   "source": [
    "# plt.figure(figsize=(12,5))\n",
    "# p = sns.lineplot([50, 60, 70, 80, 90, 100],train_scores,marker='*',label='Train Score')\n",
    "# p = sns.lineplot([50, 60, 70, 80, 90, 100],test_scores,marker='o',label='Test Score')"
   ]
  },
  {
   "cell_type": "code",
   "execution_count": 91,
   "metadata": {},
   "outputs": [],
   "source": [
    "test_scores = []\n",
    "train_scores = []\n",
    "\n",
    "\n",
    "for i in [0.001, 0.01, 0.1, 1]:\n",
    "\n",
    "    abc = AdaBoostClassifier(n_estimators=60, learning_rate = i)\n",
    "    abc.fit(X_train, y_train)\n",
    "    \n",
    "    train_scores.append(abc.score(X_train,y_train))\n",
    "    test_scores.append(abc.score(X_test,y_test))\n"
   ]
  },
  {
   "cell_type": "code",
   "execution_count": 92,
   "metadata": {},
   "outputs": [
    {
     "name": "stdout",
     "output_type": "stream",
     "text": [
      "Max train score 93.45761519521632 % and k = [3]\n"
     ]
    }
   ],
   "source": [
    "## score that comes from testing on the same datapoints that were used for training\n",
    "max_train_score = max(train_scores)\n",
    "train_scores_ind = [i for i, v in enumerate(train_scores) if v == max_train_score]\n",
    "print('Max train score {} % and k = {}'.format(max_train_score*100,list(map(lambda x: x+1, train_scores_ind))))"
   ]
  },
  {
   "cell_type": "code",
   "execution_count": 93,
   "metadata": {},
   "outputs": [
    {
     "name": "stdout",
     "output_type": "stream",
     "text": [
      "Max test score 92.98605414273995 % and k = [3]\n",
      "3\n"
     ]
    }
   ],
   "source": [
    "## score that comes from testing on the datapoints that were split in the beginning to be used for testing solely\n",
    "max_test_score = max(test_scores)\n",
    "test_scores_ind = [i for i, v in enumerate(test_scores) if v == max_test_score]\n",
    "print('Max test score {} % and k = {}'.format(max_test_score*100,list(map(lambda x: x+1, test_scores_ind))))\n",
    "k=list(map(lambda x: x+1, test_scores_ind))[0]\n",
    "print(k)"
   ]
  },
  {
   "cell_type": "code",
   "execution_count": 94,
   "metadata": {},
   "outputs": [],
   "source": [
    "# plt.figure(figsize=(12,5))\n",
    "# p = sns.lineplot([0.001, 0.01, 0.1, 1],train_scores,marker='*',label='Train Score')\n",
    "# p = sns.lineplot([0.001, 0.01, 0.1, 1],test_scores,marker='o',label='Test Score')"
   ]
  },
  {
   "cell_type": "code",
   "execution_count": 95,
   "metadata": {},
   "outputs": [
    {
     "name": "stdout",
     "output_type": "stream",
     "text": [
      "SVC Test Accuracy: 0.938884331419196\n"
     ]
    }
   ],
   "source": [
    "#SVC Classification Model rbf\n",
    "from sklearn.svm import SVC\n",
    "classifier = SVC(kernel='rbf',random_state=42, C=10)\n",
    "\n",
    "classifier.fit(X_train,y_train)\n",
    "y_pred = classifier.predict(X_test)\n",
    "SVCAccuracy = metrics.accuracy_score(y_test, y_pred)\n",
    "\n",
    "print(\"SVC Test Accuracy:\", SVCAccuracy)"
   ]
  },
  {
   "cell_type": "code",
   "execution_count": 96,
   "metadata": {},
   "outputs": [],
   "source": [
    "for c in [0.1, 1, 10, 100, 1000]:\n",
    "    classifier = SVC(kernel='rbf',random_state=42, C=c)\n",
    "    classifier.fit(X_train,y_train)"
   ]
  },
  {
   "cell_type": "code",
   "execution_count": 97,
   "metadata": {},
   "outputs": [],
   "source": [
    "test_scores = []\n",
    "train_scores = []\n",
    "\n",
    "\n",
    "for c in [0.1, 1, 10, 100, 1000]:\n",
    "\n",
    "    classifier = SVC(kernel='rbf',random_state=42, C=c)\n",
    "    classifier.fit(X_train,y_train)\n",
    "    \n",
    "    train_scores.append(classifier.score(X_train,y_train))\n",
    "    test_scores.append(classifier.score(X_test,y_test))\n"
   ]
  },
  {
   "cell_type": "code",
   "execution_count": 98,
   "metadata": {},
   "outputs": [
    {
     "name": "stdout",
     "output_type": "stream",
     "text": [
      "Max train score 94.47766443897292 % and k = [5]\n",
      "Max test score 93.8884331419196 % and k = [3, 4]\n",
      "3\n"
     ]
    }
   ],
   "source": [
    "## score that comes from testing on the same datapoints that were used for training\n",
    "max_train_score = max(train_scores)\n",
    "train_scores_ind = [i for i, v in enumerate(train_scores) if v == max_train_score]\n",
    "print('Max train score {} % and k = {}'.format(max_train_score*100,list(map(lambda x: x+1, train_scores_ind))))\n",
    "\n",
    "## score that comes from testing on the datapoints that were split in the beginning to be used for testing solely\n",
    "max_test_score = max(test_scores)\n",
    "test_scores_ind = [i for i, v in enumerate(test_scores) if v == max_test_score]\n",
    "print('Max test score {} % and k = {}'.format(max_test_score*100,list(map(lambda x: x+1, test_scores_ind))))\n",
    "k=list(map(lambda x: x+1, test_scores_ind))[0]\n",
    "print(k)"
   ]
  },
  {
   "cell_type": "code",
   "execution_count": 99,
   "metadata": {},
   "outputs": [
    {
     "data": {
      "image/png": "[encoded data removed]",
      "text/plain": [
       "<Figure size 864x360 with 1 Axes>"
      ]
     },
     "metadata": {
      "needs_background": "light"
     },
     "output_type": "display_data"
    }
   ],
   "source": [
    "plt.figure(figsize=(12,5))\n",
    "p = sns.lineplot([0.1, 1, 10, 100, 1000],train_scores,marker='*',label='Train Score')\n",
    "p = sns.lineplot([0.1, 1, 10, 100, 1000],test_scores,marker='o',label='Test Score')"
   ]
  },
  {
   "cell_type": "code",
   "execution_count": 100,
   "metadata": {},
   "outputs": [
    {
     "name": "stdout",
     "output_type": "stream",
     "text": [
      "Training results:\n",
      "\n",
      "Accuracy Score: 0.9448\n",
      "\n",
      "Classification Report:\n",
      "              precision    recall  f1-score   support\n",
      "\n",
      "           0       0.93      0.96      0.95      2951\n",
      "           1       0.96      0.92      0.94      2735\n",
      "\n",
      "    accuracy                           0.94      5686\n",
      "   macro avg       0.95      0.94      0.94      5686\n",
      "weighted avg       0.95      0.94      0.94      5686\n",
      "\n",
      "\n",
      "Confusion Matrix:\n",
      "[[2846  105]\n",
      " [ 209 2526]]\n",
      "\n",
      "Average Accuracy:\t0.9441\n",
      "\n",
      "Standard Deviation:\t0.0054\n"
     ]
    }
   ],
   "source": [
    "print_score(classifier,X_train,y_train,X_test,y_test,train=True)\n"
   ]
  },
  {
   "cell_type": "code",
   "execution_count": 101,
   "metadata": {},
   "outputs": [
    {
     "name": "stdout",
     "output_type": "stream",
     "text": [
      "Test results:\n",
      "\n",
      "Accuracy Score: 0.9385\n",
      "\n",
      "Classification Report:\n",
      "              precision    recall  f1-score   support\n",
      "\n",
      "           0       0.93      0.96      0.94      1257\n",
      "           1       0.95      0.92      0.94      1181\n",
      "\n",
      "    accuracy                           0.94      2438\n",
      "   macro avg       0.94      0.94      0.94      2438\n",
      "weighted avg       0.94      0.94      0.94      2438\n",
      "\n",
      "\n",
      "Confusion Matrix:\n",
      "[[1203   54]\n",
      " [  96 1085]]\n",
      "\n",
      "Average Accuracy:\t0.9441\n",
      "\n",
      "Standard Deviation:\t0.0054\n"
     ]
    }
   ],
   "source": [
    "print_score(classifier,X_train,y_train,X_test,y_test,train=False)"
   ]
  },
  {
   "cell_type": "code",
   "execution_count": 102,
   "metadata": {},
   "outputs": [],
   "source": [
    "# visualization_train('SVC')"
   ]
  },
  {
   "cell_type": "code",
   "execution_count": 103,
   "metadata": {},
   "outputs": [],
   "source": [
    "# visualization_test('SVC')"
   ]
  },
  {
   "cell_type": "code",
   "execution_count": 104,
   "metadata": {},
   "outputs": [
    {
     "name": "stdout",
     "output_type": "stream",
     "text": [
      "SVC (Sigmoid) Test Accuracy: 0.455701394585726\n"
     ]
    }
   ],
   "source": [
    "#SVC Classification Model sigmoid\n",
    "from sklearn.svm import SVC\n",
    "classifier = SVC(kernel='sigmoid',random_state=42)\n",
    "\n",
    "classifier.fit(X_train,y_train)\n",
    "y_pred = classifier.predict(X_test)\n",
    "SVCAccuracy_s = metrics.accuracy_score(y_test, y_pred)\n",
    "\n",
    "print(\"SVC (Sigmoid) Test Accuracy:\", SVCAccuracy_s)"
   ]
  },
  {
   "cell_type": "code",
   "execution_count": 105,
   "metadata": {},
   "outputs": [
    {
     "name": "stdout",
     "output_type": "stream",
     "text": [
      "Training results:\n",
      "\n",
      "Accuracy Score: 0.4726\n",
      "\n",
      "Classification Report:\n",
      "              precision    recall  f1-score   support\n",
      "\n",
      "           0       0.49      0.49      0.49      2951\n",
      "           1       0.45      0.46      0.45      2735\n",
      "\n",
      "    accuracy                           0.47      5686\n",
      "   macro avg       0.47      0.47      0.47      5686\n",
      "weighted avg       0.47      0.47      0.47      5686\n",
      "\n",
      "\n",
      "Confusion Matrix:\n",
      "[[1436 1515]\n",
      " [1484 1251]]\n",
      "\n",
      "Average Accuracy:\t0.4720\n",
      "\n",
      "Standard Deviation:\t0.0138\n",
      "Test results:\n",
      "\n",
      "Accuracy Score: 0.4557\n",
      "\n",
      "Classification Report:\n",
      "              precision    recall  f1-score   support\n",
      "\n",
      "           0       0.47      0.46      0.46      1257\n",
      "           1       0.44      0.45      0.45      1181\n",
      "\n",
      "    accuracy                           0.46      2438\n",
      "   macro avg       0.46      0.46      0.46      2438\n",
      "weighted avg       0.46      0.46      0.46      2438\n",
      "\n",
      "\n",
      "Confusion Matrix:\n",
      "[[574 683]\n",
      " [644 537]]\n",
      "\n",
      "Average Accuracy:\t0.4720\n",
      "\n",
      "Standard Deviation:\t0.0138\n"
     ]
    }
   ],
   "source": [
    "print_score(classifier,X_train,y_train,X_test,y_test,train=True)\n",
    "print_score(classifier,X_train,y_train,X_test,y_test,train=False)"
   ]
  },
  {
   "cell_type": "code",
   "execution_count": 106,
   "metadata": {},
   "outputs": [
    {
     "name": "stdout",
     "output_type": "stream",
     "text": [
      "Training results:\n",
      "\n",
      "Accuracy Score: 0.4726\n",
      "\n",
      "Classification Report:\n",
      "              precision    recall  f1-score   support\n",
      "\n",
      "           0       0.49      0.49      0.49      2951\n",
      "           1       0.45      0.46      0.45      2735\n",
      "\n",
      "    accuracy                           0.47      5686\n",
      "   macro avg       0.47      0.47      0.47      5686\n",
      "weighted avg       0.47      0.47      0.47      5686\n",
      "\n",
      "\n",
      "Confusion Matrix:\n",
      "[[1436 1515]\n",
      " [1484 1251]]\n",
      "\n",
      "Average Accuracy:\t0.4720\n",
      "\n",
      "Standard Deviation:\t0.0138\n",
      "Test results:\n",
      "\n",
      "Accuracy Score: 0.4557\n",
      "\n",
      "Classification Report:\n",
      "              precision    recall  f1-score   support\n",
      "\n",
      "           0       0.47      0.46      0.46      1257\n",
      "           1       0.44      0.45      0.45      1181\n",
      "\n",
      "    accuracy                           0.46      2438\n",
      "   macro avg       0.46      0.46      0.46      2438\n",
      "weighted avg       0.46      0.46      0.46      2438\n",
      "\n",
      "\n",
      "Confusion Matrix:\n",
      "[[574 683]\n",
      " [644 537]]\n",
      "\n",
      "Average Accuracy:\t0.4720\n",
      "\n",
      "Standard Deviation:\t0.0138\n"
     ]
    }
   ],
   "source": [
    "print_score(classifier,X_train,y_train,X_test,y_test,train=True)\n",
    "print_score(classifier,X_train,y_train,X_test,y_test,train=False)"
   ]
  },
  {
   "cell_type": "code",
   "execution_count": 107,
   "metadata": {},
   "outputs": [
    {
     "name": "stdout",
     "output_type": "stream",
     "text": [
      "SVC (Sigmoid) Test Accuracy: 0.756357670221493\n"
     ]
    }
   ],
   "source": [
    "#SVC Classification Model Linear\n",
    "from sklearn.svm import SVC\n",
    "classifier = SVC(kernel='linear',random_state=42)\n",
    "\n",
    "classifier.fit(X_train,y_train)\n",
    "y_pred = classifier.predict(X_test)\n",
    "SVCAccuracy_l = metrics.accuracy_score(y_test, y_pred)\n",
    "\n",
    "print(\"SVC (Sigmoid) Test Accuracy:\", SVCAccuracy_l)"
   ]
  },
  {
   "cell_type": "code",
   "execution_count": 108,
   "metadata": {},
   "outputs": [
    {
     "data": {
      "text/plain": [
       "Text(0.5, 1.0, 'SVC kernels Prediction Accuracies Comparison')"
      ]
     },
     "execution_count": 108,
     "metadata": {},
     "output_type": "execute_result"
    },
    {
     "data": {
      "image/png": "[encoded data removed]",
      "text/plain": [
       "<Figure size 432x288 with 1 Axes>"
      ]
     },
     "metadata": {
      "needs_background": "light"
     },
     "output_type": "display_data"
    }
   ],
   "source": [
    "kernels = [SVCAccuracy, SVCAccuracy_s, SVCAccuracy_l]\n",
    "kernels_label = ('RBF', 'Sigmoid', 'Linear')\n",
    "y_pos = np.arange(len(kernels_label))\n",
    "plt.bar(y_pos, kernels, width = 0.4, align='center', alpha=0.8)\n",
    "plt.xticks(y_pos, kernels_label)\n",
    "plt.ylabel('Accuracy')\n",
    "plt.title('SVC kernels Prediction Accuracies Comparison')"
   ]
  },
  {
   "cell_type": "code",
   "execution_count": 109,
   "metadata": {},
   "outputs": [
    {
     "name": "stdout",
     "output_type": "stream",
     "text": [
      "[0.938884331419196, 0.455701394585726, 0.756357670221493]\n"
     ]
    }
   ],
   "source": [
    "print(kernels)"
   ]
  },
  {
   "cell_type": "code",
   "execution_count": 110,
   "metadata": {},
   "outputs": [
    {
     "data": {
      "text/plain": [
       "Text(0.5, 1.0, 'Prediction Accuracy Comparison')"
      ]
     },
     "execution_count": 110,
     "metadata": {},
     "output_type": "execute_result"
    },
    {
     "data": {
      "image/png": "[encoded data removed]",
      "text/plain": [
       "<Figure size 1080x432 with 1 Axes>"
      ]
     },
     "metadata": {
      "needs_background": "light"
     },
     "output_type": "display_data"
    }
   ],
   "source": [
    "accuracy = [DTAccuracy, MLPAccuracy, KNNAccuracy, EAccuracy, SVCAccuracy]\n",
    "plt.figure(figsize=(15,6))\n",
    "x_label = ('DTAccuracy', 'MLPAccuracy', 'KNNAccuracy', 'EAccuracy', 'SVCAccuracy')\n",
    "y_pos = np.arange(len(x_label))\n",
    "plt.bar(y_pos, accuracy, width = 0.4, align='center', alpha=0.8)\n",
    "plt.xticks(y_pos, x_label)\n",
    "plt.ylabel('Accuracy')\n",
    "plt.title('Prediction Accuracy Comparison')"
   ]
  },
  {
   "cell_type": "code",
   "execution_count": 111,
   "metadata": {},
   "outputs": [
    {
     "name": "stdout",
     "output_type": "stream",
     "text": [
      "[0.9384741591468416, 0.9142739950779327, 0.9446267432321575, 0.9298605414273995, 0.938884331419196]\n"
     ]
    }
   ],
   "source": [
    "print(accuracy)"
   ]
  },
  {
   "cell_type": "code",
   "execution_count": null,
   "metadata": {},
   "outputs": [],
   "source": []
  },
  {
   "cell_type": "code",
   "execution_count": 119,
   "metadata": {},
   "outputs": [
    {
     "data": {
      "image/png": "[encoded data removed]",
      "text/plain": [
       "<Figure size 2160x2160 with 9 Axes>"
      ]
     },
     "metadata": {
      "needs_background": "light"
     },
     "output_type": "display_data"
    }
   ],
   "source": [
    "\n",
    "def plot_learning_curve(estimator, title, X, y, axes=None, ylim=None, cv=None,\n",
    "                        n_jobs=None, train_sizes=np.linspace(.1, 1.0, 5)):\n",
    "    \n",
    "    if axes is None:\n",
    "        _, axes = plt.subplots(1, 3, figsize=(20, 10))\n",
    "\n",
    "    axes[0].set_title(title)\n",
    "    if ylim is not None:\n",
    "        axes[0].set_ylim(*ylim)\n",
    "    axes[0].set_xlabel(\"Training examples\")\n",
    "    axes[0].set_ylabel(\"Score\")\n",
    "\n",
    "    train_sizes, train_scores, test_scores, fit_times, _ = \\\n",
    "        learning_curve(estimator, X, y, cv=cv, n_jobs=n_jobs,\n",
    "                       train_sizes=train_sizes,\n",
    "                       return_times=True)\n",
    "    train_scores_mean = np.mean(train_scores, axis=1)\n",
    "    train_scores_std = np.std(train_scores, axis=1)\n",
    "    test_scores_mean = np.mean(test_scores, axis=1)\n",
    "    test_scores_std = np.std(test_scores, axis=1)\n",
    "    fit_times_mean = np.mean(fit_times, axis=1)\n",
    "    fit_times_std = np.std(fit_times, axis=1)\n",
    "\n",
    "    # Plot learning curve\n",
    "    axes[0].grid()\n",
    "    axes[0].fill_between(train_sizes, train_scores_mean - train_scores_std,\n",
    "                         train_scores_mean + train_scores_std, alpha=0.2,\n",
    "                         color=\"r\")\n",
    "    axes[0].fill_between(train_sizes, test_scores_mean - test_scores_std,\n",
    "                         test_scores_mean + test_scores_std, alpha=0.2,\n",
    "                         color=\"g\")\n",
    "    axes[0].plot(train_sizes, train_scores_mean, 'o-', color=\"r\",\n",
    "                 label=\"Training score\")\n",
    "    axes[0].plot(train_sizes, test_scores_mean, 'o-', color=\"g\",\n",
    "                 label=\"Cross-validation score\")\n",
    "    axes[0].legend(loc=\"best\")\n",
    "\n",
    "    \n",
    "    # Plot n_samples vs fit_times\n",
    "    axes[1].grid()\n",
    "    axes[1].plot(train_sizes, fit_times_mean, 'o-')\n",
    "    axes[1].fill_between(train_sizes, fit_times_mean - fit_times_std,\n",
    "                         fit_times_mean + fit_times_std, alpha=0.1)\n",
    "    axes[1].set_xlabel(\"Training examples\")\n",
    "    axes[1].set_ylabel(\"fit_times\")\n",
    "    axes[1].set_title(\"Scalability of the model\")\n",
    "\n",
    "    \n",
    "    # Plot fit_time vs score\n",
    "    axes[2].grid()\n",
    "    axes[2].plot(fit_times_mean, test_scores_mean, 'o-')\n",
    "    axes[2].fill_between(fit_times_mean, test_scores_mean - test_scores_std,\n",
    "                         test_scores_mean + test_scores_std, alpha=0.1)\n",
    "    axes[2].set_xlabel(\"fit_times\")\n",
    "    axes[2].set_ylabel(\"Score\")\n",
    "    axes[2].set_title(\"Performance of the model\")\n",
    "\n",
    "    return plt\n",
    "\n",
    "\n",
    "fig, axes = plt.subplots(3, 3, figsize=(30, 30))\n",
    "\n",
    "title = \"Learning Curves (DT)\"\n",
    "# Cross validation with 100 iterations to get smoother mean test and train\n",
    "# score curves, each time with 30% data randomly selected as a validation set.\n",
    "cv = ShuffleSplit(n_splits=100, test_size=0.3, random_state=42)\n",
    "estimator = DecisionTreeClassifier(criterion='entropy', max_depth = 9)\n",
    "plot_learning_curve(estimator, title, X, y, axes=axes[:, 0], ylim=(0.9, 1.01),\n",
    "                    cv=cv, n_jobs=4)\n",
    "\n",
    "title = \"Learning Curves (Neural Network)\"\n",
    "cv = ShuffleSplit(n_splits=10, test_size=0.3, random_state=42)\n",
    "estimator = MLPClassifier(solver = 'sgd', hidden_layer_sizes=(100,),random_state=42, activation = 'logistic', learning_rate_init = 0.01, max_iter=300)\n",
    "plot_learning_curve(estimator, title, X, y, axes=axes[:, 1], ylim=(0.9, 1.01),\n",
    "                    cv=cv, n_jobs=4)\n",
    "\n",
    "\n",
    "title = \"Learning Curves (KNN)\"\n",
    "cv = ShuffleSplit(n_splits=10, test_size=0.3, random_state=42)\n",
    "\n",
    "estimator = KNN()\n",
    "plot_learning_curve(estimator, title, X, y, axes=axes[:, 2], ylim=(0.9, 1.01),\n",
    "                    cv=cv, n_jobs=4)\n",
    "\n",
    "\n",
    "\n",
    "\n",
    "# title = \"Learning Curves (Ensemble)\"\n",
    "# cv = ShuffleSplit(n_splits=10, test_size=0.3, random_state=42)\n",
    "# estimator = GradientBoostingClassifier(random_state=7, learning_rate = 0.1)\n",
    "# plot_learning_curve(estimator, title, X, y, axes=axes[:, 3], ylim=(0.9, 1.01),\n",
    "#                     cv=cv, n_jobs=4)\n",
    "\n",
    "\n",
    "\n",
    "# title = \"Learning Curves (SVM)\"\n",
    "# cv = ShuffleSplit(n_splits=10, test_size=0.3, random_state=42)\n",
    "\n",
    "# estimator = SVC(kernel='rbf',random_state=42)\n",
    "# plot_learning_curve(estimator, title, X, y, axes=axes[:, 4], ylim=(0.9, 1.01),\n",
    "#                     cv=cv, n_jobs=4)\n",
    "\n",
    "\n",
    "\n",
    "plt.show()"
   ]
  },
  {
   "cell_type": "code",
   "execution_count": 117,
   "metadata": {},
   "outputs": [
    {
     "data": {
      "image/png": "[encoded data removed]",
      "text/plain": [
       "<Figure size 2160x2160 with 9 Axes>"
      ]
     },
     "metadata": {
      "needs_background": "light"
     },
     "output_type": "display_data"
    }
   ],
   "source": [
    "def plot_learning_curve(estimator, title, X, y, axes=None, ylim=None, cv=None,\n",
    "                        n_jobs=None, train_sizes=np.linspace(.1, 1.0, 5)):\n",
    "    \n",
    "    if axes is None:\n",
    "        _, axes = plt.subplots(1, 3, figsize=(20, 10))\n",
    "\n",
    "    axes[0].set_title(title)\n",
    "    if ylim is not None:\n",
    "        axes[0].set_ylim(*ylim)\n",
    "    axes[0].set_xlabel(\"Training examples\")\n",
    "    axes[0].set_ylabel(\"Score\")\n",
    "\n",
    "    train_sizes, train_scores, test_scores, fit_times, _ = \\\n",
    "        learning_curve(estimator, X, y, cv=cv, n_jobs=n_jobs,\n",
    "                       train_sizes=train_sizes,\n",
    "                       return_times=True)\n",
    "    train_scores_mean = np.mean(train_scores, axis=1)\n",
    "    train_scores_std = np.std(train_scores, axis=1)\n",
    "    test_scores_mean = np.mean(test_scores, axis=1)\n",
    "    test_scores_std = np.std(test_scores, axis=1)\n",
    "    fit_times_mean = np.mean(fit_times, axis=1)\n",
    "    fit_times_std = np.std(fit_times, axis=1)\n",
    "\n",
    "    # Plot learning curve\n",
    "    axes[0].grid()\n",
    "    axes[0].fill_between(train_sizes, train_scores_mean - train_scores_std,\n",
    "                         train_scores_mean + train_scores_std, alpha=0.2,\n",
    "                         color=\"r\")\n",
    "    axes[0].fill_between(train_sizes, test_scores_mean - test_scores_std,\n",
    "                         test_scores_mean + test_scores_std, alpha=0.2,\n",
    "                         color=\"g\")\n",
    "    axes[0].plot(train_sizes, train_scores_mean, 'o-', color=\"r\",\n",
    "                 label=\"Training score\")\n",
    "    axes[0].plot(train_sizes, test_scores_mean, 'o-', color=\"g\",\n",
    "                 label=\"Cross-validation score\")\n",
    "    axes[0].legend(loc=\"best\")\n",
    "\n",
    "    \n",
    "    # Plot n_samples vs fit_times\n",
    "    axes[1].grid()\n",
    "    axes[1].plot(train_sizes, fit_times_mean, 'o-')\n",
    "    axes[1].fill_between(train_sizes, fit_times_mean - fit_times_std,\n",
    "                         fit_times_mean + fit_times_std, alpha=0.1)\n",
    "    axes[1].set_xlabel(\"Training examples\")\n",
    "    axes[1].set_ylabel(\"fit_times\")\n",
    "    axes[1].set_title(\"Scalability of the model\")\n",
    "\n",
    "    \n",
    "    # Plot fit_time vs score\n",
    "    axes[2].grid()\n",
    "    axes[2].plot(fit_times_mean, test_scores_mean, 'o-')\n",
    "    axes[2].fill_between(fit_times_mean, test_scores_mean - test_scores_std,\n",
    "                         test_scores_mean + test_scores_std, alpha=0.1)\n",
    "    axes[2].set_xlabel(\"fit_times\")\n",
    "    axes[2].set_ylabel(\"Score\")\n",
    "    axes[2].set_title(\"Performance of the model\")\n",
    "\n",
    "    return plt\n",
    "\n",
    "\n",
    "fig, axes = plt.subplots(3,3, figsize=(30, 30))\n",
    "\n",
    "\n",
    "title = \"Learning Curves (Ensemble)\"\n",
    "cv = ShuffleSplit(n_splits=10, test_size=0.3, random_state=42)\n",
    "estimator = AdaBoostClassifier(random_state=7, learning_rate = 0.1, n_estimators= 60)\n",
    "plot_learning_curve(estimator, title, X, y, axes=axes[:, 0], ylim=(0.9, 1.01),\n",
    "                    cv=cv, n_jobs=4)\n",
    "\n",
    "\n",
    "\n",
    "title = \"Learning Curves (SVM)\"\n",
    "cv = ShuffleSplit(n_splits=10, test_size=0.3, random_state=42)\n",
    "\n",
    "estimator = SVC(kernel='rbf',random_state=42, C = 10)\n",
    "plot_learning_curve(estimator, title, X, y, axes=axes[:, 1], ylim=(0.9, 1.01),\n",
    "                    cv=cv, n_jobs=4)\n",
    "\n",
    "\n",
    "\n",
    "plt.show()"
   ]
  },
  {
   "cell_type": "code",
   "execution_count": null,
   "metadata": {},
   "outputs": [],
   "source": []
  }
 ],
 "metadata": {
  "kernelspec": {
   "display_name": "Python 3",
   "language": "python",
   "name": "python3"
  },
  "language_info": {
   "codemirror_mode": {
    "name": "ipython",
    "version": 3
   },
   "file_extension": ".py",
   "mimetype": "text/x-python",
   "name": "python",
   "nbconvert_exporter": "python",
   "pygments_lexer": "ipython3",
   "version": "3.8.5"
  }
 },
 "nbformat": 4,
 "nbformat_minor": 4
}
