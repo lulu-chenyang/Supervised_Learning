{
 "cells": [
  {
   "cell_type": "code",
   "execution_count": 3,
   "metadata": {},
   "outputs": [],
   "source": [
    "import seaborn as sns\n",
    "import pandas as pd\n",
    "import numpy as np\n",
    "import sklearn\n",
    "from sklearn.metrics import classification_report,confusion_matrix,accuracy_score\n",
    "from sklearn.model_selection import train_test_split\n",
    "import matplotlib.pyplot as plt\n",
    "\n",
    "import keras\n",
    "from keras import Sequential\n",
    "from keras.models import Sequential\n",
    "from keras.optimizers import SGD,Adam,Adagrad\n",
    "from keras.layers import InputLayer, Dense \n",
    "%matplotlib inline\n",
    "\n",
    "from keras.wrappers.scikit_learn import KerasClassifier\n",
    "from sklearn.model_selection import cross_val_score,KFold\n",
    "from sklearn.preprocessing import StandardScaler\n",
    "\n",
    "from sklearn.tree import DecisionTreeClassifier # Import Decision Tree Classifier\n",
    "from sklearn.model_selection import train_test_split # Import train_test_split function\n",
    "from sklearn import metrics #Import scikit-learn metrics module for accuracy calculation\n",
    "\n",
    "# https://www.kaggle.com/aliounediop/randomforest-92-and-neuralnetwork-81\n"
   ]
  },
  {
   "cell_type": "code",
   "execution_count": 4,
   "metadata": {},
   "outputs": [],
   "source": [
    "df=pd.read_csv('diabetes.csv')"
   ]
  },
  {
   "cell_type": "code",
   "execution_count": 5,
   "metadata": {},
   "outputs": [
    {
     "data": {
      "text/html": [
       "<div>\n",
       "<style scoped>\n",
       "    .dataframe tbody tr th:only-of-type {\n",
       "        vertical-align: middle;\n",
       "    }\n",
       "\n",
       "    .dataframe tbody tr th {\n",
       "        vertical-align: top;\n",
       "    }\n",
       "\n",
       "    .dataframe thead th {\n",
       "        text-align: right;\n",
       "    }\n",
       "</style>\n",
       "<table border=\"1\" class=\"dataframe\">\n",
       "  <thead>\n",
       "    <tr style=\"text-align: right;\">\n",
       "      <th></th>\n",
       "      <th>Pregnancies</th>\n",
       "      <th>Glucose</th>\n",
       "      <th>BloodPressure</th>\n",
       "      <th>SkinThickness</th>\n",
       "      <th>Insulin</th>\n",
       "      <th>BMI</th>\n",
       "      <th>DiabetesPedigreeFunction</th>\n",
       "      <th>Age</th>\n",
       "      <th>Outcome</th>\n",
       "    </tr>\n",
       "  </thead>\n",
       "  <tbody>\n",
       "    <tr>\n",
       "      <th>0</th>\n",
       "      <td>6</td>\n",
       "      <td>148</td>\n",
       "      <td>72</td>\n",
       "      <td>35</td>\n",
       "      <td>0</td>\n",
       "      <td>33.6</td>\n",
       "      <td>0.627</td>\n",
       "      <td>50</td>\n",
       "      <td>1</td>\n",
       "    </tr>\n",
       "    <tr>\n",
       "      <th>1</th>\n",
       "      <td>1</td>\n",
       "      <td>85</td>\n",
       "      <td>66</td>\n",
       "      <td>29</td>\n",
       "      <td>0</td>\n",
       "      <td>26.6</td>\n",
       "      <td>0.351</td>\n",
       "      <td>31</td>\n",
       "      <td>0</td>\n",
       "    </tr>\n",
       "    <tr>\n",
       "      <th>2</th>\n",
       "      <td>8</td>\n",
       "      <td>183</td>\n",
       "      <td>64</td>\n",
       "      <td>0</td>\n",
       "      <td>0</td>\n",
       "      <td>23.3</td>\n",
       "      <td>0.672</td>\n",
       "      <td>32</td>\n",
       "      <td>1</td>\n",
       "    </tr>\n",
       "    <tr>\n",
       "      <th>3</th>\n",
       "      <td>1</td>\n",
       "      <td>89</td>\n",
       "      <td>66</td>\n",
       "      <td>23</td>\n",
       "      <td>94</td>\n",
       "      <td>28.1</td>\n",
       "      <td>0.167</td>\n",
       "      <td>21</td>\n",
       "      <td>0</td>\n",
       "    </tr>\n",
       "    <tr>\n",
       "      <th>4</th>\n",
       "      <td>0</td>\n",
       "      <td>137</td>\n",
       "      <td>40</td>\n",
       "      <td>35</td>\n",
       "      <td>168</td>\n",
       "      <td>43.1</td>\n",
       "      <td>2.288</td>\n",
       "      <td>33</td>\n",
       "      <td>1</td>\n",
       "    </tr>\n",
       "  </tbody>\n",
       "</table>\n",
       "</div>"
      ],
      "text/plain": [
       "   Pregnancies  Glucose  BloodPressure  SkinThickness  Insulin   BMI  \\\n",
       "0            6      148             72             35        0  33.6   \n",
       "1            1       85             66             29        0  26.6   \n",
       "2            8      183             64              0        0  23.3   \n",
       "3            1       89             66             23       94  28.1   \n",
       "4            0      137             40             35      168  43.1   \n",
       "\n",
       "   DiabetesPedigreeFunction  Age  Outcome  \n",
       "0                     0.627   50        1  \n",
       "1                     0.351   31        0  \n",
       "2                     0.672   32        1  \n",
       "3                     0.167   21        0  \n",
       "4                     2.288   33        1  "
      ]
     },
     "execution_count": 5,
     "metadata": {},
     "output_type": "execute_result"
    }
   ],
   "source": [
    "df.head()"
   ]
  },
  {
   "cell_type": "code",
   "execution_count": 6,
   "metadata": {},
   "outputs": [
    {
     "data": {
      "text/html": [
       "<div>\n",
       "<style scoped>\n",
       "    .dataframe tbody tr th:only-of-type {\n",
       "        vertical-align: middle;\n",
       "    }\n",
       "\n",
       "    .dataframe tbody tr th {\n",
       "        vertical-align: top;\n",
       "    }\n",
       "\n",
       "    .dataframe thead th {\n",
       "        text-align: right;\n",
       "    }\n",
       "</style>\n",
       "<table border=\"1\" class=\"dataframe\">\n",
       "  <thead>\n",
       "    <tr style=\"text-align: right;\">\n",
       "      <th></th>\n",
       "      <th>Pregnancies</th>\n",
       "      <th>Glucose</th>\n",
       "      <th>BloodPressure</th>\n",
       "      <th>SkinThickness</th>\n",
       "      <th>Insulin</th>\n",
       "      <th>BMI</th>\n",
       "      <th>DiabetesPedigreeFunction</th>\n",
       "      <th>Age</th>\n",
       "      <th>Outcome</th>\n",
       "    </tr>\n",
       "  </thead>\n",
       "  <tbody>\n",
       "    <tr>\n",
       "      <th>count</th>\n",
       "      <td>768.000000</td>\n",
       "      <td>768.000000</td>\n",
       "      <td>768.000000</td>\n",
       "      <td>768.000000</td>\n",
       "      <td>768.000000</td>\n",
       "      <td>768.000000</td>\n",
       "      <td>768.000000</td>\n",
       "      <td>768.000000</td>\n",
       "      <td>768.000000</td>\n",
       "    </tr>\n",
       "    <tr>\n",
       "      <th>mean</th>\n",
       "      <td>3.845052</td>\n",
       "      <td>120.894531</td>\n",
       "      <td>69.105469</td>\n",
       "      <td>20.536458</td>\n",
       "      <td>79.799479</td>\n",
       "      <td>31.992578</td>\n",
       "      <td>0.471876</td>\n",
       "      <td>33.240885</td>\n",
       "      <td>0.348958</td>\n",
       "    </tr>\n",
       "    <tr>\n",
       "      <th>std</th>\n",
       "      <td>3.369578</td>\n",
       "      <td>31.972618</td>\n",
       "      <td>19.355807</td>\n",
       "      <td>15.952218</td>\n",
       "      <td>115.244002</td>\n",
       "      <td>7.884160</td>\n",
       "      <td>0.331329</td>\n",
       "      <td>11.760232</td>\n",
       "      <td>0.476951</td>\n",
       "    </tr>\n",
       "    <tr>\n",
       "      <th>min</th>\n",
       "      <td>0.000000</td>\n",
       "      <td>0.000000</td>\n",
       "      <td>0.000000</td>\n",
       "      <td>0.000000</td>\n",
       "      <td>0.000000</td>\n",
       "      <td>0.000000</td>\n",
       "      <td>0.078000</td>\n",
       "      <td>21.000000</td>\n",
       "      <td>0.000000</td>\n",
       "    </tr>\n",
       "    <tr>\n",
       "      <th>25%</th>\n",
       "      <td>1.000000</td>\n",
       "      <td>99.000000</td>\n",
       "      <td>62.000000</td>\n",
       "      <td>0.000000</td>\n",
       "      <td>0.000000</td>\n",
       "      <td>27.300000</td>\n",
       "      <td>0.243750</td>\n",
       "      <td>24.000000</td>\n",
       "      <td>0.000000</td>\n",
       "    </tr>\n",
       "    <tr>\n",
       "      <th>50%</th>\n",
       "      <td>3.000000</td>\n",
       "      <td>117.000000</td>\n",
       "      <td>72.000000</td>\n",
       "      <td>23.000000</td>\n",
       "      <td>30.500000</td>\n",
       "      <td>32.000000</td>\n",
       "      <td>0.372500</td>\n",
       "      <td>29.000000</td>\n",
       "      <td>0.000000</td>\n",
       "    </tr>\n",
       "    <tr>\n",
       "      <th>75%</th>\n",
       "      <td>6.000000</td>\n",
       "      <td>140.250000</td>\n",
       "      <td>80.000000</td>\n",
       "      <td>32.000000</td>\n",
       "      <td>127.250000</td>\n",
       "      <td>36.600000</td>\n",
       "      <td>0.626250</td>\n",
       "      <td>41.000000</td>\n",
       "      <td>1.000000</td>\n",
       "    </tr>\n",
       "    <tr>\n",
       "      <th>max</th>\n",
       "      <td>17.000000</td>\n",
       "      <td>199.000000</td>\n",
       "      <td>122.000000</td>\n",
       "      <td>99.000000</td>\n",
       "      <td>846.000000</td>\n",
       "      <td>67.100000</td>\n",
       "      <td>2.420000</td>\n",
       "      <td>81.000000</td>\n",
       "      <td>1.000000</td>\n",
       "    </tr>\n",
       "  </tbody>\n",
       "</table>\n",
       "</div>"
      ],
      "text/plain": [
       "       Pregnancies     Glucose  BloodPressure  SkinThickness     Insulin  \\\n",
       "count   768.000000  768.000000     768.000000     768.000000  768.000000   \n",
       "mean      3.845052  120.894531      69.105469      20.536458   79.799479   \n",
       "std       3.369578   31.972618      19.355807      15.952218  115.244002   \n",
       "min       0.000000    0.000000       0.000000       0.000000    0.000000   \n",
       "25%       1.000000   99.000000      62.000000       0.000000    0.000000   \n",
       "50%       3.000000  117.000000      72.000000      23.000000   30.500000   \n",
       "75%       6.000000  140.250000      80.000000      32.000000  127.250000   \n",
       "max      17.000000  199.000000     122.000000      99.000000  846.000000   \n",
       "\n",
       "              BMI  DiabetesPedigreeFunction         Age     Outcome  \n",
       "count  768.000000                768.000000  768.000000  768.000000  \n",
       "mean    31.992578                  0.471876   33.240885    0.348958  \n",
       "std      7.884160                  0.331329   11.760232    0.476951  \n",
       "min      0.000000                  0.078000   21.000000    0.000000  \n",
       "25%     27.300000                  0.243750   24.000000    0.000000  \n",
       "50%     32.000000                  0.372500   29.000000    0.000000  \n",
       "75%     36.600000                  0.626250   41.000000    1.000000  \n",
       "max     67.100000                  2.420000   81.000000    1.000000  "
      ]
     },
     "execution_count": 6,
     "metadata": {},
     "output_type": "execute_result"
    }
   ],
   "source": [
    "df.describe()"
   ]
  },
  {
   "cell_type": "code",
   "execution_count": 7,
   "metadata": {},
   "outputs": [
    {
     "name": "stdout",
     "output_type": "stream",
     "text": [
      "Mushrooms dataset dimensions : (768, 9)\n"
     ]
    }
   ],
   "source": [
    "print(\"Mushrooms dataset dimensions : {}\".format(df.shape))"
   ]
  },
  {
   "cell_type": "code",
   "execution_count": 8,
   "metadata": {},
   "outputs": [
    {
     "data": {
      "text/plain": [
       "Outcome\n",
       "0    500\n",
       "1    268\n",
       "dtype: int64"
      ]
     },
     "execution_count": 8,
     "metadata": {},
     "output_type": "execute_result"
    }
   ],
   "source": [
    "df.groupby('Outcome').size()"
   ]
  },
  {
   "cell_type": "code",
   "execution_count": 9,
   "metadata": {},
   "outputs": [
    {
     "data": {
      "text/html": [
       "<div>\n",
       "<style scoped>\n",
       "    .dataframe tbody tr th:only-of-type {\n",
       "        vertical-align: middle;\n",
       "    }\n",
       "\n",
       "    .dataframe tbody tr th {\n",
       "        vertical-align: top;\n",
       "    }\n",
       "\n",
       "    .dataframe thead th {\n",
       "        text-align: right;\n",
       "    }\n",
       "</style>\n",
       "<table border=\"1\" class=\"dataframe\">\n",
       "  <thead>\n",
       "    <tr style=\"text-align: right;\">\n",
       "      <th></th>\n",
       "      <th>Pregnancies</th>\n",
       "      <th>Glucose</th>\n",
       "      <th>BloodPressure</th>\n",
       "      <th>SkinThickness</th>\n",
       "      <th>Insulin</th>\n",
       "      <th>BMI</th>\n",
       "      <th>DiabetesPedigreeFunction</th>\n",
       "      <th>Age</th>\n",
       "      <th>Outcome</th>\n",
       "    </tr>\n",
       "  </thead>\n",
       "  <tbody>\n",
       "    <tr>\n",
       "      <th>count</th>\n",
       "      <td>768.000000</td>\n",
       "      <td>768.000000</td>\n",
       "      <td>768.000000</td>\n",
       "      <td>768.000000</td>\n",
       "      <td>768.000000</td>\n",
       "      <td>768.000000</td>\n",
       "      <td>768.000000</td>\n",
       "      <td>768.000000</td>\n",
       "      <td>768.000000</td>\n",
       "    </tr>\n",
       "    <tr>\n",
       "      <th>mean</th>\n",
       "      <td>3.845052</td>\n",
       "      <td>120.894531</td>\n",
       "      <td>69.105469</td>\n",
       "      <td>20.536458</td>\n",
       "      <td>79.799479</td>\n",
       "      <td>31.992578</td>\n",
       "      <td>0.471876</td>\n",
       "      <td>33.240885</td>\n",
       "      <td>0.348958</td>\n",
       "    </tr>\n",
       "    <tr>\n",
       "      <th>std</th>\n",
       "      <td>3.369578</td>\n",
       "      <td>31.972618</td>\n",
       "      <td>19.355807</td>\n",
       "      <td>15.952218</td>\n",
       "      <td>115.244002</td>\n",
       "      <td>7.884160</td>\n",
       "      <td>0.331329</td>\n",
       "      <td>11.760232</td>\n",
       "      <td>0.476951</td>\n",
       "    </tr>\n",
       "    <tr>\n",
       "      <th>min</th>\n",
       "      <td>0.000000</td>\n",
       "      <td>0.000000</td>\n",
       "      <td>0.000000</td>\n",
       "      <td>0.000000</td>\n",
       "      <td>0.000000</td>\n",
       "      <td>0.000000</td>\n",
       "      <td>0.078000</td>\n",
       "      <td>21.000000</td>\n",
       "      <td>0.000000</td>\n",
       "    </tr>\n",
       "    <tr>\n",
       "      <th>25%</th>\n",
       "      <td>1.000000</td>\n",
       "      <td>99.000000</td>\n",
       "      <td>62.000000</td>\n",
       "      <td>0.000000</td>\n",
       "      <td>0.000000</td>\n",
       "      <td>27.300000</td>\n",
       "      <td>0.243750</td>\n",
       "      <td>24.000000</td>\n",
       "      <td>0.000000</td>\n",
       "    </tr>\n",
       "    <tr>\n",
       "      <th>50%</th>\n",
       "      <td>3.000000</td>\n",
       "      <td>117.000000</td>\n",
       "      <td>72.000000</td>\n",
       "      <td>23.000000</td>\n",
       "      <td>30.500000</td>\n",
       "      <td>32.000000</td>\n",
       "      <td>0.372500</td>\n",
       "      <td>29.000000</td>\n",
       "      <td>0.000000</td>\n",
       "    </tr>\n",
       "    <tr>\n",
       "      <th>75%</th>\n",
       "      <td>6.000000</td>\n",
       "      <td>140.250000</td>\n",
       "      <td>80.000000</td>\n",
       "      <td>32.000000</td>\n",
       "      <td>127.250000</td>\n",
       "      <td>36.600000</td>\n",
       "      <td>0.626250</td>\n",
       "      <td>41.000000</td>\n",
       "      <td>1.000000</td>\n",
       "    </tr>\n",
       "    <tr>\n",
       "      <th>max</th>\n",
       "      <td>17.000000</td>\n",
       "      <td>199.000000</td>\n",
       "      <td>122.000000</td>\n",
       "      <td>99.000000</td>\n",
       "      <td>846.000000</td>\n",
       "      <td>67.100000</td>\n",
       "      <td>2.420000</td>\n",
       "      <td>81.000000</td>\n",
       "      <td>1.000000</td>\n",
       "    </tr>\n",
       "  </tbody>\n",
       "</table>\n",
       "</div>"
      ],
      "text/plain": [
       "       Pregnancies     Glucose  BloodPressure  SkinThickness     Insulin  \\\n",
       "count   768.000000  768.000000     768.000000     768.000000  768.000000   \n",
       "mean      3.845052  120.894531      69.105469      20.536458   79.799479   \n",
       "std       3.369578   31.972618      19.355807      15.952218  115.244002   \n",
       "min       0.000000    0.000000       0.000000       0.000000    0.000000   \n",
       "25%       1.000000   99.000000      62.000000       0.000000    0.000000   \n",
       "50%       3.000000  117.000000      72.000000      23.000000   30.500000   \n",
       "75%       6.000000  140.250000      80.000000      32.000000  127.250000   \n",
       "max      17.000000  199.000000     122.000000      99.000000  846.000000   \n",
       "\n",
       "              BMI  DiabetesPedigreeFunction         Age     Outcome  \n",
       "count  768.000000                768.000000  768.000000  768.000000  \n",
       "mean    31.992578                  0.471876   33.240885    0.348958  \n",
       "std      7.884160                  0.331329   11.760232    0.476951  \n",
       "min      0.000000                  0.078000   21.000000    0.000000  \n",
       "25%     27.300000                  0.243750   24.000000    0.000000  \n",
       "50%     32.000000                  0.372500   29.000000    0.000000  \n",
       "75%     36.600000                  0.626250   41.000000    1.000000  \n",
       "max     67.100000                  2.420000   81.000000    1.000000  "
      ]
     },
     "execution_count": 9,
     "metadata": {},
     "output_type": "execute_result"
    }
   ],
   "source": [
    "df.describe()"
   ]
  },
  {
   "cell_type": "code",
   "execution_count": 10,
   "metadata": {},
   "outputs": [],
   "source": [
    "#Plotting the variables using histogram\n",
    "# df.hist(figsize=(30,20))"
   ]
  },
  {
   "cell_type": "code",
   "execution_count": 11,
   "metadata": {},
   "outputs": [],
   "source": [
    "#Checking for missing values\n",
    "# df.isna().sum()"
   ]
  },
  {
   "cell_type": "code",
   "execution_count": 12,
   "metadata": {},
   "outputs": [
    {
     "data": {
      "text/html": [
       "<div>\n",
       "<style scoped>\n",
       "    .dataframe tbody tr th:only-of-type {\n",
       "        vertical-align: middle;\n",
       "    }\n",
       "\n",
       "    .dataframe tbody tr th {\n",
       "        vertical-align: top;\n",
       "    }\n",
       "\n",
       "    .dataframe thead th {\n",
       "        text-align: right;\n",
       "    }\n",
       "</style>\n",
       "<table border=\"1\" class=\"dataframe\">\n",
       "  <thead>\n",
       "    <tr style=\"text-align: right;\">\n",
       "      <th></th>\n",
       "      <th>Pregnancies</th>\n",
       "      <th>Glucose</th>\n",
       "      <th>BloodPressure</th>\n",
       "      <th>SkinThickness</th>\n",
       "      <th>Insulin</th>\n",
       "      <th>BMI</th>\n",
       "      <th>DiabetesPedigreeFunction</th>\n",
       "      <th>Age</th>\n",
       "    </tr>\n",
       "  </thead>\n",
       "  <tbody>\n",
       "    <tr>\n",
       "      <th>count</th>\n",
       "      <td>768.000000</td>\n",
       "      <td>768.000000</td>\n",
       "      <td>768.000000</td>\n",
       "      <td>768.000000</td>\n",
       "      <td>768.000000</td>\n",
       "      <td>768.000000</td>\n",
       "      <td>768.000000</td>\n",
       "      <td>768.000000</td>\n",
       "    </tr>\n",
       "    <tr>\n",
       "      <th>mean</th>\n",
       "      <td>3.845052</td>\n",
       "      <td>120.894531</td>\n",
       "      <td>69.105469</td>\n",
       "      <td>20.536458</td>\n",
       "      <td>79.799479</td>\n",
       "      <td>31.992578</td>\n",
       "      <td>0.471876</td>\n",
       "      <td>33.240885</td>\n",
       "    </tr>\n",
       "    <tr>\n",
       "      <th>std</th>\n",
       "      <td>3.369578</td>\n",
       "      <td>31.972618</td>\n",
       "      <td>19.355807</td>\n",
       "      <td>15.952218</td>\n",
       "      <td>115.244002</td>\n",
       "      <td>7.884160</td>\n",
       "      <td>0.331329</td>\n",
       "      <td>11.760232</td>\n",
       "    </tr>\n",
       "    <tr>\n",
       "      <th>min</th>\n",
       "      <td>0.000000</td>\n",
       "      <td>0.000000</td>\n",
       "      <td>0.000000</td>\n",
       "      <td>0.000000</td>\n",
       "      <td>0.000000</td>\n",
       "      <td>0.000000</td>\n",
       "      <td>0.078000</td>\n",
       "      <td>21.000000</td>\n",
       "    </tr>\n",
       "    <tr>\n",
       "      <th>25%</th>\n",
       "      <td>1.000000</td>\n",
       "      <td>99.000000</td>\n",
       "      <td>62.000000</td>\n",
       "      <td>0.000000</td>\n",
       "      <td>0.000000</td>\n",
       "      <td>27.300000</td>\n",
       "      <td>0.243750</td>\n",
       "      <td>24.000000</td>\n",
       "    </tr>\n",
       "    <tr>\n",
       "      <th>50%</th>\n",
       "      <td>3.000000</td>\n",
       "      <td>117.000000</td>\n",
       "      <td>72.000000</td>\n",
       "      <td>23.000000</td>\n",
       "      <td>30.500000</td>\n",
       "      <td>32.000000</td>\n",
       "      <td>0.372500</td>\n",
       "      <td>29.000000</td>\n",
       "    </tr>\n",
       "    <tr>\n",
       "      <th>75%</th>\n",
       "      <td>6.000000</td>\n",
       "      <td>140.250000</td>\n",
       "      <td>80.000000</td>\n",
       "      <td>32.000000</td>\n",
       "      <td>127.250000</td>\n",
       "      <td>36.600000</td>\n",
       "      <td>0.626250</td>\n",
       "      <td>41.000000</td>\n",
       "    </tr>\n",
       "    <tr>\n",
       "      <th>max</th>\n",
       "      <td>17.000000</td>\n",
       "      <td>199.000000</td>\n",
       "      <td>122.000000</td>\n",
       "      <td>99.000000</td>\n",
       "      <td>846.000000</td>\n",
       "      <td>67.100000</td>\n",
       "      <td>2.420000</td>\n",
       "      <td>81.000000</td>\n",
       "    </tr>\n",
       "  </tbody>\n",
       "</table>\n",
       "</div>"
      ],
      "text/plain": [
       "       Pregnancies     Glucose  BloodPressure  SkinThickness     Insulin  \\\n",
       "count   768.000000  768.000000     768.000000     768.000000  768.000000   \n",
       "mean      3.845052  120.894531      69.105469      20.536458   79.799479   \n",
       "std       3.369578   31.972618      19.355807      15.952218  115.244002   \n",
       "min       0.000000    0.000000       0.000000       0.000000    0.000000   \n",
       "25%       1.000000   99.000000      62.000000       0.000000    0.000000   \n",
       "50%       3.000000  117.000000      72.000000      23.000000   30.500000   \n",
       "75%       6.000000  140.250000      80.000000      32.000000  127.250000   \n",
       "max      17.000000  199.000000     122.000000      99.000000  846.000000   \n",
       "\n",
       "              BMI  DiabetesPedigreeFunction         Age  \n",
       "count  768.000000                768.000000  768.000000  \n",
       "mean    31.992578                  0.471876   33.240885  \n",
       "std      7.884160                  0.331329   11.760232  \n",
       "min      0.000000                  0.078000   21.000000  \n",
       "25%     27.300000                  0.243750   24.000000  \n",
       "50%     32.000000                  0.372500   29.000000  \n",
       "75%     36.600000                  0.626250   41.000000  \n",
       "max     67.100000                  2.420000   81.000000  "
      ]
     },
     "execution_count": 12,
     "metadata": {},
     "output_type": "execute_result"
    }
   ],
   "source": [
    "#split dataset into features and label\n",
    "X = df.drop(columns=['Outcome'])\n",
    "# X = X.drop(columns = ['veil-type'])\n",
    "y = df['Outcome']\n",
    "X.describe()"
   ]
  },
  {
   "cell_type": "code",
   "execution_count": 13,
   "metadata": {},
   "outputs": [
    {
     "name": "stdout",
     "output_type": "stream",
     "text": [
      "80\n",
      "70.0\n"
     ]
    }
   ],
   "source": [
    "#Replacing the zero-values for Blood Pressure\n",
    "import statistics\n",
    "df1 = df.loc[df['Outcome'] == 1]\n",
    "df2 = df.loc[df['Outcome'] == 0]\n",
    "df1 = df1.replace({'BloodPressure':0}, 80)\n",
    "print(statistics.mode(df1['BloodPressure']))\n",
    "df2 = df2.replace({'BloodPressure':0}, np.median(df2['BloodPressure']))\n",
    "print(statistics.median(df2['BloodPressure']))\n",
    "dataframe = [df1, df2]\n",
    "df = pd.concat(dataframe)"
   ]
  },
  {
   "cell_type": "code",
   "execution_count": 14,
   "metadata": {},
   "outputs": [
    {
     "name": "stdout",
     "output_type": "stream",
     "text": [
      "35.40479505457787\n"
     ]
    }
   ],
   "source": [
    "#Replacing the zero-values for BMI\n",
    "df1 = df.loc[df['Outcome'] == 1]\n",
    "df2 = df.loc[df['Outcome'] == 0]\n",
    "df1 = df1.replace({'BMI':0}, np.mean(df1['BMI']))\n",
    "print(np.mean(df1['BMI']))\n",
    "df2 = df2.replace({'BMI':0}, 21.7)\n",
    "\n",
    "dataframe = [df1, df2]\n",
    "df = pd.concat(dataframe)"
   ]
  },
  {
   "cell_type": "code",
   "execution_count": 15,
   "metadata": {},
   "outputs": [
    {
     "name": "stdout",
     "output_type": "stream",
     "text": [
      "140.0\n",
      "107.0\n"
     ]
    }
   ],
   "source": [
    "#Replacing the zero-values for Glucose\n",
    "df1 = df.loc[df['Outcome'] == 1]\n",
    "df2 = df.loc[df['Outcome'] == 0]\n",
    "df1 = df1.replace({'Glucose':0}, np.median(df1['Glucose']))\n",
    "print(np.median(df1['Glucose']))\n",
    "df2 = df2.replace({'Glucose':0}, 100)\n",
    "print(np.median(df2['Glucose']))\n",
    "dataframe = [df1, df2]\n",
    "df = pd.concat(dataframe)"
   ]
  },
  {
   "cell_type": "code",
   "execution_count": 16,
   "metadata": {},
   "outputs": [
    {
     "name": "stdout",
     "output_type": "stream",
     "text": [
      "152.00128090888842\n",
      "101.261824\n"
     ]
    }
   ],
   "source": [
    "#Replacing the zero-values for Insulin\n",
    "df1 = df.loc[df['Outcome'] == 1]\n",
    "df2 = df.loc[df['Outcome'] == 0]\n",
    "df1 = df1.replace({'Insulin':0}, np.mean(df1['Insulin']))\n",
    "print(np.mean(df1['Insulin']))\n",
    "df2 = df2.replace({'Insulin':0}, np.mean(df2['Insulin']))\n",
    "print(np.mean(df2['Insulin']))\n",
    "dataframe = [df1, df2]\n",
    "df = pd.concat(dataframe)"
   ]
  },
  {
   "cell_type": "code",
   "execution_count": 17,
   "metadata": {},
   "outputs": [],
   "source": [
    "#Replacing the zero-values for SkinThickness\n",
    "df1 = df.loc[df['Outcome'] == 1]\n",
    "df2 = df.loc[df['Outcome'] == 0]\n",
    "df1 = df1.replace({'SkinThickness':0}, np.median(df1['SkinThickness']))\n",
    "df2 = df2.replace({'SkinThickness':0}, np.median(df2['SkinThickness']))\n",
    "dataframe = [df1, df2]\n",
    "df = pd.concat(dataframe)"
   ]
  },
  {
   "cell_type": "code",
   "execution_count": 18,
   "metadata": {},
   "outputs": [
    {
     "name": "stdout",
     "output_type": "stream",
     "text": [
      "Number of Outliners - BloodPressure:  0\n",
      "Number of Outliners - BMI:  0\n",
      "Number of Outliners - Glucose:  0\n",
      "Number of Outliners - Insulin:  0\n",
      "Number of Outliners - SkinThickness:  0\n"
     ]
    }
   ],
   "source": [
    "print(\"Number of Outliners - BloodPressure: \", df[df.BloodPressure == 0].shape[0])\n",
    "print(\"Number of Outliners - BMI: \", df[df.BMI == 0].shape[0])\n",
    "print(\"Number of Outliners - Glucose: \", df[df.Glucose == 0].shape[0])\n",
    "print(\"Number of Outliners - Insulin: \", df[df.Insulin == 0].shape[0])\n",
    "print(\"Number of Outliners - SkinThickness: \", df[df.SkinThickness == 0].shape[0])"
   ]
  },
  {
   "cell_type": "code",
   "execution_count": 19,
   "metadata": {},
   "outputs": [],
   "source": [
    " # 70% training and 30% test\n",
    "X_train, X_test, y_train, y_test = train_test_split(X, y, test_size=0.3, random_state=42)\n",
    "#What is random_state?"
   ]
  },
  {
   "cell_type": "code",
   "execution_count": 20,
   "metadata": {},
   "outputs": [],
   "source": [
    "#Feature scaling\n",
    "\n",
    "from sklearn.preprocessing import StandardScaler\n",
    "sc = StandardScaler()\n",
    "\n",
    "X_train = sc.fit_transform(X_train)\n",
    "X_test = sc.transform(X_test)"
   ]
  },
  {
   "cell_type": "code",
   "execution_count": 21,
   "metadata": {},
   "outputs": [],
   "source": [
    "from sklearn.decomposition import PCA\n",
    "pca = PCA(n_components=2)\n",
    "\n",
    "X_train = pca.fit_transform(X_train)\n",
    "X_test = pca.transform(X_test)"
   ]
  },
  {
   "cell_type": "code",
   "execution_count": 22,
   "metadata": {},
   "outputs": [
    {
     "data": {
      "text/plain": [
       "array([[-1.70610079, -0.85479702],\n",
       "       [ 0.92739508, -0.89986165],\n",
       "       [ 1.37933242, -2.21617369],\n",
       "       ...,\n",
       "       [ 2.00256675,  0.59115341],\n",
       "       [-1.86928208, -0.87142956],\n",
       "       [-1.41806314,  0.07977445]])"
      ]
     },
     "execution_count": 22,
     "metadata": {},
     "output_type": "execute_result"
    }
   ],
   "source": [
    "X_train"
   ]
  },
  {
   "cell_type": "code",
   "execution_count": 23,
   "metadata": {},
   "outputs": [],
   "source": [
    "from sklearn.model_selection import cross_val_predict, cross_val_score\n",
    "from sklearn.metrics import confusion_matrix,classification_report,accuracy_score"
   ]
  },
  {
   "cell_type": "code",
   "execution_count": 24,
   "metadata": {},
   "outputs": [],
   "source": [
    "def print_score(classifier,X_train,y_train,X_test,y_test,train=True):\n",
    "    if train == True:\n",
    "        print(\"Training results:\\n\")\n",
    "        print('Accuracy Score: {0:.4f}\\n'.format(accuracy_score(y_train,classifier.predict(X_train))))\n",
    "        print('Classification Report:\\n{}\\n'.format(classification_report(y_train,classifier.predict(X_train))))\n",
    "        print('Confusion Matrix:\\n{}\\n'.format(confusion_matrix(y_train,classifier.predict(X_train))))\n",
    "        res = cross_val_score(classifier, X_train, y_train, n_jobs=-1, scoring='accuracy')\n",
    "        print('Average Accuracy:\\t{0:.4f}\\n'.format(res.mean()))\n",
    "        print('Standard Deviation:\\t{0:.4f}'.format(res.std()))\n",
    "    elif train == False:\n",
    "        print(\"Test results:\\n\")\n",
    "        print('Accuracy Score: {0:.4f}\\n'.format(accuracy_score(y_test,classifier.predict(X_test))))\n",
    "        print('Classification Report:\\n{}\\n'.format(classification_report(y_test,classifier.predict(X_test))))\n",
    "        print('Confusion Matrix:\\n{}\\n'.format(confusion_matrix(y_test,classifier.predict(X_test))))\n",
    "        res = cross_val_score(classifier, X_train, y_train, n_jobs=-1, scoring='accuracy')\n",
    "        print('Average Accuracy:\\t{0:.4f}\\n'.format(res.mean()))\n",
    "        print('Standard Deviation:\\t{0:.4f}'.format(res.std()))"
   ]
  },
  {
   "cell_type": "code",
   "execution_count": 25,
   "metadata": {},
   "outputs": [],
   "source": [
    "# Create Decision Tree classifer object\n",
    "classifier = DecisionTreeClassifier(criterion='entropy', max_depth = 2)\n",
    "# Train Decision Tree Classifer\n",
    "classifier = classifier.fit(X_train,y_train)"
   ]
  },
  {
   "cell_type": "code",
   "execution_count": 26,
   "metadata": {},
   "outputs": [
    {
     "name": "stdout",
     "output_type": "stream",
     "text": [
      "DT Test Accuracy: 0.6883116883116883\n"
     ]
    }
   ],
   "source": [
    "#Predict the response for test dataset\n",
    "y_pred = classifier.predict(X_test)\n",
    "# Model Accuracy, how often is the classifier correct?\n",
    "DTAccuracy = metrics.accuracy_score(y_test, y_pred)\n",
    "print(\"DT Test Accuracy:\", DTAccuracy)"
   ]
  },
  {
   "cell_type": "code",
   "execution_count": null,
   "metadata": {},
   "outputs": [],
   "source": []
  },
  {
   "cell_type": "code",
   "execution_count": 27,
   "metadata": {},
   "outputs": [],
   "source": [
    "def visualization_train(model):\n",
    "    sns.set_context(context='notebook',font_scale=2)\n",
    "    plt.figure(figsize=(16,9))\n",
    "    from matplotlib.colors import ListedColormap\n",
    "    X_set, y_set = X_train, y_train\n",
    "    X1, X2 = np.meshgrid(np.arange(start = X_set[:, 0].min() - 1, stop = X_set[:, 0].max() + 1, step = 0.01),\n",
    "                     np.arange(start = X_set[:, 1].min() - 1, stop = X_set[:, 1].max() + 1, step = 0.01))\n",
    "    plt.contourf(X1, X2, classifier.predict(np.array([X1.ravel(), X2.ravel()]).T).reshape(X1.shape), alpha = 0.6, cmap = ListedColormap(('#ff3f34', '#3c40c6')))\n",
    "    plt.xlim(X1.min(), X1.max())\n",
    "    plt.ylim(X2.min(), X2.max())\n",
    "    for i, j in enumerate(np.unique(y_set)):\n",
    "        plt.scatter(X_set[y_set == j, 0], X_set[y_set == j, 1],\n",
    "                    c = ListedColormap(('#ff3f34', '#3c40c6'))(i), label = j)\n",
    "    plt.title(\"%s Training Set\" %(model))\n",
    "    plt.xlabel('PC 1')\n",
    "    plt.ylabel('PC 2')\n",
    "    plt.legend()\n",
    "    \n",
    "def visualization_test(model):\n",
    "    sns.set_context(context='notebook',font_scale=2)\n",
    "    plt.figure(figsize=(16,9))\n",
    "    from matplotlib.colors import ListedColormap\n",
    "    X_set, y_set = X_test, y_test\n",
    "    X1, X2 = np.meshgrid(np.arange(start = X_set[:, 0].min() - 1, stop = X_set[:, 0].max() + 1, step = 0.01),\n",
    "                         np.arange(start = X_set[:, 1].min() - 1, stop = X_set[:, 1].max() + 1, step = 0.01))\n",
    "    plt.contourf(X1, X2, classifier.predict(np.array([X1.ravel(), X2.ravel()]).T).reshape(X1.shape),\n",
    "                 alpha = 0.6, cmap = ListedColormap(('#ff3f34', '#3c40c6')))\n",
    "    plt.xlim(X1.min(), X1.max())\n",
    "    plt.ylim(X2.min(), X2.max())\n",
    "    for i, j in enumerate(np.unique(y_set)):\n",
    "        plt.scatter(X_set[y_set == j, 0], X_set[y_set == j, 1],\n",
    "                    c = ListedColormap(('#ff3f34', '#3c40c6'))(i), label = j)\n",
    "    plt.title(\"%s Test Set\" %(model))\n",
    "    plt.xlabel('PC 1')\n",
    "    plt.ylabel('PC 2')\n",
    "    plt.legend()"
   ]
  },
  {
   "cell_type": "code",
   "execution_count": 28,
   "metadata": {},
   "outputs": [
    {
     "name": "stdout",
     "output_type": "stream",
     "text": [
      "Training results:\n",
      "\n",
      "Accuracy Score: 0.7318\n",
      "\n",
      "Classification Report:\n",
      "              precision    recall  f1-score   support\n",
      "\n",
      "           0       0.79      0.80      0.79       349\n",
      "           1       0.62      0.61      0.61       188\n",
      "\n",
      "    accuracy                           0.73       537\n",
      "   macro avg       0.70      0.70      0.70       537\n",
      "weighted avg       0.73      0.73      0.73       537\n",
      "\n",
      "\n",
      "Confusion Matrix:\n",
      "[[279  70]\n",
      " [ 74 114]]\n",
      "\n",
      "Average Accuracy:\t0.7224\n",
      "\n",
      "Standard Deviation:\t0.0403\n"
     ]
    }
   ],
   "source": [
    "print_score(classifier,X_train,y_train,X_test,y_test,train=True)"
   ]
  },
  {
   "cell_type": "code",
   "execution_count": 29,
   "metadata": {},
   "outputs": [],
   "source": [
    "# visualization_train('Decision Tree')"
   ]
  },
  {
   "cell_type": "code",
   "execution_count": 30,
   "metadata": {},
   "outputs": [
    {
     "name": "stdout",
     "output_type": "stream",
     "text": [
      "Test results:\n",
      "\n",
      "Accuracy Score: 0.6883\n",
      "\n",
      "Classification Report:\n",
      "              precision    recall  f1-score   support\n",
      "\n",
      "           0       0.77      0.74      0.76       151\n",
      "           1       0.55      0.59      0.57        80\n",
      "\n",
      "    accuracy                           0.69       231\n",
      "   macro avg       0.66      0.66      0.66       231\n",
      "weighted avg       0.69      0.69      0.69       231\n",
      "\n",
      "\n",
      "Confusion Matrix:\n",
      "[[112  39]\n",
      " [ 33  47]]\n",
      "\n",
      "Average Accuracy:\t0.7224\n",
      "\n",
      "Standard Deviation:\t0.0403\n"
     ]
    }
   ],
   "source": [
    "print_score(classifier,X_train,y_train,X_test,y_test,train=False)"
   ]
  },
  {
   "cell_type": "code",
   "execution_count": 31,
   "metadata": {},
   "outputs": [],
   "source": [
    "# visualization_test('Decision Tree')"
   ]
  },
  {
   "cell_type": "code",
   "execution_count": 32,
   "metadata": {},
   "outputs": [],
   "source": [
    "from sklearn.model_selection import learning_curve\n",
    "# from sklearn.svm import SVC\n",
    "from sklearn.model_selection import ShuffleSplit"
   ]
  },
  {
   "cell_type": "code",
   "execution_count": 33,
   "metadata": {},
   "outputs": [],
   "source": [
    "# train_sizes, train_scores, valid_scores = learning_curve(SVC(kernel='linear'), X, y, train_sizes=[0.6, 0.7, 0.8], cv=5)"
   ]
  },
  {
   "cell_type": "code",
   "execution_count": 34,
   "metadata": {},
   "outputs": [],
   "source": [
    "test_scores = []\n",
    "train_scores = []\n",
    "\n",
    "# how to determine the 15?\n",
    "for i in range(1, 20):\n",
    "\n",
    "    clf = DecisionTreeClassifier(criterion = 'entropy', max_depth = i)\n",
    "    clf.fit(X_train,y_train)\n",
    "    \n",
    "    train_scores.append(clf.score(X_train,y_train))\n",
    "    test_scores.append(clf.score(X_test,y_test))"
   ]
  },
  {
   "cell_type": "code",
   "execution_count": 35,
   "metadata": {},
   "outputs": [
    {
     "name": "stdout",
     "output_type": "stream",
     "text": [
      "[0.6883116883116883, 0.6883116883116883, 0.6796536796536796, 0.6406926406926406, 0.6277056277056277, 0.6363636363636364, 0.6320346320346321, 0.6320346320346321, 0.6017316017316018, 0.6363636363636364, 0.6277056277056277, 0.6493506493506493, 0.6493506493506493, 0.6103896103896104, 0.645021645021645, 0.6233766233766234, 0.6363636363636364, 0.6277056277056277, 0.6190476190476191]\n"
     ]
    }
   ],
   "source": [
    "print(test_scores)"
   ]
  },
  {
   "cell_type": "code",
   "execution_count": 36,
   "metadata": {},
   "outputs": [
    {
     "name": "stdout",
     "output_type": "stream",
     "text": [
      "Max train score 97.57914338919925 % and max_depth = [18]\n"
     ]
    }
   ],
   "source": [
    "## score that comes from testing on the same datapoints that were used for training\n",
    "max_train_score = max(train_scores)\n",
    "train_scores_ind = [i for i, v in enumerate(train_scores) if v == max_train_score]\n",
    "print('Max train score {} % and max_depth = {}'.format(max_train_score*100,list(map(lambda x: x+1, train_scores_ind))))"
   ]
  },
  {
   "cell_type": "code",
   "execution_count": 37,
   "metadata": {},
   "outputs": [
    {
     "name": "stdout",
     "output_type": "stream",
     "text": [
      "Max test score 68.83116883116884 % and max_depth = [1, 2]\n",
      "1\n"
     ]
    }
   ],
   "source": [
    "## score that comes from testing on the datapoints that were split in the beginning to be used for testing solely\n",
    "max_test_score = max(test_scores)\n",
    "test_scores_ind = [i for i, v in enumerate(test_scores) if v == max_test_score]\n",
    "print('Max test score {} % and max_depth = {}'.format(max_test_score*100,list(map(lambda x: x+1, test_scores_ind))))\n",
    "k=list(map(lambda x: x+1, test_scores_ind))[0]\n",
    "print(k)"
   ]
  },
  {
   "cell_type": "code",
   "execution_count": 38,
   "metadata": {},
   "outputs": [],
   "source": [
    "# plt.figure(figsize=(12,5))\n",
    "# p = sns.lineplot(range(1,20),train_scores,marker='*',label='Train Score')\n",
    "# p = sns.lineplot(range(1,20),test_scores,marker='o',label='Test Score')"
   ]
  },
  {
   "cell_type": "code",
   "execution_count": null,
   "metadata": {},
   "outputs": [],
   "source": []
  },
  {
   "cell_type": "code",
   "execution_count": null,
   "metadata": {},
   "outputs": [],
   "source": []
  },
  {
   "cell_type": "code",
   "execution_count": 39,
   "metadata": {},
   "outputs": [],
   "source": [
    "###NEURAL NETWORK MLP\n",
    "#https://scikit-learn.org/stable/modules/neural_networks_supervised.html#classification\n",
    "# https://scikit-learn.org/stable/modules/generated/sklearn.neural_network.MLPClassifier.html#sklearn.neural_network.MLPClassifier\n",
    "from sklearn.neural_network import MLPClassifier\n",
    "from sklearn.datasets import make_classification\n",
    "from sklearn.model_selection import train_test_split\n",
    "\n",
    "\n",
    "# X, y = make_classification(n_samples=100, random_state=42)\n",
    "# X_train, X_test, y_train, y_test = train_test_split(X, y, stratify=y,random_state=42)\n"
   ]
  },
  {
   "cell_type": "code",
   "execution_count": 40,
   "metadata": {},
   "outputs": [
    {
     "data": {
      "text/plain": [
       "MLPClassifier(activation='logistic', learning_rate_init=0.1, max_iter=300,\n",
       "              random_state=42, solver='sgd')"
      ]
     },
     "execution_count": 40,
     "metadata": {},
     "output_type": "execute_result"
    }
   ],
   "source": [
    "#Add classifier and fit the data\n",
    "classifier = MLPClassifier(solver = 'sgd', hidden_layer_sizes=(100,),random_state=42, activation = 'logistic', max_iter=300, learning_rate_init = 0.1)\n",
    "classifier.fit(X_train, y_train)\n"
   ]
  },
  {
   "cell_type": "code",
   "execution_count": 41,
   "metadata": {},
   "outputs": [],
   "source": [
    "pca = PCA(n_components=2)\n",
    "X_train = pca.fit_transform(X_train)\n",
    "X_test = pca.transform(X_test)"
   ]
  },
  {
   "cell_type": "code",
   "execution_count": 42,
   "metadata": {},
   "outputs": [
    {
     "name": "stdout",
     "output_type": "stream",
     "text": [
      "Training results:\n",
      "\n",
      "Accuracy Score: 0.7225\n",
      "\n",
      "Classification Report:\n",
      "              precision    recall  f1-score   support\n",
      "\n",
      "           0       0.75      0.86      0.80       349\n",
      "           1       0.64      0.47      0.54       188\n",
      "\n",
      "    accuracy                           0.72       537\n",
      "   macro avg       0.70      0.66      0.67       537\n",
      "weighted avg       0.71      0.72      0.71       537\n",
      "\n",
      "\n",
      "Confusion Matrix:\n",
      "[[300  49]\n",
      " [100  88]]\n",
      "\n",
      "Average Accuracy:\t0.7299\n",
      "\n",
      "Standard Deviation:\t0.0364\n"
     ]
    }
   ],
   "source": [
    "print_score(classifier,X_train,y_train,X_test,y_test,train=True)"
   ]
  },
  {
   "cell_type": "code",
   "execution_count": 43,
   "metadata": {},
   "outputs": [],
   "source": [
    "# visualization_train('MLP')"
   ]
  },
  {
   "cell_type": "code",
   "execution_count": 44,
   "metadata": {},
   "outputs": [
    {
     "name": "stdout",
     "output_type": "stream",
     "text": [
      "Test results:\n",
      "\n",
      "Accuracy Score: 0.7056\n",
      "\n",
      "Classification Report:\n",
      "              precision    recall  f1-score   support\n",
      "\n",
      "           0       0.75      0.83      0.79       151\n",
      "           1       0.60      0.46      0.52        80\n",
      "\n",
      "    accuracy                           0.71       231\n",
      "   macro avg       0.67      0.65      0.65       231\n",
      "weighted avg       0.69      0.71      0.70       231\n",
      "\n",
      "\n",
      "Confusion Matrix:\n",
      "[[126  25]\n",
      " [ 43  37]]\n",
      "\n",
      "Average Accuracy:\t0.7299\n",
      "\n",
      "Standard Deviation:\t0.0364\n"
     ]
    }
   ],
   "source": [
    "print_score(classifier,X_train,y_train,X_test,y_test,train=False)"
   ]
  },
  {
   "cell_type": "code",
   "execution_count": 45,
   "metadata": {},
   "outputs": [],
   "source": [
    "# visualization_test('MLP')"
   ]
  },
  {
   "cell_type": "code",
   "execution_count": 46,
   "metadata": {},
   "outputs": [
    {
     "name": "stdout",
     "output_type": "stream",
     "text": [
      "MPL Test Accuracy: 0.7056277056277056\n"
     ]
    }
   ],
   "source": [
    "#Predict the response for test dataset\n",
    "y_pred = classifier.predict(X_test)\n",
    "# Model Accuracy, how often is the classifier correct?\n",
    "MLPAccuracy = metrics.accuracy_score(y_test, y_pred)\n",
    "print(\"MPL Test Accuracy:\", MLPAccuracy)"
   ]
  },
  {
   "cell_type": "code",
   "execution_count": 47,
   "metadata": {},
   "outputs": [],
   "source": [
    "# # import warnings\n",
    "\n",
    "# import matplotlib.pyplot as plt\n",
    "\n",
    "# from sklearn.neural_network import MLPClassifier\n",
    "# from sklearn.preprocessing import MinMaxScaler\n",
    "# from sklearn import datasets\n",
    "# from sklearn.exceptions import ConvergenceWarning\n",
    "\n",
    "# # different learning rate schedules and momentum parameters\n",
    "\n",
    "# params = [{'solver': 'sgd', 'learning_rate': 'constant','activation': 'logistic', 'momentum': 0, 'hidden_layer_sizes':(100,),\n",
    "#            'learning_rate_init': 0.005},\n",
    "#           {'solver': 'sgd', 'learning_rate': 'constant', 'activation': 'logistic', 'momentum': 0,'hidden_layer_sizes':(100,),\n",
    "#            'learning_rate_init': 0.008},\n",
    "#           {'solver': 'sgd', 'learning_rate': 'constant','activation': 'logistic',  'momentum': 0,'hidden_layer_sizes':(100,),\n",
    "#            'learning_rate_init': 0.01},\n",
    "#           {'solver': 'sgd', 'learning_rate': 'constant','activation': 'logistic',  'momentum': 0,'hidden_layer_sizes':(100,),\n",
    "#            'learning_rate_init': 0.05},\n",
    "#           {'solver': 'sgd', 'learning_rate': 'constant','activation': 'logistic',  'momentum': 0,'hidden_layer_sizes':(100,),\n",
    "#            'learning_rate_init': 0.1}\n",
    "#          ]\n",
    "\n",
    "# labels = [\"learning-rate 0.005 logistic\", \"learning-rate 0.008\",\"learning-rate 0.01\",\"learning-rate 0.05\",\"learning-rate 0.1\"\n",
    "         \n",
    "#          ]\n",
    "\n",
    "# # The number of hidden layers\n",
    "# # https://stats.stackexchange.com/questions/181/how-to-choose-the-number-of-hidden-layers-and-nodes-in-a-feedforward-neural-netw\n",
    "\n",
    "# plot_args = [{'c': 'red', 'linestyle': '-'},\n",
    "#              {'c': 'green', 'linestyle': '-'},\n",
    "# #              {'c': 'blue', 'linestyle': '-'},\n",
    "# #              {'c': 'red', 'linestyle': '--'},\n",
    "#              {'c': 'green', 'linestyle': '--'},\n",
    "#              {'c': 'blue', 'linestyle': '--'},\n",
    "#              {'c': 'black', 'linestyle': '-'}\n",
    "#             ]\n",
    "\n",
    "\n",
    "\n",
    "\n",
    "# def plot_on_dataset(X, y, ax, name):\n",
    "#     # for each dataset, plot learning for each learning strategy\n",
    "#     print(\"\\nlearning on dataset %s\" % name)\n",
    "#     ax.set_title(name)\n",
    "\n",
    "# #     X = MinMaxScaler().fit_transform(X)\n",
    "# #fit_transform X or X test?  \n",
    "\n",
    "#     mlps = []\n",
    "# #     if name == \"Outcome\":\n",
    "# #         # digits is larger but converges fairly quickly\n",
    "# #         max_iter = 15\n",
    "# #     else:\n",
    "#     max_iter = 500\n",
    "\n",
    "#     for label, param in zip(labels, params):\n",
    "#         print(\"training: %s\" % label)\n",
    "#         mlp = MLPClassifier(random_state=42,\n",
    "#                             max_iter=max_iter, **param)\n",
    "\n",
    "#         # some parameter combinations will not converge as can be seen on the\n",
    "#         # plots so they are ignored here\n",
    "# #         with warnings.catch_warnings():\n",
    "# #             warnings.filterwarnings(\"ignore\", category=ConvergenceWarning,\n",
    "# #                                     module=\"sklearn\")\n",
    "#         mlp.fit(X_train, y_train)\n",
    "\n",
    "#         mlps.append(mlp)\n",
    "#         print(\"Testing set score: %f\" % mlp.score(X_test, y_test))\n",
    "#         print(\"Testing set loss: %f\" % mlp.loss_)\n",
    "#     for mlp, label, args in zip(mlps, labels, plot_args):\n",
    "#         ax.plot(mlp.loss_curve_, label=label, **args)\n",
    "\n",
    "\n",
    "# fig, axes = plt.subplots(1, 3, figsize=(15, 10))\n",
    "\n",
    "\n",
    "# # load / generate some toy datasets\n",
    "# # iris = datasets.load_iris()\n",
    "# # X_digits, y_digits = datasets.load_digits(return_X_y=True)\n",
    "\n",
    "# # data_sets = [(iris.data, iris.target),\n",
    "# #              (X_digits, y_digits),\n",
    "# #              datasets.make_circles(noise=0.2, factor=0.5, random_state=42),\n",
    "# #              datasets.make_moons(noise=0.3, random_state=42)]\n",
    "\n",
    "# for ax, data, name in zip(axes.ravel(), df, ['bruises', 'cap-surface', 'gill-attachment']):\n",
    "#     plot_on_dataset(X, y, ax=ax, name=name)\n",
    "\n",
    "\n",
    "# fig.legend(ax.get_lines(), labels, ncol=3, loc=\"upper center\")\n",
    "# plt.show()"
   ]
  },
  {
   "cell_type": "code",
   "execution_count": 48,
   "metadata": {},
   "outputs": [],
   "source": [
    "# scores=cross_val_score(model,X,y,cv=cv,verbose=0)\n",
    "# score.mean()"
   ]
  },
  {
   "cell_type": "code",
   "execution_count": 49,
   "metadata": {},
   "outputs": [
    {
     "data": {
      "text/plain": [
       "KNeighborsClassifier(n_neighbors=14)"
      ]
     },
     "execution_count": 49,
     "metadata": {},
     "output_type": "execute_result"
    }
   ],
   "source": [
    "#KNN Model\n",
    "from sklearn.neighbors import KNeighborsClassifier as KNN\n",
    "classifier = KNN(14)\n",
    "classifier.fit(X_train, y_train)"
   ]
  },
  {
   "cell_type": "code",
   "execution_count": 50,
   "metadata": {},
   "outputs": [
    {
     "name": "stdout",
     "output_type": "stream",
     "text": [
      "Training results:\n",
      "\n",
      "Accuracy Score: 0.7561\n",
      "\n",
      "Classification Report:\n",
      "              precision    recall  f1-score   support\n",
      "\n",
      "           0       0.77      0.89      0.83       349\n",
      "           1       0.71      0.51      0.59       188\n",
      "\n",
      "    accuracy                           0.76       537\n",
      "   macro avg       0.74      0.70      0.71       537\n",
      "weighted avg       0.75      0.76      0.74       537\n",
      "\n",
      "\n",
      "Confusion Matrix:\n",
      "[[311  38]\n",
      " [ 93  95]]\n",
      "\n",
      "Average Accuracy:\t0.7207\n",
      "\n",
      "Standard Deviation:\t0.0242\n"
     ]
    }
   ],
   "source": [
    "print_score(classifier,X_train,y_train,X_test,y_test,train=True)"
   ]
  },
  {
   "cell_type": "code",
   "execution_count": 51,
   "metadata": {},
   "outputs": [
    {
     "name": "stdout",
     "output_type": "stream",
     "text": [
      "Test results:\n",
      "\n",
      "Accuracy Score: 0.7186\n",
      "\n",
      "Classification Report:\n",
      "              precision    recall  f1-score   support\n",
      "\n",
      "           0       0.76      0.84      0.80       151\n",
      "           1       0.62      0.49      0.55        80\n",
      "\n",
      "    accuracy                           0.72       231\n",
      "   macro avg       0.69      0.66      0.67       231\n",
      "weighted avg       0.71      0.72      0.71       231\n",
      "\n",
      "\n",
      "Confusion Matrix:\n",
      "[[127  24]\n",
      " [ 41  39]]\n",
      "\n",
      "Average Accuracy:\t0.7207\n",
      "\n",
      "Standard Deviation:\t0.0242\n"
     ]
    }
   ],
   "source": [
    "print_score(classifier,X_train,y_train,X_test,y_test,train=False)\n"
   ]
  },
  {
   "cell_type": "code",
   "execution_count": 52,
   "metadata": {},
   "outputs": [],
   "source": [
    "test_scores = []\n",
    "train_scores = []\n",
    "\n",
    "# how to determine the 15?\n",
    "for i in range(1,20):\n",
    "\n",
    "    knn = KNN(i)\n",
    "    knn.fit(X_train,y_train)\n",
    "    \n",
    "    train_scores.append(knn.score(X_train,y_train))\n",
    "    test_scores.append(knn.score(X_test,y_test))"
   ]
  },
  {
   "cell_type": "code",
   "execution_count": 53,
   "metadata": {},
   "outputs": [
    {
     "name": "stdout",
     "output_type": "stream",
     "text": [
      "Max train score 100.0 % and k = [1]\n"
     ]
    }
   ],
   "source": [
    "## score that comes from testing on the same datapoints that were used for training\n",
    "max_train_score = max(train_scores)\n",
    "train_scores_ind = [i for i, v in enumerate(train_scores) if v == max_train_score]\n",
    "print('Max train score {} % and k = {}'.format(max_train_score*100,list(map(lambda x: x+1, train_scores_ind))))"
   ]
  },
  {
   "cell_type": "code",
   "execution_count": 54,
   "metadata": {},
   "outputs": [
    {
     "name": "stdout",
     "output_type": "stream",
     "text": [
      "Max test score 71.86147186147186 % and k = [14]\n",
      "14\n"
     ]
    }
   ],
   "source": [
    "## score that comes from testing on the datapoints that were split in the beginning to be used for testing solely\n",
    "max_test_score = max(test_scores)\n",
    "test_scores_ind = [i for i, v in enumerate(test_scores) if v == max_test_score]\n",
    "print('Max test score {} % and k = {}'.format(max_test_score*100,list(map(lambda x: x+1, test_scores_ind))))\n",
    "k=list(map(lambda x: x+1, test_scores_ind))[0]\n",
    "print(k)"
   ]
  },
  {
   "cell_type": "code",
   "execution_count": 55,
   "metadata": {},
   "outputs": [],
   "source": [
    "# plt.figure(figsize=(12,5))\n",
    "# p = sns.lineplot(range(1,20),train_scores,marker='*',label='Train Score')\n",
    "# p = sns.lineplot(range(1,20),test_scores,marker='o',label='Test Score')"
   ]
  },
  {
   "cell_type": "code",
   "execution_count": 56,
   "metadata": {},
   "outputs": [
    {
     "name": "stdout",
     "output_type": "stream",
     "text": [
      "KNN Test Accuracy: 0.7186147186147186\n"
     ]
    }
   ],
   "source": [
    "classifier = KNN(k)\n",
    "\n",
    "classifier.fit(X_train,y_train)\n",
    "y_pred = classifier.predict(X_test)\n",
    "KNNAccuracy = metrics.accuracy_score(y_test, y_pred)\n",
    "\n",
    "print(\"KNN Test Accuracy:\", KNNAccuracy)"
   ]
  },
  {
   "cell_type": "code",
   "execution_count": 57,
   "metadata": {},
   "outputs": [
    {
     "name": "stdout",
     "output_type": "stream",
     "text": [
      "Training results:\n",
      "\n",
      "Accuracy Score: 0.7561\n",
      "\n",
      "Classification Report:\n",
      "              precision    recall  f1-score   support\n",
      "\n",
      "           0       0.77      0.89      0.83       349\n",
      "           1       0.71      0.51      0.59       188\n",
      "\n",
      "    accuracy                           0.76       537\n",
      "   macro avg       0.74      0.70      0.71       537\n",
      "weighted avg       0.75      0.76      0.74       537\n",
      "\n",
      "\n",
      "Confusion Matrix:\n",
      "[[311  38]\n",
      " [ 93  95]]\n",
      "\n",
      "Average Accuracy:\t0.7207\n",
      "\n",
      "Standard Deviation:\t0.0242\n"
     ]
    }
   ],
   "source": [
    "print_score(classifier,X_train,y_train,X_test,y_test,train=True)"
   ]
  },
  {
   "cell_type": "code",
   "execution_count": 58,
   "metadata": {},
   "outputs": [
    {
     "name": "stdout",
     "output_type": "stream",
     "text": [
      "Test results:\n",
      "\n",
      "Accuracy Score: 0.7186\n",
      "\n",
      "Classification Report:\n",
      "              precision    recall  f1-score   support\n",
      "\n",
      "           0       0.76      0.84      0.80       151\n",
      "           1       0.62      0.49      0.55        80\n",
      "\n",
      "    accuracy                           0.72       231\n",
      "   macro avg       0.69      0.66      0.67       231\n",
      "weighted avg       0.71      0.72      0.71       231\n",
      "\n",
      "\n",
      "Confusion Matrix:\n",
      "[[127  24]\n",
      " [ 41  39]]\n",
      "\n",
      "Average Accuracy:\t0.7207\n",
      "\n",
      "Standard Deviation:\t0.0242\n"
     ]
    }
   ],
   "source": [
    "print_score(classifier,X_train,y_train,X_test,y_test,train=False)"
   ]
  },
  {
   "cell_type": "code",
   "execution_count": 59,
   "metadata": {},
   "outputs": [],
   "source": [
    "# visualization_train('K-NN')"
   ]
  },
  {
   "cell_type": "code",
   "execution_count": 60,
   "metadata": {},
   "outputs": [],
   "source": [
    "# visualization_test('K-NN')\n"
   ]
  },
  {
   "cell_type": "code",
   "execution_count": 61,
   "metadata": {},
   "outputs": [],
   "source": [
    "# # ROC-AUC \n",
    "# # ROC (Receiver Operating Characteristic) Curve tells us about how good the model can distinguish between two things (e.g If a patient has a disease or no). Better models can accurately distinguish between the two. Whereas, a poor model will have difficulties in distinguishing between the two\n",
    "\n",
    "# # Well Explained in this video: https://www.youtube.com/watch?v=OAl6eAyP-yo\n",
    "\n",
    "# from sklearn.metrics import roc_curve\n",
    "# y_pred_proba = knn.predict_proba(X_test)[:,1]\n",
    "# fpr, tpr, thresholds = roc_curve(y_test, y_pred_proba)"
   ]
  },
  {
   "cell_type": "code",
   "execution_count": null,
   "metadata": {},
   "outputs": [],
   "source": []
  },
  {
   "cell_type": "code",
   "execution_count": 62,
   "metadata": {},
   "outputs": [],
   "source": [
    "# #Ensemble Learning - Boosting\n",
    "# # https://towardsdatascience.com/ensemble-learning-using-scikit-learn-85c4531ff86a\n",
    "\n",
    "# # https://machinelearningmastery.com/ensemble-machine-learning-algorithms-python-scikit-learn/\n",
    "# from sklearn import model_selection\n",
    "# from sklearn.ensemble import GradientBoostingClassifier\n",
    "\n",
    "# # seed = 7\n",
    "# num_trees = 100\n",
    "# kfold = model_selection.KFold(n_splits=10, random_state=42,shuffle=True)\n",
    "# classifier = GradientBoostingClassifier(random_state=42, learning_rate = 0.1)\n",
    "# # results = model_selection.cross_val_score(classifier, X, y, cv=kfold)\n",
    "# # print(results)\n",
    "# classifier.fit(X_train,y_train)\n",
    "# y_pred = classifier.predict(X_test)\n",
    "# EAccuracy = metrics.accuracy_score(y_test, y_pred)\n",
    "\n",
    "# print(\"Ensemble Test Accuracy:\", EAccuracy)"
   ]
  },
  {
   "cell_type": "code",
   "execution_count": null,
   "metadata": {},
   "outputs": [],
   "source": [
    "\n"
   ]
  },
  {
   "cell_type": "code",
   "execution_count": 63,
   "metadata": {},
   "outputs": [],
   "source": [
    "# print(results.mean())"
   ]
  },
  {
   "cell_type": "code",
   "execution_count": 64,
   "metadata": {},
   "outputs": [
    {
     "name": "stdout",
     "output_type": "stream",
     "text": [
      "Training results:\n",
      "\n",
      "Accuracy Score: 0.7561\n",
      "\n",
      "Classification Report:\n",
      "              precision    recall  f1-score   support\n",
      "\n",
      "           0       0.77      0.89      0.83       349\n",
      "           1       0.71      0.51      0.59       188\n",
      "\n",
      "    accuracy                           0.76       537\n",
      "   macro avg       0.74      0.70      0.71       537\n",
      "weighted avg       0.75      0.76      0.74       537\n",
      "\n",
      "\n",
      "Confusion Matrix:\n",
      "[[311  38]\n",
      " [ 93  95]]\n",
      "\n",
      "Average Accuracy:\t0.7207\n",
      "\n",
      "Standard Deviation:\t0.0242\n"
     ]
    }
   ],
   "source": [
    "print_score(classifier,X_train,y_train,X_test,y_test,train=True)"
   ]
  },
  {
   "cell_type": "code",
   "execution_count": 65,
   "metadata": {},
   "outputs": [
    {
     "name": "stdout",
     "output_type": "stream",
     "text": [
      "Test results:\n",
      "\n",
      "Accuracy Score: 0.7186\n",
      "\n",
      "Classification Report:\n",
      "              precision    recall  f1-score   support\n",
      "\n",
      "           0       0.76      0.84      0.80       151\n",
      "           1       0.62      0.49      0.55        80\n",
      "\n",
      "    accuracy                           0.72       231\n",
      "   macro avg       0.69      0.66      0.67       231\n",
      "weighted avg       0.71      0.72      0.71       231\n",
      "\n",
      "\n",
      "Confusion Matrix:\n",
      "[[127  24]\n",
      " [ 41  39]]\n",
      "\n",
      "Average Accuracy:\t0.7207\n",
      "\n",
      "Standard Deviation:\t0.0242\n"
     ]
    }
   ],
   "source": [
    "print_score(classifier,X_train,y_train,X_test,y_test,train=False)"
   ]
  },
  {
   "cell_type": "code",
   "execution_count": 66,
   "metadata": {},
   "outputs": [],
   "source": [
    "# visualization_train('Ensemble')"
   ]
  },
  {
   "cell_type": "code",
   "execution_count": 67,
   "metadata": {},
   "outputs": [],
   "source": [
    "# visualization_test('Ensemble')"
   ]
  },
  {
   "cell_type": "code",
   "execution_count": 99,
   "metadata": {},
   "outputs": [
    {
     "name": "stdout",
     "output_type": "stream",
     "text": [
      "Ensemble Test Accuracy: 0.696969696969697\n"
     ]
    }
   ],
   "source": [
    "from sklearn.ensemble import AdaBoostClassifier\n",
    "\n",
    "classifier = AdaBoostClassifier(n_estimators=120, learning_rate=0.01)\n",
    "classifier.fit(X_train, y_train)\n",
    "\n",
    "y_pred = classifier.predict(X_test)\n",
    "EAccuracy = metrics.accuracy_score(y_test, y_pred)\n",
    "\n",
    "print(\"Ensemble Test Accuracy:\", EAccuracy)"
   ]
  },
  {
   "cell_type": "code",
   "execution_count": 100,
   "metadata": {},
   "outputs": [
    {
     "name": "stdout",
     "output_type": "stream",
     "text": [
      "Training results:\n",
      "\n",
      "Accuracy Score: 0.7412\n",
      "\n",
      "Classification Report:\n",
      "              precision    recall  f1-score   support\n",
      "\n",
      "           0       0.74      0.92      0.82       349\n",
      "           1       0.74      0.40      0.52       188\n",
      "\n",
      "    accuracy                           0.74       537\n",
      "   macro avg       0.74      0.66      0.67       537\n",
      "weighted avg       0.74      0.74      0.72       537\n",
      "\n",
      "\n",
      "Confusion Matrix:\n",
      "[[322  27]\n",
      " [112  76]]\n",
      "\n",
      "Average Accuracy:\t0.7039\n",
      "\n",
      "Standard Deviation:\t0.0231\n",
      "Test results:\n",
      "\n",
      "Accuracy Score: 0.6970\n",
      "\n",
      "Classification Report:\n",
      "              precision    recall  f1-score   support\n",
      "\n",
      "           0       0.73      0.86      0.79       151\n",
      "           1       0.60      0.39      0.47        80\n",
      "\n",
      "    accuracy                           0.70       231\n",
      "   macro avg       0.66      0.62      0.63       231\n",
      "weighted avg       0.68      0.70      0.68       231\n",
      "\n",
      "\n",
      "Confusion Matrix:\n",
      "[[130  21]\n",
      " [ 49  31]]\n",
      "\n",
      "Average Accuracy:\t0.7039\n",
      "\n",
      "Standard Deviation:\t0.0231\n"
     ]
    }
   ],
   "source": [
    "print_score(classifier,X_train,y_train,X_test,y_test,train=True)\n",
    "print_score(classifier,X_train,y_train,X_test,y_test,train=False)"
   ]
  },
  {
   "cell_type": "code",
   "execution_count": 101,
   "metadata": {},
   "outputs": [],
   "source": [
    "test_scores = []\n",
    "train_scores = []\n",
    "\n",
    "\n",
    "for i in [100, 110, 120, 130, 140, 150, 160]:\n",
    "\n",
    "    abc = AdaBoostClassifier(n_estimators=i)\n",
    "    abc.fit(X_train, y_train)\n",
    "    \n",
    "    train_scores.append(abc.score(X_train,y_train))\n",
    "    test_scores.append(abc.score(X_test,y_test))\n"
   ]
  },
  {
   "cell_type": "code",
   "execution_count": 102,
   "metadata": {},
   "outputs": [
    {
     "name": "stdout",
     "output_type": "stream",
     "text": [
      "[0.6753246753246753, 0.683982683982684, 0.6883116883116883, 0.670995670995671, 0.683982683982684, 0.6796536796536796, 0.683982683982684]\n"
     ]
    }
   ],
   "source": [
    "print(test_scores)"
   ]
  },
  {
   "cell_type": "code",
   "execution_count": 103,
   "metadata": {},
   "outputs": [
    {
     "name": "stdout",
     "output_type": "stream",
     "text": [
      "Max train score 83.79888268156425 % and k = [6, 7]\n"
     ]
    }
   ],
   "source": [
    "## score that comes from testing on the same datapoints that were used for training\n",
    "max_train_score = max(train_scores)\n",
    "train_scores_ind = [i for i, v in enumerate(train_scores) if v == max_train_score]\n",
    "print('Max train score {} % and k = {}'.format(max_train_score*100,list(map(lambda x: x+1, train_scores_ind))))"
   ]
  },
  {
   "cell_type": "code",
   "execution_count": 104,
   "metadata": {},
   "outputs": [
    {
     "name": "stdout",
     "output_type": "stream",
     "text": [
      "Max test score 68.83116883116884 % and k = [3]\n",
      "3\n"
     ]
    }
   ],
   "source": [
    "## score that comes from testing on the datapoints that were split in the beginning to be used for testing solely\n",
    "max_test_score = max(test_scores)\n",
    "test_scores_ind = [i for i, v in enumerate(test_scores) if v == max_test_score]\n",
    "print('Max test score {} % and k = {}'.format(max_test_score*100,list(map(lambda x: x+1, test_scores_ind))))\n",
    "k=list(map(lambda x: x+1, test_scores_ind))[0]\n",
    "print(k)"
   ]
  },
  {
   "cell_type": "code",
   "execution_count": 105,
   "metadata": {},
   "outputs": [],
   "source": [
    "# plt.figure(figsize=(12,5))\n",
    "# p = sns.lineplot([100, 110, 120, 130, 140, 150, 160],train_scores,marker='*',label='Train Score')\n",
    "# p = sns.lineplot([100, 110, 120, 130, 140, 150, 160],test_scores,marker='o',label='Test Score')"
   ]
  },
  {
   "cell_type": "code",
   "execution_count": 106,
   "metadata": {},
   "outputs": [],
   "source": [
    "test_scores = []\n",
    "train_scores = []\n",
    "\n",
    "\n",
    "for i in [0.001, 0.01, 0.1, 1]:\n",
    "\n",
    "    abc = AdaBoostClassifier(n_estimators=60, learning_rate = i)\n",
    "    abc.fit(X_train, y_train)\n",
    "    \n",
    "    train_scores.append(abc.score(X_train,y_train))\n",
    "    test_scores.append(abc.score(X_test,y_test))\n"
   ]
  },
  {
   "cell_type": "code",
   "execution_count": 107,
   "metadata": {},
   "outputs": [
    {
     "name": "stdout",
     "output_type": "stream",
     "text": [
      "Max train score 79.88826815642457 % and k = [4]\n"
     ]
    }
   ],
   "source": [
    "## score that comes from testing on the same datapoints that were used for training\n",
    "max_train_score = max(train_scores)\n",
    "train_scores_ind = [i for i, v in enumerate(train_scores) if v == max_train_score]\n",
    "print('Max train score {} % and k = {}'.format(max_train_score*100,list(map(lambda x: x+1, train_scores_ind))))"
   ]
  },
  {
   "cell_type": "code",
   "execution_count": 108,
   "metadata": {},
   "outputs": [
    {
     "name": "stdout",
     "output_type": "stream",
     "text": [
      "Max test score 69.6969696969697 % and k = [2]\n",
      "2\n"
     ]
    }
   ],
   "source": [
    "## score that comes from testing on the datapoints that were split in the beginning to be used for testing solely\n",
    "max_test_score = max(test_scores)\n",
    "test_scores_ind = [i for i, v in enumerate(test_scores) if v == max_test_score]\n",
    "print('Max test score {} % and k = {}'.format(max_test_score*100,list(map(lambda x: x+1, test_scores_ind))))\n",
    "k=list(map(lambda x: x+1, test_scores_ind))[0]\n",
    "print(k)"
   ]
  },
  {
   "cell_type": "code",
   "execution_count": 109,
   "metadata": {},
   "outputs": [],
   "source": [
    "# plt.figure(figsize=(12,5))\n",
    "# p = sns.lineplot([0.001, 0.01, 0.1, 1],train_scores,marker='*',label='Train Score')\n",
    "# p = sns.lineplot([0.001, 0.01, 0.1, 1],test_scores,marker='o',label='Test Score')"
   ]
  },
  {
   "cell_type": "code",
   "execution_count": 110,
   "metadata": {},
   "outputs": [
    {
     "name": "stdout",
     "output_type": "stream",
     "text": [
      "SVC Test Accuracy: 0.7142857142857143\n"
     ]
    }
   ],
   "source": [
    "#SVC Classification Model rbf\n",
    "from sklearn.svm import SVC\n",
    "classifier = SVC(kernel='rbf',random_state=42, C=0.1)\n",
    "\n",
    "classifier.fit(X_train,y_train)\n",
    "y_pred = classifier.predict(X_test)\n",
    "SVCAccuracy = metrics.accuracy_score(y_test, y_pred)\n",
    "\n",
    "print(\"SVC Test Accuracy:\", SVCAccuracy)"
   ]
  },
  {
   "cell_type": "code",
   "execution_count": null,
   "metadata": {},
   "outputs": [],
   "source": []
  },
  {
   "cell_type": "code",
   "execution_count": 111,
   "metadata": {},
   "outputs": [],
   "source": [
    "test_scores = []\n",
    "train_scores = []\n",
    "\n",
    "\n",
    "for c in [0.01, 0.04, 0.07, 0.1, 1, 10]:\n",
    "\n",
    "    classifier = SVC(kernel='rbf',random_state=42, C=c)\n",
    "    classifier.fit(X_train,y_train)\n",
    "    \n",
    "    train_scores.append(classifier.score(X_train,y_train))\n",
    "    test_scores.append(classifier.score(X_test,y_test))\n"
   ]
  },
  {
   "cell_type": "code",
   "execution_count": 112,
   "metadata": {},
   "outputs": [
    {
     "name": "stdout",
     "output_type": "stream",
     "text": [
      "Max train score 74.30167597765363 % and k = [5]\n",
      "Max test score 71.42857142857143 % and k = [4]\n",
      "4\n"
     ]
    }
   ],
   "source": [
    "## score that comes from testing on the same datapoints that were used for training\n",
    "max_train_score = max(train_scores)\n",
    "train_scores_ind = [i for i, v in enumerate(train_scores) if v == max_train_score]\n",
    "print('Max train score {} % and k = {}'.format(max_train_score*100,list(map(lambda x: x+1, train_scores_ind))))\n",
    "\n",
    "## score that comes from testing on the datapoints that were split in the beginning to be used for testing solely\n",
    "max_test_score = max(test_scores)\n",
    "test_scores_ind = [i for i, v in enumerate(test_scores) if v == max_test_score]\n",
    "print('Max test score {} % and k = {}'.format(max_test_score*100,list(map(lambda x: x+1, test_scores_ind))))\n",
    "k=list(map(lambda x: x+1, test_scores_ind))[0]\n",
    "print(k)"
   ]
  },
  {
   "cell_type": "code",
   "execution_count": 113,
   "metadata": {},
   "outputs": [],
   "source": [
    "# plt.figure(figsize=(12,5))\n",
    "# p = sns.lineplot([0.01, 0.04, 0.07, 0.1, 1, 10],train_scores,marker='*',label='Train Score')\n",
    "# p = sns.lineplot([0.01, 0.04, 0.07, 0.1, 1, 10],test_scores,marker='o',label='Test Score')"
   ]
  },
  {
   "cell_type": "code",
   "execution_count": 114,
   "metadata": {},
   "outputs": [
    {
     "name": "stdout",
     "output_type": "stream",
     "text": [
      "Training results:\n",
      "\n",
      "Accuracy Score: 0.7412\n",
      "\n",
      "Classification Report:\n",
      "              precision    recall  f1-score   support\n",
      "\n",
      "           0       0.76      0.87      0.81       349\n",
      "           1       0.68      0.49      0.57       188\n",
      "\n",
      "    accuracy                           0.74       537\n",
      "   macro avg       0.72      0.68      0.69       537\n",
      "weighted avg       0.73      0.74      0.73       537\n",
      "\n",
      "\n",
      "Confusion Matrix:\n",
      "[[305  44]\n",
      " [ 95  93]]\n",
      "\n",
      "Average Accuracy:\t0.7299\n",
      "\n",
      "Standard Deviation:\t0.0325\n"
     ]
    }
   ],
   "source": [
    "print_score(classifier,X_train,y_train,X_test,y_test,train=True)\n"
   ]
  },
  {
   "cell_type": "code",
   "execution_count": 115,
   "metadata": {},
   "outputs": [
    {
     "name": "stdout",
     "output_type": "stream",
     "text": [
      "Test results:\n",
      "\n",
      "Accuracy Score: 0.7056\n",
      "\n",
      "Classification Report:\n",
      "              precision    recall  f1-score   support\n",
      "\n",
      "           0       0.74      0.85      0.79       151\n",
      "           1       0.60      0.44      0.51        80\n",
      "\n",
      "    accuracy                           0.71       231\n",
      "   macro avg       0.67      0.64      0.65       231\n",
      "weighted avg       0.69      0.71      0.69       231\n",
      "\n",
      "\n",
      "Confusion Matrix:\n",
      "[[128  23]\n",
      " [ 45  35]]\n",
      "\n",
      "Average Accuracy:\t0.7299\n",
      "\n",
      "Standard Deviation:\t0.0325\n"
     ]
    }
   ],
   "source": [
    "print_score(classifier,X_train,y_train,X_test,y_test,train=False)"
   ]
  },
  {
   "cell_type": "code",
   "execution_count": 116,
   "metadata": {},
   "outputs": [],
   "source": [
    "# visualization_train('SVC')"
   ]
  },
  {
   "cell_type": "code",
   "execution_count": 117,
   "metadata": {},
   "outputs": [],
   "source": [
    "# visualization_test('SVC')"
   ]
  },
  {
   "cell_type": "code",
   "execution_count": 118,
   "metadata": {},
   "outputs": [
    {
     "name": "stdout",
     "output_type": "stream",
     "text": [
      "SVC (Sigmoid) Test Accuracy: 0.6363636363636364\n"
     ]
    }
   ],
   "source": [
    "#SVC Classification Model sigmoid\n",
    "from sklearn.svm import SVC\n",
    "classifier = SVC(kernel='sigmoid',random_state=42)\n",
    "\n",
    "classifier.fit(X_train,y_train)\n",
    "y_pred = classifier.predict(X_test)\n",
    "SVCAccuracy_s = metrics.accuracy_score(y_test, y_pred)\n",
    "\n",
    "print(\"SVC (Sigmoid) Test Accuracy:\", SVCAccuracy_s)"
   ]
  },
  {
   "cell_type": "code",
   "execution_count": 119,
   "metadata": {},
   "outputs": [
    {
     "name": "stdout",
     "output_type": "stream",
     "text": [
      "Training results:\n",
      "\n",
      "Accuracy Score: 0.6462\n",
      "\n",
      "Classification Report:\n",
      "              precision    recall  f1-score   support\n",
      "\n",
      "           0       0.72      0.74      0.73       349\n",
      "           1       0.49      0.48      0.49       188\n",
      "\n",
      "    accuracy                           0.65       537\n",
      "   macro avg       0.61      0.61      0.61       537\n",
      "weighted avg       0.64      0.65      0.64       537\n",
      "\n",
      "\n",
      "Confusion Matrix:\n",
      "[[257  92]\n",
      " [ 98  90]]\n",
      "\n",
      "Average Accuracy:\t0.6537\n",
      "\n",
      "Standard Deviation:\t0.0306\n",
      "Test results:\n",
      "\n",
      "Accuracy Score: 0.6364\n",
      "\n",
      "Classification Report:\n",
      "              precision    recall  f1-score   support\n",
      "\n",
      "           0       0.71      0.75      0.73       151\n",
      "           1       0.47      0.42      0.45        80\n",
      "\n",
      "    accuracy                           0.64       231\n",
      "   macro avg       0.59      0.59      0.59       231\n",
      "weighted avg       0.63      0.64      0.63       231\n",
      "\n",
      "\n",
      "Confusion Matrix:\n",
      "[[113  38]\n",
      " [ 46  34]]\n",
      "\n",
      "Average Accuracy:\t0.6537\n",
      "\n",
      "Standard Deviation:\t0.0306\n"
     ]
    }
   ],
   "source": [
    "print_score(classifier,X_train,y_train,X_test,y_test,train=True)\n",
    "print_score(classifier,X_train,y_train,X_test,y_test,train=False)"
   ]
  },
  {
   "cell_type": "code",
   "execution_count": 120,
   "metadata": {},
   "outputs": [
    {
     "name": "stdout",
     "output_type": "stream",
     "text": [
      "Training results:\n",
      "\n",
      "Accuracy Score: 0.6462\n",
      "\n",
      "Classification Report:\n",
      "              precision    recall  f1-score   support\n",
      "\n",
      "           0       0.72      0.74      0.73       349\n",
      "           1       0.49      0.48      0.49       188\n",
      "\n",
      "    accuracy                           0.65       537\n",
      "   macro avg       0.61      0.61      0.61       537\n",
      "weighted avg       0.64      0.65      0.64       537\n",
      "\n",
      "\n",
      "Confusion Matrix:\n",
      "[[257  92]\n",
      " [ 98  90]]\n",
      "\n",
      "Average Accuracy:\t0.6537\n",
      "\n",
      "Standard Deviation:\t0.0306\n",
      "Test results:\n",
      "\n",
      "Accuracy Score: 0.6364\n",
      "\n",
      "Classification Report:\n",
      "              precision    recall  f1-score   support\n",
      "\n",
      "           0       0.71      0.75      0.73       151\n",
      "           1       0.47      0.42      0.45        80\n",
      "\n",
      "    accuracy                           0.64       231\n",
      "   macro avg       0.59      0.59      0.59       231\n",
      "weighted avg       0.63      0.64      0.63       231\n",
      "\n",
      "\n",
      "Confusion Matrix:\n",
      "[[113  38]\n",
      " [ 46  34]]\n",
      "\n",
      "Average Accuracy:\t0.6537\n",
      "\n",
      "Standard Deviation:\t0.0306\n"
     ]
    }
   ],
   "source": [
    "print_score(classifier,X_train,y_train,X_test,y_test,train=True)\n",
    "print_score(classifier,X_train,y_train,X_test,y_test,train=False)"
   ]
  },
  {
   "cell_type": "code",
   "execution_count": 121,
   "metadata": {},
   "outputs": [
    {
     "name": "stdout",
     "output_type": "stream",
     "text": [
      "SVC (Sigmoid) Test Accuracy: 0.7012987012987013\n"
     ]
    }
   ],
   "source": [
    "#SVC Classification Model Linear\n",
    "from sklearn.svm import SVC\n",
    "classifier = SVC(kernel='linear',random_state=42)\n",
    "\n",
    "classifier.fit(X_train,y_train)\n",
    "y_pred = classifier.predict(X_test)\n",
    "SVCAccuracy_l = metrics.accuracy_score(y_test, y_pred)\n",
    "\n",
    "print(\"SVC (Sigmoid) Test Accuracy:\", SVCAccuracy_l)"
   ]
  },
  {
   "cell_type": "code",
   "execution_count": 122,
   "metadata": {},
   "outputs": [
    {
     "data": {
      "text/plain": [
       "Text(0.5, 1.0, 'SVC kernels Prediction Accuracies Comparison')"
      ]
     },
     "execution_count": 122,
     "metadata": {},
     "output_type": "execute_result"
    },
    {
     "data": {
      "image/png": "[encoded data removed]",
      "text/plain": [
       "<Figure size 432x288 with 1 Axes>"
      ]
     },
     "metadata": {
      "needs_background": "light"
     },
     "output_type": "display_data"
    }
   ],
   "source": [
    "kernels = [SVCAccuracy, SVCAccuracy_s, SVCAccuracy_l]\n",
    "kernels_label = ('RBF', 'Sigmoid', 'Linear')\n",
    "y_pos = np.arange(len(kernels_label))\n",
    "plt.bar(y_pos, kernels, width = 0.4, align='center', alpha=0.8)\n",
    "plt.xticks(y_pos, kernels_label)\n",
    "plt.ylabel('Accuracy')\n",
    "plt.title('SVC kernels Prediction Accuracies Comparison')"
   ]
  },
  {
   "cell_type": "code",
   "execution_count": 123,
   "metadata": {},
   "outputs": [
    {
     "name": "stdout",
     "output_type": "stream",
     "text": [
      "[0.7142857142857143, 0.6363636363636364, 0.7012987012987013]\n"
     ]
    }
   ],
   "source": [
    "print(kernels)"
   ]
  },
  {
   "cell_type": "code",
   "execution_count": 124,
   "metadata": {},
   "outputs": [
    {
     "data": {
      "text/plain": [
       "Text(0.5, 1.0, 'Prediction Accuracy Comparison')"
      ]
     },
     "execution_count": 124,
     "metadata": {},
     "output_type": "execute_result"
    },
    {
     "data": {
      "image/png": "[encoded data removed]",
      "text/plain": [
       "<Figure size 1080x432 with 1 Axes>"
      ]
     },
     "metadata": {
      "needs_background": "light"
     },
     "output_type": "display_data"
    }
   ],
   "source": [
    "accuracy = [DTAccuracy, MLPAccuracy, KNNAccuracy, EAccuracy, SVCAccuracy]\n",
    "plt.figure(figsize=(15,6))\n",
    "x_label = ('DTAccuracy', 'MLPAccuracy', 'KNNAccuracy', 'EAccuracy', 'SVCAccuracy')\n",
    "y_pos = np.arange(len(x_label))\n",
    "plt.bar(y_pos, accuracy, width = 0.4, align='center', alpha=0.8)\n",
    "plt.xticks(y_pos, x_label)\n",
    "plt.ylabel('Accuracy')\n",
    "plt.title('Prediction Accuracy Comparison')"
   ]
  },
  {
   "cell_type": "code",
   "execution_count": 125,
   "metadata": {},
   "outputs": [
    {
     "name": "stdout",
     "output_type": "stream",
     "text": [
      "[0.6883116883116883, 0.7056277056277056, 0.7186147186147186, 0.696969696969697, 0.7142857142857143]\n"
     ]
    }
   ],
   "source": [
    "print(accuracy)"
   ]
  },
  {
   "cell_type": "code",
   "execution_count": null,
   "metadata": {},
   "outputs": [],
   "source": []
  },
  {
   "cell_type": "code",
   "execution_count": 126,
   "metadata": {},
   "outputs": [
    {
     "data": {
      "image/png": "[encoded data removed]",
      "text/plain": [
       "<Figure size 2160x2160 with 9 Axes>"
      ]
     },
     "metadata": {
      "needs_background": "light"
     },
     "output_type": "display_data"
    }
   ],
   "source": [
    "\n",
    "def plot_learning_curve(estimator, title, X, y, axes=None, ylim=None, cv=None,\n",
    "                        n_jobs=None, train_sizes=np.linspace(.1, 1.0, 5)):\n",
    "    \n",
    "    if axes is None:\n",
    "        _, axes = plt.subplots(1, 3, figsize=(20, 10))\n",
    "\n",
    "    axes[0].set_title(title)\n",
    "    if ylim is not None:\n",
    "        axes[0].set_ylim(*ylim)\n",
    "    axes[0].set_xlabel(\"Training examples\")\n",
    "    axes[0].set_ylabel(\"Score\")\n",
    "\n",
    "    train_sizes, train_scores, test_scores, fit_times, _ = \\\n",
    "        learning_curve(estimator, X, y, cv=cv, n_jobs=n_jobs,\n",
    "                       train_sizes=train_sizes,\n",
    "                       return_times=True)\n",
    "    train_scores_mean = np.mean(train_scores, axis=1)\n",
    "    train_scores_std = np.std(train_scores, axis=1)\n",
    "    test_scores_mean = np.mean(test_scores, axis=1)\n",
    "    test_scores_std = np.std(test_scores, axis=1)\n",
    "    fit_times_mean = np.mean(fit_times, axis=1)\n",
    "    fit_times_std = np.std(fit_times, axis=1)\n",
    "\n",
    "    # Plot learning curve\n",
    "    axes[0].grid()\n",
    "    axes[0].fill_between(train_sizes, train_scores_mean - train_scores_std,\n",
    "                         train_scores_mean + train_scores_std, alpha=0.2,\n",
    "                         color=\"r\")\n",
    "    axes[0].fill_between(train_sizes, test_scores_mean - test_scores_std,\n",
    "                         test_scores_mean + test_scores_std, alpha=0.2,\n",
    "                         color=\"g\")\n",
    "    axes[0].plot(train_sizes, train_scores_mean, 'o-', color=\"r\",\n",
    "                 label=\"Training score\")\n",
    "    axes[0].plot(train_sizes, test_scores_mean, 'o-', color=\"g\",\n",
    "                 label=\"Cross-validation score\")\n",
    "    axes[0].legend(loc=\"best\")\n",
    "\n",
    "    \n",
    "    # Plot n_samples vs fit_times\n",
    "    axes[1].grid()\n",
    "    axes[1].plot(train_sizes, fit_times_mean, 'o-')\n",
    "    axes[1].fill_between(train_sizes, fit_times_mean - fit_times_std,\n",
    "                         fit_times_mean + fit_times_std, alpha=0.1)\n",
    "    axes[1].set_xlabel(\"Training examples\")\n",
    "    axes[1].set_ylabel(\"fit_times\")\n",
    "    axes[1].set_title(\"Scalability of the model\")\n",
    "\n",
    "    \n",
    "    # Plot fit_time vs score\n",
    "    axes[2].grid()\n",
    "    axes[2].plot(fit_times_mean, test_scores_mean, 'o-')\n",
    "    axes[2].fill_between(fit_times_mean, test_scores_mean - test_scores_std,\n",
    "                         test_scores_mean + test_scores_std, alpha=0.1)\n",
    "    axes[2].set_xlabel(\"fit_times\")\n",
    "    axes[2].set_ylabel(\"Score\")\n",
    "    axes[2].set_title(\"Performance of the model\")\n",
    "\n",
    "    return plt\n",
    "\n",
    "\n",
    "fig, axes = plt.subplots(3, 3, figsize=(30, 30))\n",
    "\n",
    "title = \"Learning Curves (DT)\"\n",
    "# Cross validation with 100 iterations to get smoother mean test and train\n",
    "# score curves, each time with 30% data randomly selected as a validation set.\n",
    "cv = ShuffleSplit(n_splits=10, test_size=0.3, random_state=42)\n",
    "estimator = DecisionTreeClassifier(criterion='entropy')\n",
    "plot_learning_curve(estimator, title, X, y, axes=axes[:, 0], ylim=(0.6, 1.01),\n",
    "                    cv=cv, n_jobs=4)\n",
    "\n",
    "title = \"Learning Curves (Neural Network)\"\n",
    "cv = ShuffleSplit(n_splits=10, test_size=0.3, random_state=42)\n",
    "MLPClassifier(solver = 'sgd', hidden_layer_sizes=(100,),random_state=42, activation = 'logistic', max_iter=500)\n",
    "plot_learning_curve(estimator, title, X, y, axes=axes[:, 1], ylim=(0.6, 1.01),\n",
    "                    cv=cv, n_jobs=4)\n",
    "\n",
    "\n",
    "title = \"Learning Curves (KNN)\"\n",
    "cv = ShuffleSplit(n_splits=10, test_size=0.3, random_state=42)\n",
    "\n",
    "estimator = KNN()\n",
    "plot_learning_curve(estimator, title, X, y, axes=axes[:, 2], ylim=(0.6, 1.01),\n",
    "                    cv=cv, n_jobs=4)\n",
    "\n",
    "\n",
    "plt.show()"
   ]
  },
  {
   "cell_type": "code",
   "execution_count": 129,
   "metadata": {},
   "outputs": [
    {
     "data": {
      "image/png": "[encoded data removed]",
      "text/plain": [
       "<Figure size 2160x2160 with 9 Axes>"
      ]
     },
     "metadata": {
      "needs_background": "light"
     },
     "output_type": "display_data"
    }
   ],
   "source": [
    "def plot_learning_curve(estimator, title, X, y, axes=None, ylim=None, cv=None,\n",
    "                        n_jobs=None, train_sizes=np.linspace(.1, 1.0, 5)):\n",
    "    \n",
    "    if axes is None:\n",
    "        _, axes = plt.subplots(1, 3, figsize=(20, 10))\n",
    "\n",
    "    axes[0].set_title(title)\n",
    "    if ylim is not None:\n",
    "        axes[0].set_ylim(*ylim)\n",
    "    axes[0].set_xlabel(\"Training examples\")\n",
    "    axes[0].set_ylabel(\"Score\")\n",
    "\n",
    "    train_sizes, train_scores, test_scores, fit_times, _ = \\\n",
    "        learning_curve(estimator, X, y, cv=cv, n_jobs=n_jobs,\n",
    "                       train_sizes=train_sizes,\n",
    "                       return_times=True)\n",
    "    train_scores_mean = np.mean(train_scores, axis=1)\n",
    "    train_scores_std = np.std(train_scores, axis=1)\n",
    "    test_scores_mean = np.mean(test_scores, axis=1)\n",
    "    test_scores_std = np.std(test_scores, axis=1)\n",
    "    fit_times_mean = np.mean(fit_times, axis=1)\n",
    "    fit_times_std = np.std(fit_times, axis=1)\n",
    "\n",
    "    # Plot learning curve\n",
    "    axes[0].grid()\n",
    "    axes[0].fill_between(train_sizes, train_scores_mean - train_scores_std,\n",
    "                         train_scores_mean + train_scores_std, alpha=0.2,\n",
    "                         color=\"r\")\n",
    "    axes[0].fill_between(train_sizes, test_scores_mean - test_scores_std,\n",
    "                         test_scores_mean + test_scores_std, alpha=0.2,\n",
    "                         color=\"g\")\n",
    "    axes[0].plot(train_sizes, train_scores_mean, 'o-', color=\"r\",\n",
    "                 label=\"Training score\")\n",
    "    axes[0].plot(train_sizes, test_scores_mean, 'o-', color=\"g\",\n",
    "                 label=\"Cross-validation score\")\n",
    "    axes[0].legend(loc=\"best\")\n",
    "\n",
    "    \n",
    "    # Plot n_samples vs fit_times\n",
    "    axes[1].grid()\n",
    "    axes[1].plot(train_sizes, fit_times_mean, 'o-')\n",
    "    axes[1].fill_between(train_sizes, fit_times_mean - fit_times_std,\n",
    "                         fit_times_mean + fit_times_std, alpha=0.1)\n",
    "    axes[1].set_xlabel(\"Training examples\")\n",
    "    axes[1].set_ylabel(\"fit_times\")\n",
    "    axes[1].set_title(\"Scalability of the model\")\n",
    "\n",
    "    \n",
    "    # Plot fit_time vs score\n",
    "    axes[2].grid()\n",
    "    axes[2].plot(fit_times_mean, test_scores_mean, 'o-')\n",
    "    axes[2].fill_between(fit_times_mean, test_scores_mean - test_scores_std,\n",
    "                         test_scores_mean + test_scores_std, alpha=0.1)\n",
    "    axes[2].set_xlabel(\"fit_times\")\n",
    "    axes[2].set_ylabel(\"Score\")\n",
    "    axes[2].set_title(\"Performance of the model\")\n",
    "\n",
    "    return plt\n",
    "\n",
    "\n",
    "fig, axes = plt.subplots(3,3, figsize=(30, 30))\n",
    "\n",
    "\n",
    "title = \"Learning Curves (Ensemble)\"\n",
    "cv = ShuffleSplit(n_splits=10, test_size=0.3, random_state=42)\n",
    "estimator = AdaBoostClassifier(random_state=7, learning_rate = 0.1)\n",
    "plot_learning_curve(estimator, title, X, y, axes=axes[:, 0], ylim=(0.6, 1.01),\n",
    "                    cv=cv, n_jobs=4)\n",
    "\n",
    "\n",
    "\n",
    "title = \"Learning Curves (SVM)\"\n",
    "cv = ShuffleSplit(n_splits=10, test_size=0.3, random_state=42)\n",
    "\n",
    "estimator = SVC(kernel='rbf',random_state=42)\n",
    "plot_learning_curve(estimator, title, X, y, axes=axes[:, 1], ylim=(0.6, 1.01),\n",
    "                    cv=cv, n_jobs=4)\n",
    "\n",
    "\n",
    "\n",
    "plt.show()"
   ]
  },
  {
   "cell_type": "code",
   "execution_count": null,
   "metadata": {},
   "outputs": [],
   "source": [
    "######### Result update ###########\n",
    "\n"
   ]
  }
 ],
 "metadata": {
  "kernelspec": {
   "display_name": "Python 3",
   "language": "python",
   "name": "python3"
  },
  "language_info": {
   "codemirror_mode": {
    "name": "ipython",
    "version": 3
   },
   "file_extension": ".py",
   "mimetype": "text/x-python",
   "name": "python",
   "nbconvert_exporter": "python",
   "pygments_lexer": "ipython3",
   "version": "3.8.5"
  }
 },
 "nbformat": 4,
 "nbformat_minor": 4
}
